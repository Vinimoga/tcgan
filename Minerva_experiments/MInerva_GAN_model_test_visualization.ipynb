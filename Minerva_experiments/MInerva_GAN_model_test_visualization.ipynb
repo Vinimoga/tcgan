{
 "cells": [
  {
   "cell_type": "markdown",
   "metadata": {},
   "source": [
    "#  Minerva and Dami's model and training test\n",
    "This notebook is a test notebook to create a TCGAN model minverva-like for the purpose to insert this model onto the new GANs Module which is being updated. \n",
    "\n",
    "On this notebook is going to be presented the way Dami used the TCGAN Model (That we are calling Dami's model) and how he trained it, this is going to help us create a new TCGAN model outside this notebook, and then we are going to train it the same way we did with the Dami's model, and compare the graphs to see if it is training the same way with all the datasets.\n",
    "\n",
    "After we are going to train both models with the Minerva's GANs training infrastructure, this way, we can see if the GAN training as Dami did and as Minerva is presented are compatible and if the Minerva-like model and Dami's model are compatible.\n",
    "\n"
   ]
  },
  {
   "cell_type": "markdown",
   "metadata": {},
   "source": [
    "## Dami's training"
   ]
  },
  {
   "cell_type": "markdown",
   "metadata": {},
   "source": [
    "### Important imports"
   ]
  },
  {
   "cell_type": "code",
   "execution_count": 1,
   "metadata": {},
   "outputs": [
    {
     "name": "stderr",
     "output_type": "stream",
     "text": [
      "/home/vinicius/Documentos/HIAAC/tcgan/.venv/lib/python3.10/site-packages/tqdm/auto.py:21: TqdmWarning: IProgress not found. Please update jupyter and ipywidgets. See https://ipywidgets.readthedocs.io/en/stable/user_install.html\n",
      "  from .autonotebook import tqdm as notebook_tqdm\n"
     ]
    }
   ],
   "source": [
    "import torch\n",
    "from torch import nn\n",
    "from torch.utils.data import Dataset, DataLoader\n",
    "import torch.nn.functional as F\n",
    "import torchvision\n",
    "from torchvision import datasets\n",
    "from torchvision.transforms import ToTensor\n",
    "import torch.optim as optim\n",
    "from torchsummary import summary\n",
    "\n",
    "import plotly.express as px\n",
    "import plotly.graph_objects as go\n",
    "import numpy as np\n",
    "import pandas as pd\n",
    "import copy\n",
    "from tqdm import tqdm\n",
    "# from tqdm import tqdm_notebook as tqdm\n",
    "import time\n",
    "import os\n",
    "from scipy.spatial import distance\n",
    "from sklearn.model_selection import train_test_split\n",
    "from sklearn.neighbors import KNeighborsClassifier\n",
    "from sklearn.metrics import accuracy_score\n",
    "from sklearn.manifold import TSNE\n",
    "\n",
    "from minerva.models.nets.time_series.gans import GAN, TTSGAN_Encoder, TTSGAN_Discriminator, TTSGAN_Generator\n",
    "from minerva.data.data_module_tools import RandomDataModule\n",
    "import torch\n",
    "import lightning as L\n",
    "\n",
    "from torch.utils.data import DataLoader, TensorDataset"
   ]
  },
  {
   "cell_type": "code",
   "execution_count": 2,
   "metadata": {},
   "outputs": [
    {
     "name": "stdout",
     "output_type": "stream",
     "text": [
      "Using cpu device\n"
     ]
    }
   ],
   "source": [
    "device = (\n",
    "    \"cuda\"\n",
    "    if torch.cuda.is_available()\n",
    "    else \"mps\"\n",
    "    if torch.backends.mps.is_available()\n",
    "    else \"cpu\"\n",
    ")\n",
    "\n",
    "device = 'cpu'\n",
    "\n",
    "print(f\"Using {device} device\")"
   ]
  },
  {
   "cell_type": "code",
   "execution_count": 3,
   "metadata": {},
   "outputs": [],
   "source": [
    "n_epochs = 50"
   ]
  },
  {
   "cell_type": "markdown",
   "metadata": {},
   "source": [
    "The experiments in this notebook will proceed in this order:\n",
    "\n",
    "1. present the already stablished model from authors;\n",
    "2. train this stablished model with the training the authors suggested;\n",
    "3. present the enhanced model (for the purpose of test to adjust it to the minerva framwork);\n",
    "4. train this enhanced model with the training the author suggested;\n",
    "5. train the stablished model with the training created in the minerva framework;\n",
    "6. train the enhanced model with the training created in the minerva framework;\n",
    "\n",
    "On every step will be created a new .pth dict with both the generator and discriminator in the same file, for easy access of every step of the way, the files will have this structure:\n",
    "\n",
    "``` \n",
    "experiments/\n",
    "├── experiment_1_author_newly_untrained/\n",
    "│   ├── discriminator/\n",
    "│   └── generator/\n",
    "├── experiment_2_author_author_training/\n",
    "│   ├── discriminator/\n",
    "│   └── generator/\n",
    "├── experiment_3_enhanced_newly_untrained/\n",
    "│   ├── discriminator/\n",
    "│   └── generator/\n",
    "├── experiment_4_enhanced_author_training/\n",
    "│   ├── discriminator/\n",
    "│   └── generator/\n",
    "├── experiment_5_author_minerva_training/\n",
    "│   ├── discriminator/\n",
    "│   └── generator/\n",
    "└── experiment_6_enhanced_minerva_training/\n",
    "    ├── discriminator/\n",
    "    └── generator/\n",
    "``` \n",
    "the experiments name follow: experiment_number_model_type_training"
   ]
  },
  {
   "cell_type": "markdown",
   "metadata": {},
   "source": [
    "### Data definitions and processing"
   ]
  },
  {
   "cell_type": "code",
   "execution_count": 4,
   "metadata": {},
   "outputs": [],
   "source": [
    "#!wget https://zenodo.org/records/11992126/files/standardized_view.zip?download=1"
   ]
  },
  {
   "cell_type": "code",
   "execution_count": 5,
   "metadata": {},
   "outputs": [
    {
     "name": "stdout",
     "output_type": "stream",
     "text": [
      "Directory already exists\n"
     ]
    },
    {
     "data": {
      "text/plain": [
       "['./trained_models/1/experiment_1_author_newly_untrained',\n",
       " './trained_models/1/experiment_2_author_author_training',\n",
       " './trained_models/1/experiment_3_enhanced_newly_untrained',\n",
       " './trained_models/1/experiment_4_enhanced_author_training',\n",
       " './trained_models/1/experiment_5_author_minerva_training',\n",
       " './trained_models/1/experiment_6_enhanced_minerva_training']"
      ]
     },
     "execution_count": 5,
     "metadata": {},
     "output_type": "execute_result"
    }
   ],
   "source": [
    "SAC = ['Sit', 'Stand', 'Walk', 'Upstairs', 'Downstairs', 'Run']\n",
    "newpath = r'../../standardize_view'\n",
    "number = 2\n",
    "save_path = f'./trained_models/{number}/'\n",
    "list_of_experiments = ['experiment_1_author_newly_untrained', 'experiment_2_author_author_training',\n",
    "                       'experiment_3_enhanced_newly_untrained', 'experiment_4_enhanced_author_training',\n",
    "                       'experiment_5_author_minerva_training', 'experiment_6_enhanced_minerva_training']\n",
    "experiment_path_list = [save_path + experiment for experiment in list_of_experiments]\n",
    "if os.path.exists(newpath):\n",
    "   print(\"Directory already exists\")\n",
    "else:\n",
    "    os.makedirs(newpath)\n",
    "    print(\"Directory created\")\n",
    "    !unzip ../../standardized_view.zip?download=1 -d standardize_view\n",
    "   \n",
    "experiment_path_list"
   ]
  },
  {
   "cell_type": "code",
   "execution_count": 6,
   "metadata": {},
   "outputs": [],
   "source": [
    "def save_model(generator, discriminator, ID, path_list = experiment_path_list):\n",
    "    dict = {'gen_state_dict': generator.state_dict(),\n",
    "        'dis_state_dict': discriminator.state_dict()}\n",
    "    if not os.path.isdir(path_list[ID]):\n",
    "        print('creating directory', path_list[ID])\n",
    "        os.makedirs(path_list[ID])\n",
    "\n",
    "    print('saving model in ', path_list[ID] + '/model.pth')\n",
    "    torch.save(dict, path_list[ID] + '/model.pth')"
   ]
  },
  {
   "cell_type": "code",
   "execution_count": 7,
   "metadata": {},
   "outputs": [
    {
     "data": {
      "text/plain": [
       "['KuHar', 'MotionSense', 'RealWorld_thigh', 'RealWorld_waist', 'UCI', 'WISDM']"
      ]
     },
     "execution_count": 7,
     "metadata": {},
     "output_type": "execute_result"
    }
   ],
   "source": [
    "dataNames = os.listdir(newpath)\n",
    "dataNames.sort()\n",
    "dataNames"
   ]
  },
  {
   "cell_type": "code",
   "execution_count": 8,
   "metadata": {},
   "outputs": [
    {
     "name": "stdout",
     "output_type": "stream",
     "text": [
      "KuHar\n",
      "MotionSense\n",
      "RealWorld_thigh\n",
      "RealWorld_waist\n",
      "UCI\n",
      "WISDM\n"
     ]
    },
    {
     "data": {
      "text/plain": [
       "(36788, 6, 60)"
      ]
     },
     "execution_count": 8,
     "metadata": {},
     "output_type": "execute_result"
    }
   ],
   "source": [
    "X = []\n",
    "for dataName in dataNames:\n",
    "    print(dataName)\n",
    "    dfTr = pd.read_csv(newpath + '/' + dataName + '/train.csv')\n",
    "    X_tr = dfTr.values[:,:360].reshape(-1,6,60)\n",
    "    # y_tr = dfTr.values[:,-1].astype(np.int32)\n",
    "    X.append(X_tr)\n",
    "X = np.concatenate(X, axis=0)\n",
    "X.shape"
   ]
  },
  {
   "cell_type": "markdown",
   "metadata": {},
   "source": [
    "### Data vizualization"
   ]
  },
  {
   "cell_type": "code",
   "execution_count": 9,
   "metadata": {},
   "outputs": [
    {
     "data": {
      "image/png": "[encoded data removed]",
      "text/plain": [
       "<Figure size 1200x600 with 1 Axes>"
      ]
     },
     "metadata": {},
     "output_type": "display_data"
    }
   ],
   "source": [
    "import matplotlib.pyplot as plt\n",
    "\n",
    "# Select the specific data point\n",
    "data_point = X[2078]\n",
    "\n",
    "# Plot the data point\n",
    "plt.figure(figsize=(12, 6))\n",
    "for i in range(data_point.shape[0]):\n",
    "    plt.plot(data_point[i], label=f'Dimension {i+1}')\n",
    "plt.title('Data Point 2078')\n",
    "plt.xlabel('Time')\n",
    "plt.ylabel('Value')\n",
    "plt.legend()\n",
    "plt.show()"
   ]
  },
  {
   "cell_type": "markdown",
   "metadata": {},
   "source": [
    "### Important Functions and definitions"
   ]
  },
  {
   "cell_type": "markdown",
   "metadata": {},
   "source": [
    "#### Network constants"
   ]
  },
  {
   "cell_type": "code",
   "execution_count": 10,
   "metadata": {},
   "outputs": [
    {
     "data": {
      "text/plain": [
       "([128, 64, 32, 6], [4, 8, 15, 30, 60], (60, 6), 100)"
      ]
     },
     "execution_count": 10,
     "metadata": {},
     "output_type": "execute_result"
    }
   ],
   "source": [
    "input_shape = (60,6)\n",
    "generated_sample_shape = input_shape\n",
    "noise_shape = 100\n",
    "input_layer = noise_shape\n",
    "\n",
    "n_layers = 4\n",
    "kernel_size = 10\n",
    "strides = 2\n",
    "g_units_base=32\n",
    "\n",
    "#Definições fixas para o modelo (Pode ser gerado pelo próprio modelo)\n",
    "steps = generated_sample_shape[0]\n",
    "layer_steps = [steps]\n",
    "for i in range(n_layers):\n",
    "    layer_steps.append(int(np.ceil(float(layer_steps[-1]) / float(strides))))\n",
    "layer_steps.reverse()\n",
    "\n",
    "conv_units = []\n",
    "if n_layers > 1:\n",
    "    conv_units.append(g_units_base)\n",
    "    for _ in range(n_layers - 2):  # minus the first and the last layers\n",
    "        conv_units.append(conv_units[-1] * 2)\n",
    "conv_units.reverse()\n",
    "# the last layer must be aligned to the number of dimensions of input.\n",
    "conv_units.append(generated_sample_shape[-1])\n",
    "\n",
    "conv_units, layer_steps, input_shape, input_layer"
   ]
  },
  {
   "cell_type": "code",
   "execution_count": 11,
   "metadata": {},
   "outputs": [],
   "source": [
    "units = [32]\n",
    "for _ in range(n_layers - 1):  # exclude the first layer.\n",
    "    units.append(units[-1] * 2)\n",
    "\n"
   ]
  },
  {
   "cell_type": "code",
   "execution_count": 12,
   "metadata": {},
   "outputs": [
    {
     "name": "stdout",
     "output_type": "stream",
     "text": [
      "input shape: 100\n",
      "units: [32, 64, 128, 256]\n",
      "conv_units: [128, 64, 32, 6]\n",
      "layer_steps: [4, 8, 15, 30, 60]\n"
     ]
    }
   ],
   "source": [
    "print('input shape:', input_layer)\n",
    "print('units:', units)\n",
    "print('conv_units:', conv_units)\n",
    "print('layer_steps:', layer_steps)"
   ]
  },
  {
   "cell_type": "markdown",
   "metadata": {},
   "source": [
    "#### Network definition"
   ]
  },
  {
   "cell_type": "code",
   "execution_count": 13,
   "metadata": {},
   "outputs": [],
   "source": [
    "class Genera(nn.Module):\n",
    "    def __init__(self):\n",
    "        super().__init__()\n",
    "        self.l1 = nn.Linear(input_layer, layer_steps[0] * conv_units[0] * 2, device=device)\n",
    "        self.l2 = nn.BatchNorm1d(layer_steps[0] * conv_units[0] * 2, device=device)\n",
    "        self.l3 = nn.ConvTranspose1d(conv_units[0] * 2, conv_units[0], kernel_size,\n",
    "                                    stride=strides, padding=4, device=device)\n",
    "        self.l4 = nn.BatchNorm1d(conv_units[0], device=device)\n",
    "        self.l5 = nn.ConvTranspose1d(conv_units[0], conv_units[1], kernel_size,\n",
    "                                    stride=strides, padding=4, device=device)\n",
    "        self.l6 = nn.BatchNorm1d(conv_units[1], device=device)\n",
    "        self.l7 = nn.ConvTranspose1d(conv_units[1], conv_units[2], kernel_size,\n",
    "                                    stride=strides, padding=4, device=device)\n",
    "        self.l8 = nn.BatchNorm1d(conv_units[2], device=device)\n",
    "        self.l9 = nn.ConvTranspose1d(conv_units[2], conv_units[3], kernel_size,\n",
    "                                    stride=strides, padding=6, output_padding=0, device=device)\n",
    "\n",
    "    def forward(self, x):\n",
    "        x = self.l1(x)\n",
    "        x = self.l2(x)\n",
    "        x = F.relu(x)\n",
    "        x = x.reshape(x.shape[0], layer_steps[0], conv_units[0] * 2)\n",
    "        x = torch.transpose(x, 1, 2)\n",
    "        x = self.l3(x)\n",
    "        x = self.l4(x)\n",
    "        x = F.relu(x)\n",
    "        x = self.l5(x)\n",
    "        x = self.l6(x)\n",
    "        x = F.relu(x)\n",
    "        x = self.l7(x)\n",
    "        x = self.l8(x)\n",
    "        x = F.relu(x)\n",
    "        x = self.l9(x)\n",
    "        return x"
   ]
  },
  {
   "cell_type": "code",
   "execution_count": 14,
   "metadata": {},
   "outputs": [],
   "source": [
    "class Discri(nn.Module):\n",
    "    def __init__(self):\n",
    "        super().__init__()\n",
    "        self.l1 = nn.Conv1d(input_shape[-1], units[0], kernel_size,stride=strides,padding=6, device=device)\n",
    "        self.l2 = nn.Conv1d(units[0], units[1], kernel_size,stride=strides,padding=4, device=device)\n",
    "        self.l3 = nn.Conv1d(units[1], units[2], kernel_size,stride=strides,padding=4, device=device)\n",
    "        self.l4 = nn.BatchNorm1d(units[2], device=device)\n",
    "        self.l5 = nn.Conv1d(units[2], units[3], kernel_size,stride=strides,padding=4, device=device)\n",
    "        self.l6 = nn.BatchNorm1d(units[3], device=device)\n",
    "        self.l7 = nn.Linear(layer_steps[0] * units[-1], 1, device=device)\n",
    "\n",
    "    def forward(self, x):\n",
    "        x = self.l1(x)\n",
    "        x = F.leaky_relu(x, 0.2)\n",
    "        x = self.l2(x)\n",
    "        x = F.leaky_relu(x, 0.2)\n",
    "        x = self.l3(x)\n",
    "        x = self.l4(x)\n",
    "        x = F.leaky_relu(x, 0.2)\n",
    "        x = self.l5(x)\n",
    "        x = self.l6(x)\n",
    "        x = F.leaky_relu(x, 0.2)\n",
    "        x = torch.transpose(x, 1, 2)\n",
    "        x = torch.flatten(x, start_dim=1)\n",
    "        x = self.l7(x)\n",
    "        return x"
   ]
  },
  {
   "cell_type": "code",
   "execution_count": 15,
   "metadata": {},
   "outputs": [],
   "source": [
    "class Encod(nn.Module):\n",
    "    def __init__(self):\n",
    "        super().__init__()\n",
    "        self.l1 = nn.Conv1d(input_shape[-1], units[0], kernel_size,stride=strides,padding=6, device=device)\n",
    "        self.l2 = nn.Conv1d(units[0], units[1], kernel_size,stride=strides,padding=4, device=device)\n",
    "        self.l3 = nn.Conv1d(units[1], units[2], kernel_size,stride=strides,padding=4, device=device)\n",
    "        self.l4 = nn.BatchNorm1d(units[2], device=device)\n",
    "        self.l5 = nn.Conv1d(units[2], units[3], kernel_size,stride=strides,padding=4, device=device)\n",
    "        self.l6 = nn.BatchNorm1d(units[3], device=device)\n",
    "        # self.l7 = nn.Linear(layer_steps[0] * units[-1], 1, device=device)\n",
    "\n",
    "    def forward(self, x):\n",
    "        x = self.l1(x)\n",
    "        x = F.leaky_relu(x, 0.2)\n",
    "        x = self.l2(x)\n",
    "        x = F.leaky_relu(x, 0.2)\n",
    "        x = self.l3(x)\n",
    "        x = self.l4(x)\n",
    "        x = F.leaky_relu(x, 0.2)\n",
    "        x = self.l5(x)\n",
    "        x = self.l6(x)\n",
    "        x = F.leaky_relu(x, 0.2)\n",
    "        # x = torch.transpose(x, 1, 2)\n",
    "        x = torch.flatten(x, start_dim=1)\n",
    "        # x = self.l7(x)\n",
    "        return x"
   ]
  },
  {
   "cell_type": "markdown",
   "metadata": {},
   "source": [
    "#### Weight initializing functions"
   ]
  },
  {
   "cell_type": "code",
   "execution_count": 16,
   "metadata": {},
   "outputs": [],
   "source": [
    "def initEncoder(encoder, discriminator):\n",
    "    encoder.l1.weight.data = discriminator.l1.weight.data\n",
    "    encoder.l1.bias.data = discriminator.l1.bias.data\n",
    "    encoder.l2.weight.data = discriminator.l2.weight.data\n",
    "    encoder.l2.bias.data = discriminator.l2.bias.data\n",
    "    encoder.l3.weight.data = discriminator.l3.weight.data\n",
    "    encoder.l3.bias.data = discriminator.l3.bias.data\n",
    "    encoder.l4.weight.data = discriminator.l4.weight.data\n",
    "    encoder.l4.bias.data = discriminator.l4.bias.data\n",
    "    encoder.l5.weight.data = discriminator.l5.weight.data\n",
    "    encoder.l5.bias.data = discriminator.l5.bias.data\n",
    "    encoder.l6.weight.data = discriminator.l6.weight.data\n",
    "    encoder.l6.bias.data = discriminator.l6.bias.data"
   ]
  },
  {
   "cell_type": "code",
   "execution_count": 17,
   "metadata": {},
   "outputs": [],
   "source": [
    "def initWeights(generator, discriminator):\n",
    "    generator.l1.weight = nn.init.trunc_normal_(generator.l1.weight, mean=0.0, std=0.02, a=-0.04, b=0.04)\n",
    "    generator.l1.bias.data.zero_()\n",
    "    generator.l2.weight = nn.init.trunc_normal_(generator.l2.weight, mean=0.0, std=0.02, a=-0.04, b=0.04)\n",
    "    generator.l2.bias.data.zero_()\n",
    "    generator.l3.weight = nn.init.trunc_normal_(generator.l3.weight, mean=0.0, std=0.02, a=-0.04, b=0.04)\n",
    "    generator.l3.bias.data.zero_()\n",
    "    generator.l4.weight = nn.init.trunc_normal_(generator.l4.weight, mean=0.0, std=0.02, a=-0.04, b=0.04)\n",
    "    generator.l4.bias.data.zero_()\n",
    "    generator.l5.weight = nn.init.trunc_normal_(generator.l5.weight, mean=0.0, std=0.02, a=-0.04, b=0.04)\n",
    "    generator.l5.bias.data.zero_()\n",
    "    generator.l6.weight = nn.init.trunc_normal_(generator.l6.weight, mean=0.0, std=0.02, a=-0.04, b=0.04)\n",
    "    generator.l6.bias.data.zero_()\n",
    "    generator.l7.weight = nn.init.trunc_normal_(generator.l7.weight, mean=0.0, std=0.02, a=-0.04, b=0.04)\n",
    "    generator.l7.bias.data.zero_()\n",
    "    generator.l8.weight = nn.init.trunc_normal_(generator.l8.weight, mean=0.0, std=0.02, a=-0.04, b=0.04)\n",
    "    generator.l8.bias.data.zero_()\n",
    "    generator.l9.weight = nn.init.trunc_normal_(generator.l9.weight, mean=0.0, std=0.02, a=-0.04, b=0.04)\n",
    "    generator.l9.bias.data.zero_()\n",
    "    discriminator.l1.weight = nn.init.trunc_normal_(discriminator.l1.weight, mean=0.0, std=0.02, a=-0.04, b=0.04)\n",
    "    discriminator.l1.bias.data.zero_()\n",
    "    discriminator.l2.weight = nn.init.trunc_normal_(discriminator.l2.weight, mean=0.0, std=0.02, a=-0.04, b=0.04)\n",
    "    discriminator.l2.bias.data.zero_()\n",
    "    discriminator.l3.weight = nn.init.trunc_normal_(discriminator.l3.weight, mean=0.0, std=0.02, a=-0.04, b=0.04)\n",
    "    discriminator.l3.bias.data.zero_()\n",
    "    discriminator.l4.weight = nn.init.trunc_normal_(discriminator.l4.weight, mean=0.0, std=0.02, a=-0.04, b=0.04)\n",
    "    discriminator.l4.bias.data.zero_()\n",
    "    discriminator.l5.weight = nn.init.trunc_normal_(discriminator.l5.weight, mean=0.0, std=0.02, a=-0.04, b=0.04)\n",
    "    discriminator.l5.bias.data.zero_()\n",
    "    discriminator.l6.weight = nn.init.trunc_normal_(discriminator.l6.weight, mean=0.0, std=0.02, a=-0.04, b=0.04)\n",
    "    discriminator.l6.bias.data.zero_()\n",
    "    discriminator.l7.weight = nn.init.trunc_normal_(discriminator.l7.weight, mean=0.0, std=0.02, a=-0.04, b=0.04)\n",
    "    discriminator.l7.bias.data.zero_()"
   ]
  },
  {
   "cell_type": "markdown",
   "metadata": {},
   "source": [
    "### Testing generator and discriminator"
   ]
  },
  {
   "cell_type": "code",
   "execution_count": 18,
   "metadata": {},
   "outputs": [
    {
     "data": {
      "text/plain": [
       "(torch.Size([1, 6, 60]), torch.Size([1, 1]))"
      ]
     },
     "execution_count": 18,
     "metadata": {},
     "output_type": "execute_result"
    }
   ],
   "source": [
    "generator = Genera().to(device)\n",
    "discriminator = Discri().to(device)\n",
    "\n",
    "initWeights(generator, discriminator)\n",
    "\n",
    "test_X = torch.randn(1, noise_shape, device=device).detach()\n",
    "generator.eval() #Precisa disso para passar apenas um no batchsize\n",
    "forward = generator(test_X)\n",
    "\n",
    "logits = discriminator(forward)\n",
    "\n",
    "forward.shape, logits.shape"
   ]
  },
  {
   "cell_type": "code",
   "execution_count": 19,
   "metadata": {},
   "outputs": [
    {
     "name": "stdout",
     "output_type": "stream",
     "text": [
      "saving model in  ./trained_models/1/experiment_1_author_newly_untrained/model.pth\n"
     ]
    }
   ],
   "source": [
    "save_model(generator, discriminator, 0)"
   ]
  },
  {
   "cell_type": "markdown",
   "metadata": {},
   "source": [
    "### Training routine"
   ]
  },
  {
   "cell_type": "code",
   "execution_count": 20,
   "metadata": {},
   "outputs": [],
   "source": [
    "def trainRoutine(X_train, n_epochs, generator, discriminator, initweight = True):\n",
    "    #generator = Genera().to(device)\n",
    "    #discriminator = Discri().to(device)\n",
    "    if initweight:\n",
    "        initWeights(generator, discriminator)\n",
    "        \n",
    "    loss_fc = nn.BCEWithLogitsLoss()\n",
    "    sig = nn.Sigmoid()\n",
    "\n",
    "    g_opt = optim.Adam(generator.parameters(), lr=0.0002, betas=(0.5, 0.999))\n",
    "    d_opt = optim.Adam(discriminator.parameters(), lr=0.0002, betas=(0.5, 0.999))\n",
    "\n",
    "    # n_epochs = 300   # number of epochs to run\n",
    "    batch_size = 16  # size of each batch 512\n",
    "    batch_start = torch.arange(0, len(X_train), batch_size)\n",
    "\n",
    "    dLoss = []\n",
    "    gLoss = []\n",
    "    acc = []\n",
    "\n",
    "    z_batch = torch.randn(X_train.shape[0], noise_shape, device=device).detach()\n",
    "    generated_samples = generator(z_batch)\n",
    "    fake_logits = discriminator(generated_samples)\n",
    "    real_logits = discriminator(X_train)\n",
    "    real_loss = loss_fc(real_logits, torch.ones_like(real_logits))\n",
    "    fake_loss = loss_fc(fake_logits, torch.zeros_like(fake_logits))\n",
    "    d_loss = real_loss + fake_loss\n",
    "    g_loss = loss_fc(fake_logits, torch.ones_like(fake_logits))\n",
    "    gLoss.append(float(g_loss))\n",
    "    dLoss.append(float(d_loss))\n",
    "\n",
    "    real_prob = sig(real_logits)\n",
    "    fake_prob = sig(fake_logits)\n",
    "    y_real = torch.ones_like(real_prob)\n",
    "    y_fake = torch.zeros_like(fake_prob)\n",
    "    y = torch.cat((y_real, y_fake), axis=0)\n",
    "    y_pred = torch.cat((real_prob, fake_prob), axis=0)\n",
    "    acc.append(float(torch.mean(((y_pred>.5).double() == y).double())))\n",
    "\n",
    "    # training loop\n",
    "    for epoch in range(n_epochs):\n",
    "        generator.train()\n",
    "        discriminator.train()\n",
    "        with tqdm(batch_start, unit=\"batch\", mininterval=0, disable=False) as bar:\n",
    "            bar.set_description(f\"Epoch {epoch}\")\n",
    "            for start in bar:\n",
    "                # take a batch\n",
    "                X_batch = X_train[start:start+batch_size,:,:]\n",
    "                z_batch = torch.randn(batch_size, noise_shape, device=device).detach()\n",
    "                # generator pass\n",
    "                generated_samples = generator(z_batch)\n",
    "                fake_logits = discriminator(generated_samples)\n",
    "                g_loss = loss_fc(fake_logits, torch.ones_like(fake_logits))\n",
    "                g_opt.zero_grad()\n",
    "                g_loss.backward()\n",
    "                g_opt.step()\n",
    "                # discriminator pass\n",
    "                generated_samples = generator(z_batch)\n",
    "                fake_logits = discriminator(generated_samples)\n",
    "                real_logits = discriminator(X_batch)\n",
    "                # check acc\n",
    "                real_prob = sig(real_logits)\n",
    "                fake_prob = sig(fake_logits)\n",
    "                y_real = torch.ones_like(real_prob)\n",
    "                y_fake = torch.zeros_like(fake_prob)\n",
    "                y = torch.cat((y_real, y_fake), axis=0)\n",
    "                y_pred = torch.cat((real_prob, fake_prob), axis=0)\n",
    "                if torch.mean(((y_pred>.5).double() == y).double()) <= 0.75:\n",
    "                    real_loss = loss_fc(real_logits, torch.ones_like(real_logits))\n",
    "                    fake_loss = loss_fc(fake_logits, torch.zeros_like(fake_logits))\n",
    "                    d_loss = real_loss + fake_loss\n",
    "                    d_opt.zero_grad()\n",
    "                    d_loss.backward()\n",
    "                    d_opt.step()\n",
    "                # print progress\n",
    "                bar.set_postfix(loss=float(g_loss))\n",
    "        generator.eval()\n",
    "        discriminator.eval()\n",
    "        z_batch = torch.randn(X_train.shape[0], noise_shape, device=device).detach()\n",
    "        generated_samples = generator(z_batch)\n",
    "        fake_logits = discriminator(generated_samples)\n",
    "        real_logits = discriminator(X_train)\n",
    "        real_loss = loss_fc(real_logits, torch.ones_like(real_logits))\n",
    "        fake_loss = loss_fc(fake_logits, torch.zeros_like(fake_logits))\n",
    "        d_loss = real_loss + fake_loss\n",
    "        g_loss = loss_fc(fake_logits, torch.ones_like(fake_logits))\n",
    "        gLoss.append(float(g_loss))\n",
    "        dLoss.append(float(d_loss))\n",
    "        real_prob = sig(real_logits)\n",
    "        fake_prob = sig(fake_logits)\n",
    "        y_real = torch.ones_like(real_prob)\n",
    "        y_fake = torch.zeros_like(fake_prob)\n",
    "        y = torch.cat((y_real, y_fake), axis=0)\n",
    "        y_pred = torch.cat((real_prob, fake_prob), axis=0)\n",
    "        acc.append(float(torch.mean(((y_pred>.5).double() == y).double())))\n",
    "    return dLoss, gLoss, acc"
   ]
  },
  {
   "cell_type": "code",
   "execution_count": 21,
   "metadata": {},
   "outputs": [
    {
     "name": "stdout",
     "output_type": "stream",
     "text": [
      "OrderedDict([('l1.weight', tensor([[ 0.0894,  0.0707,  0.0202,  ...,  0.0635, -0.0538, -0.0591],\n",
      "        [-0.0136,  0.0341, -0.0810,  ..., -0.0143,  0.0251, -0.0184],\n",
      "        [ 0.0613, -0.0840, -0.0530,  ..., -0.0143, -0.0003, -0.0757],\n",
      "        ...,\n",
      "        [-0.0302,  0.0286, -0.0212,  ..., -0.0399, -0.0365, -0.0039],\n",
      "        [ 0.0442,  0.0749, -0.0137,  ..., -0.0881, -0.0411,  0.0951],\n",
      "        [-0.0835, -0.0816,  0.0715,  ..., -0.0263, -0.0796, -0.0865]])), ('l1.bias', tensor([-0.0375,  0.0416, -0.0680,  ...,  0.0565,  0.0888, -0.0407])), ('l2.weight', tensor([1., 1., 1.,  ..., 1., 1., 1.])), ('l2.bias', tensor([0., 0., 0.,  ..., 0., 0., 0.])), ('l2.running_mean', tensor([0., 0., 0.,  ..., 0., 0., 0.])), ('l2.running_var', tensor([1., 1., 1.,  ..., 1., 1., 1.])), ('l2.num_batches_tracked', tensor(0)), ('l3.weight', tensor([[[ 0.0220,  0.0246, -0.0226,  ..., -0.0073, -0.0114, -0.0150],\n",
      "         [ 0.0250,  0.0125,  0.0237,  ...,  0.0242, -0.0264,  0.0228],\n",
      "         [ 0.0192, -0.0007, -0.0032,  ..., -0.0043, -0.0013, -0.0146],\n",
      "         ...,\n",
      "         [ 0.0211,  0.0240,  0.0097,  ..., -0.0030,  0.0274, -0.0024],\n",
      "         [ 0.0063, -0.0056,  0.0095,  ..., -0.0207,  0.0084, -0.0062],\n",
      "         [-0.0190, -0.0172, -0.0265,  ...,  0.0073,  0.0076,  0.0125]],\n",
      "\n",
      "        [[ 0.0070,  0.0097,  0.0143,  ...,  0.0215, -0.0020,  0.0196],\n",
      "         [-0.0107,  0.0230,  0.0078,  ..., -0.0079, -0.0181, -0.0183],\n",
      "         [ 0.0254, -0.0011, -0.0207,  ..., -0.0009, -0.0210,  0.0146],\n",
      "         ...,\n",
      "         [ 0.0184,  0.0246,  0.0228,  ...,  0.0232, -0.0113,  0.0142],\n",
      "         [-0.0113,  0.0269,  0.0143,  ..., -0.0114,  0.0157,  0.0157],\n",
      "         [-0.0070, -0.0160, -0.0170,  ...,  0.0133, -0.0085, -0.0240]],\n",
      "\n",
      "        [[-0.0134,  0.0095,  0.0133,  ...,  0.0023,  0.0187, -0.0148],\n",
      "         [-0.0246, -0.0240, -0.0269,  ..., -0.0118,  0.0179,  0.0221],\n",
      "         [-0.0068,  0.0159,  0.0122,  ...,  0.0102, -0.0123,  0.0047],\n",
      "         ...,\n",
      "         [-0.0168, -0.0007, -0.0018,  ...,  0.0251, -0.0214,  0.0163],\n",
      "         [-0.0223, -0.0182,  0.0198,  ..., -0.0070,  0.0239, -0.0143],\n",
      "         [ 0.0022,  0.0243,  0.0074,  ...,  0.0019,  0.0126,  0.0147]],\n",
      "\n",
      "        ...,\n",
      "\n",
      "        [[-0.0015, -0.0247, -0.0086,  ...,  0.0155,  0.0176,  0.0197],\n",
      "         [ 0.0248, -0.0130, -0.0048,  ...,  0.0116, -0.0278,  0.0031],\n",
      "         [ 0.0102,  0.0118, -0.0271,  ..., -0.0187, -0.0077, -0.0105],\n",
      "         ...,\n",
      "         [ 0.0019, -0.0168,  0.0072,  ..., -0.0166,  0.0243, -0.0011],\n",
      "         [-0.0139,  0.0029, -0.0168,  ...,  0.0251,  0.0149, -0.0035],\n",
      "         [ 0.0267, -0.0139,  0.0086,  ...,  0.0225,  0.0216, -0.0068]],\n",
      "\n",
      "        [[-0.0200,  0.0279,  0.0149,  ...,  0.0248,  0.0252,  0.0063],\n",
      "         [-0.0162, -0.0257,  0.0199,  ...,  0.0228,  0.0013, -0.0010],\n",
      "         [ 0.0080, -0.0117,  0.0022,  ..., -0.0064,  0.0092,  0.0122],\n",
      "         ...,\n",
      "         [ 0.0194, -0.0054, -0.0112,  ..., -0.0149,  0.0063, -0.0275],\n",
      "         [-0.0130,  0.0209, -0.0265,  ..., -0.0110,  0.0110,  0.0249],\n",
      "         [-0.0244,  0.0187, -0.0266,  ..., -0.0248,  0.0182,  0.0094]],\n",
      "\n",
      "        [[-0.0254, -0.0087,  0.0052,  ..., -0.0039,  0.0040,  0.0038],\n",
      "         [-0.0044, -0.0261, -0.0174,  ...,  0.0085, -0.0258, -0.0042],\n",
      "         [ 0.0145,  0.0166,  0.0074,  ..., -0.0094,  0.0136,  0.0164],\n",
      "         ...,\n",
      "         [-0.0095,  0.0179, -0.0074,  ..., -0.0263, -0.0038,  0.0049],\n",
      "         [ 0.0183, -0.0198, -0.0046,  ...,  0.0238, -0.0166,  0.0138],\n",
      "         [ 0.0128,  0.0125, -0.0160,  ..., -0.0233, -0.0271, -0.0198]]])), ('l3.bias', tensor([-0.0062,  0.0027,  0.0213, -0.0256,  0.0207, -0.0132, -0.0261,  0.0061,\n",
      "         0.0251, -0.0269, -0.0263,  0.0130, -0.0117, -0.0052,  0.0043,  0.0104,\n",
      "         0.0083, -0.0239, -0.0119,  0.0247, -0.0043,  0.0175, -0.0249, -0.0155,\n",
      "         0.0170, -0.0113, -0.0087,  0.0189, -0.0010,  0.0067,  0.0276,  0.0120,\n",
      "        -0.0278,  0.0032,  0.0126, -0.0180, -0.0068, -0.0159, -0.0175,  0.0086,\n",
      "        -0.0274,  0.0026,  0.0273,  0.0111,  0.0261, -0.0071,  0.0170,  0.0117,\n",
      "         0.0066,  0.0214, -0.0115, -0.0023,  0.0013,  0.0064,  0.0042,  0.0143,\n",
      "         0.0140,  0.0191, -0.0215,  0.0192,  0.0051,  0.0120, -0.0013, -0.0137,\n",
      "        -0.0249, -0.0258,  0.0035,  0.0175, -0.0041, -0.0176,  0.0018, -0.0265,\n",
      "         0.0179, -0.0106,  0.0118, -0.0177, -0.0209,  0.0270,  0.0133, -0.0207,\n",
      "         0.0235,  0.0115, -0.0145,  0.0023,  0.0201,  0.0274,  0.0059, -0.0272,\n",
      "        -0.0245, -0.0074, -0.0094,  0.0176, -0.0201,  0.0144, -0.0225,  0.0073,\n",
      "        -0.0003,  0.0019,  0.0241,  0.0108, -0.0134,  0.0274,  0.0199, -0.0249,\n",
      "         0.0102, -0.0186, -0.0056,  0.0106, -0.0200, -0.0098, -0.0209, -0.0038,\n",
      "        -0.0166,  0.0182, -0.0026,  0.0208, -0.0175, -0.0102, -0.0066, -0.0117,\n",
      "         0.0079, -0.0098,  0.0156,  0.0199,  0.0262, -0.0063,  0.0268,  0.0271])), ('l4.weight', tensor([1., 1., 1., 1., 1., 1., 1., 1., 1., 1., 1., 1., 1., 1., 1., 1., 1., 1.,\n",
      "        1., 1., 1., 1., 1., 1., 1., 1., 1., 1., 1., 1., 1., 1., 1., 1., 1., 1.,\n",
      "        1., 1., 1., 1., 1., 1., 1., 1., 1., 1., 1., 1., 1., 1., 1., 1., 1., 1.,\n",
      "        1., 1., 1., 1., 1., 1., 1., 1., 1., 1., 1., 1., 1., 1., 1., 1., 1., 1.,\n",
      "        1., 1., 1., 1., 1., 1., 1., 1., 1., 1., 1., 1., 1., 1., 1., 1., 1., 1.,\n",
      "        1., 1., 1., 1., 1., 1., 1., 1., 1., 1., 1., 1., 1., 1., 1., 1., 1., 1.,\n",
      "        1., 1., 1., 1., 1., 1., 1., 1., 1., 1., 1., 1., 1., 1., 1., 1., 1., 1.,\n",
      "        1., 1.])), ('l4.bias', tensor([0., 0., 0., 0., 0., 0., 0., 0., 0., 0., 0., 0., 0., 0., 0., 0., 0., 0., 0., 0., 0., 0., 0., 0.,\n",
      "        0., 0., 0., 0., 0., 0., 0., 0., 0., 0., 0., 0., 0., 0., 0., 0., 0., 0., 0., 0., 0., 0., 0., 0.,\n",
      "        0., 0., 0., 0., 0., 0., 0., 0., 0., 0., 0., 0., 0., 0., 0., 0., 0., 0., 0., 0., 0., 0., 0., 0.,\n",
      "        0., 0., 0., 0., 0., 0., 0., 0., 0., 0., 0., 0., 0., 0., 0., 0., 0., 0., 0., 0., 0., 0., 0., 0.,\n",
      "        0., 0., 0., 0., 0., 0., 0., 0., 0., 0., 0., 0., 0., 0., 0., 0., 0., 0., 0., 0., 0., 0., 0., 0.,\n",
      "        0., 0., 0., 0., 0., 0., 0., 0.])), ('l4.running_mean', tensor([0., 0., 0., 0., 0., 0., 0., 0., 0., 0., 0., 0., 0., 0., 0., 0., 0., 0., 0., 0., 0., 0., 0., 0.,\n",
      "        0., 0., 0., 0., 0., 0., 0., 0., 0., 0., 0., 0., 0., 0., 0., 0., 0., 0., 0., 0., 0., 0., 0., 0.,\n",
      "        0., 0., 0., 0., 0., 0., 0., 0., 0., 0., 0., 0., 0., 0., 0., 0., 0., 0., 0., 0., 0., 0., 0., 0.,\n",
      "        0., 0., 0., 0., 0., 0., 0., 0., 0., 0., 0., 0., 0., 0., 0., 0., 0., 0., 0., 0., 0., 0., 0., 0.,\n",
      "        0., 0., 0., 0., 0., 0., 0., 0., 0., 0., 0., 0., 0., 0., 0., 0., 0., 0., 0., 0., 0., 0., 0., 0.,\n",
      "        0., 0., 0., 0., 0., 0., 0., 0.])), ('l4.running_var', tensor([1., 1., 1., 1., 1., 1., 1., 1., 1., 1., 1., 1., 1., 1., 1., 1., 1., 1.,\n",
      "        1., 1., 1., 1., 1., 1., 1., 1., 1., 1., 1., 1., 1., 1., 1., 1., 1., 1.,\n",
      "        1., 1., 1., 1., 1., 1., 1., 1., 1., 1., 1., 1., 1., 1., 1., 1., 1., 1.,\n",
      "        1., 1., 1., 1., 1., 1., 1., 1., 1., 1., 1., 1., 1., 1., 1., 1., 1., 1.,\n",
      "        1., 1., 1., 1., 1., 1., 1., 1., 1., 1., 1., 1., 1., 1., 1., 1., 1., 1.,\n",
      "        1., 1., 1., 1., 1., 1., 1., 1., 1., 1., 1., 1., 1., 1., 1., 1., 1., 1.,\n",
      "        1., 1., 1., 1., 1., 1., 1., 1., 1., 1., 1., 1., 1., 1., 1., 1., 1., 1.,\n",
      "        1., 1.])), ('l4.num_batches_tracked', tensor(0)), ('l5.weight', tensor([[[ 2.1304e-04,  3.3873e-02, -3.9414e-02,  ...,  3.0057e-02,\n",
      "          -1.9071e-02, -2.7886e-02],\n",
      "         [ 2.0518e-02, -1.7065e-02,  8.7531e-04,  ..., -2.8873e-02,\n",
      "           1.1657e-02,  4.9636e-03],\n",
      "         [-1.3896e-02, -6.8928e-03, -3.4452e-02,  ...,  2.2675e-02,\n",
      "           9.1084e-03, -3.3508e-02],\n",
      "         ...,\n",
      "         [ 1.3447e-02, -3.4508e-02,  5.7768e-03,  ..., -3.6490e-02,\n",
      "           1.1475e-02, -1.5829e-02],\n",
      "         [ 5.4904e-03, -2.8623e-02,  1.1538e-02,  ...,  2.3772e-02,\n",
      "           1.7072e-02, -2.0077e-02],\n",
      "         [ 1.8825e-02,  3.2927e-03,  2.6342e-02,  ...,  2.5119e-02,\n",
      "          -2.8724e-02,  1.2571e-02]],\n",
      "\n",
      "        [[ 2.5964e-02, -3.6080e-02,  3.1041e-02,  ..., -3.0166e-03,\n",
      "           3.8703e-02, -1.2589e-02],\n",
      "         [ 3.6131e-02,  4.6433e-03, -1.6413e-02,  ...,  1.8584e-02,\n",
      "           3.7867e-02,  4.3722e-03],\n",
      "         [ 2.9468e-02, -1.7851e-02, -9.9468e-03,  ...,  3.6777e-02,\n",
      "          -2.7438e-02, -8.2981e-05],\n",
      "         ...,\n",
      "         [ 1.0031e-02, -1.7227e-02, -3.6517e-02,  ..., -2.4749e-02,\n",
      "          -1.7831e-02, -3.3118e-02],\n",
      "         [ 3.1316e-03,  1.6681e-02,  2.6790e-02,  ...,  2.7257e-02,\n",
      "          -8.3529e-03,  2.0117e-02],\n",
      "         [-1.5763e-02, -1.6103e-02, -4.9386e-03,  ...,  3.8175e-02,\n",
      "          -1.6051e-02,  2.2020e-02]],\n",
      "\n",
      "        [[-2.3160e-03,  3.8340e-02, -3.7017e-02,  ...,  6.8189e-03,\n",
      "          -1.8385e-02,  3.5756e-03],\n",
      "         [ 2.6993e-02,  1.9197e-02,  6.0304e-03,  ...,  2.9247e-02,\n",
      "           4.3694e-03, -8.3170e-03],\n",
      "         [ 2.9377e-02,  1.4780e-02, -2.6124e-02,  ..., -2.4501e-02,\n",
      "          -2.0027e-02,  4.4546e-03],\n",
      "         ...,\n",
      "         [ 9.2771e-03, -1.8731e-03,  3.2014e-03,  ..., -2.9724e-02,\n",
      "           3.2191e-02, -1.9069e-02],\n",
      "         [-2.5174e-02, -3.3279e-02,  1.5096e-02,  ..., -3.9168e-02,\n",
      "          -3.2546e-02,  3.6895e-02],\n",
      "         [-1.4302e-02, -3.3240e-02, -1.1571e-02,  ..., -6.5062e-03,\n",
      "          -1.1127e-02,  1.7325e-02]],\n",
      "\n",
      "        ...,\n",
      "\n",
      "        [[-2.8731e-02, -3.7526e-03, -1.6434e-02,  ...,  2.3276e-02,\n",
      "          -6.2998e-03, -1.9752e-02],\n",
      "         [-1.7188e-02,  3.2728e-02, -1.0469e-02,  ..., -1.3549e-02,\n",
      "          -2.6022e-02, -3.2957e-02],\n",
      "         [-3.3295e-02, -2.8647e-02,  1.3551e-02,  ..., -1.4936e-02,\n",
      "           1.0450e-02, -2.7840e-02],\n",
      "         ...,\n",
      "         [ 5.1900e-03, -2.4605e-02,  5.3262e-03,  ..., -1.6062e-02,\n",
      "          -1.9528e-02, -3.8753e-03],\n",
      "         [ 5.5057e-04,  2.4799e-02,  3.0967e-02,  ..., -3.1824e-02,\n",
      "           3.4406e-02, -2.4818e-02],\n",
      "         [-2.9057e-02,  1.3931e-02,  2.1481e-03,  ..., -2.5956e-02,\n",
      "           1.8467e-02,  3.7840e-02]],\n",
      "\n",
      "        [[-1.8456e-02, -1.0504e-02,  5.6715e-03,  ...,  3.1371e-02,\n",
      "           2.7113e-02, -1.4421e-02],\n",
      "         [-2.9666e-02, -1.5062e-02,  3.7239e-02,  ..., -3.7762e-02,\n",
      "          -2.8765e-02,  2.3841e-03],\n",
      "         [ 2.5931e-02,  1.3138e-02,  2.5064e-02,  ...,  3.1625e-03,\n",
      "           1.9488e-02,  3.4821e-02],\n",
      "         ...,\n",
      "         [-1.2728e-02, -9.9963e-04, -2.0409e-02,  ...,  3.6451e-02,\n",
      "           3.1294e-02,  1.8254e-02],\n",
      "         [-1.2598e-02,  5.2800e-03, -1.1813e-02,  ..., -4.2011e-03,\n",
      "          -3.0938e-02, -2.2497e-02],\n",
      "         [-9.0630e-03,  3.5368e-03,  1.9504e-02,  ...,  2.9833e-05,\n",
      "           3.5055e-02, -2.1820e-02]],\n",
      "\n",
      "        [[-2.9411e-03, -2.7810e-02, -3.6012e-02,  ...,  3.6992e-02,\n",
      "          -5.8606e-03, -1.3448e-02],\n",
      "         [-3.8276e-02, -2.2378e-02, -7.6147e-04,  ...,  1.3613e-02,\n",
      "           3.0985e-02,  1.9245e-02],\n",
      "         [-1.4098e-02,  2.3754e-02,  9.5571e-03,  ..., -2.0667e-02,\n",
      "           1.2565e-02,  1.7580e-02],\n",
      "         ...,\n",
      "         [-3.2279e-03,  1.1612e-02,  1.3340e-02,  ..., -3.7028e-02,\n",
      "           1.8503e-02, -2.2121e-02],\n",
      "         [ 2.2921e-02, -3.1944e-02, -1.3455e-02,  ..., -9.4993e-03,\n",
      "          -4.3192e-03, -1.3386e-02],\n",
      "         [-3.8846e-03, -3.6846e-02, -3.7596e-02,  ...,  9.4386e-03,\n",
      "           3.6898e-02, -2.6372e-02]]])), ('l5.bias', tensor([ 0.0267,  0.0036,  0.0102, -0.0069, -0.0314, -0.0076, -0.0285,  0.0227,\n",
      "        -0.0389, -0.0146, -0.0231,  0.0305,  0.0071,  0.0101, -0.0219,  0.0319,\n",
      "        -0.0246,  0.0100, -0.0370, -0.0214, -0.0228, -0.0257,  0.0266,  0.0052,\n",
      "        -0.0281,  0.0085,  0.0277, -0.0108,  0.0079,  0.0248, -0.0040,  0.0230,\n",
      "        -0.0198,  0.0370,  0.0080, -0.0018, -0.0272, -0.0334,  0.0292, -0.0308,\n",
      "         0.0152,  0.0243, -0.0118, -0.0389, -0.0161, -0.0145,  0.0177,  0.0142,\n",
      "         0.0218, -0.0334, -0.0339,  0.0202,  0.0307, -0.0258, -0.0381, -0.0219,\n",
      "         0.0009, -0.0032,  0.0045,  0.0077, -0.0303,  0.0088,  0.0031, -0.0250])), ('l6.weight', tensor([1., 1., 1., 1., 1., 1., 1., 1., 1., 1., 1., 1., 1., 1., 1., 1., 1., 1.,\n",
      "        1., 1., 1., 1., 1., 1., 1., 1., 1., 1., 1., 1., 1., 1., 1., 1., 1., 1.,\n",
      "        1., 1., 1., 1., 1., 1., 1., 1., 1., 1., 1., 1., 1., 1., 1., 1., 1., 1.,\n",
      "        1., 1., 1., 1., 1., 1., 1., 1., 1., 1.])), ('l6.bias', tensor([0., 0., 0., 0., 0., 0., 0., 0., 0., 0., 0., 0., 0., 0., 0., 0., 0., 0., 0., 0., 0., 0., 0., 0.,\n",
      "        0., 0., 0., 0., 0., 0., 0., 0., 0., 0., 0., 0., 0., 0., 0., 0., 0., 0., 0., 0., 0., 0., 0., 0.,\n",
      "        0., 0., 0., 0., 0., 0., 0., 0., 0., 0., 0., 0., 0., 0., 0., 0.])), ('l6.running_mean', tensor([0., 0., 0., 0., 0., 0., 0., 0., 0., 0., 0., 0., 0., 0., 0., 0., 0., 0., 0., 0., 0., 0., 0., 0.,\n",
      "        0., 0., 0., 0., 0., 0., 0., 0., 0., 0., 0., 0., 0., 0., 0., 0., 0., 0., 0., 0., 0., 0., 0., 0.,\n",
      "        0., 0., 0., 0., 0., 0., 0., 0., 0., 0., 0., 0., 0., 0., 0., 0.])), ('l6.running_var', tensor([1., 1., 1., 1., 1., 1., 1., 1., 1., 1., 1., 1., 1., 1., 1., 1., 1., 1.,\n",
      "        1., 1., 1., 1., 1., 1., 1., 1., 1., 1., 1., 1., 1., 1., 1., 1., 1., 1.,\n",
      "        1., 1., 1., 1., 1., 1., 1., 1., 1., 1., 1., 1., 1., 1., 1., 1., 1., 1.,\n",
      "        1., 1., 1., 1., 1., 1., 1., 1., 1., 1.])), ('l6.num_batches_tracked', tensor(0)), ('l7.weight', tensor([[[ 0.0496,  0.0260,  0.0122,  ..., -0.0057, -0.0068,  0.0232],\n",
      "         [-0.0152, -0.0166,  0.0478,  ...,  0.0365, -0.0223, -0.0061],\n",
      "         [ 0.0156,  0.0546, -0.0230,  ..., -0.0328,  0.0333,  0.0042],\n",
      "         ...,\n",
      "         [ 0.0512, -0.0318, -0.0260,  ..., -0.0523,  0.0015,  0.0253],\n",
      "         [ 0.0460,  0.0021, -0.0341,  ...,  0.0248, -0.0168,  0.0494],\n",
      "         [ 0.0118,  0.0169,  0.0451,  ..., -0.0101, -0.0348, -0.0128]],\n",
      "\n",
      "        [[ 0.0295, -0.0023, -0.0352,  ...,  0.0090,  0.0200, -0.0494],\n",
      "         [-0.0440, -0.0338, -0.0321,  ..., -0.0496, -0.0152,  0.0394],\n",
      "         [ 0.0250,  0.0502, -0.0043,  ...,  0.0030, -0.0516,  0.0325],\n",
      "         ...,\n",
      "         [ 0.0157,  0.0473, -0.0504,  ...,  0.0061, -0.0088,  0.0168],\n",
      "         [ 0.0246, -0.0476,  0.0472,  ...,  0.0366,  0.0308,  0.0071],\n",
      "         [-0.0320,  0.0167,  0.0488,  ...,  0.0059, -0.0011, -0.0418]],\n",
      "\n",
      "        [[ 0.0395, -0.0178, -0.0497,  ...,  0.0381, -0.0431,  0.0167],\n",
      "         [ 0.0029,  0.0235, -0.0211,  ...,  0.0181, -0.0196,  0.0524],\n",
      "         [ 0.0038, -0.0127,  0.0117,  ...,  0.0029, -0.0046, -0.0184],\n",
      "         ...,\n",
      "         [ 0.0322, -0.0131,  0.0527,  ...,  0.0277, -0.0140,  0.0541],\n",
      "         [-0.0344,  0.0076, -0.0505,  ...,  0.0266,  0.0139, -0.0068],\n",
      "         [ 0.0537,  0.0057, -0.0324,  ...,  0.0246,  0.0382,  0.0237]],\n",
      "\n",
      "        ...,\n",
      "\n",
      "        [[ 0.0064, -0.0332,  0.0196,  ...,  0.0104, -0.0505,  0.0324],\n",
      "         [-0.0145,  0.0125,  0.0500,  ...,  0.0418,  0.0372, -0.0277],\n",
      "         [ 0.0310,  0.0433, -0.0055,  ..., -0.0196, -0.0309, -0.0420],\n",
      "         ...,\n",
      "         [ 0.0119, -0.0030,  0.0372,  ...,  0.0152, -0.0286, -0.0258],\n",
      "         [-0.0267,  0.0219,  0.0392,  ..., -0.0542, -0.0474,  0.0201],\n",
      "         [-0.0313, -0.0479,  0.0456,  ..., -0.0183,  0.0343, -0.0540]],\n",
      "\n",
      "        [[ 0.0323, -0.0390,  0.0500,  ...,  0.0035, -0.0385, -0.0289],\n",
      "         [-0.0247, -0.0527, -0.0011,  ..., -0.0193, -0.0393, -0.0068],\n",
      "         [ 0.0555,  0.0383, -0.0472,  ...,  0.0496, -0.0186, -0.0395],\n",
      "         ...,\n",
      "         [ 0.0260,  0.0421, -0.0486,  ...,  0.0280,  0.0506, -0.0490],\n",
      "         [-0.0036,  0.0496,  0.0094,  ..., -0.0277, -0.0151,  0.0328],\n",
      "         [-0.0007,  0.0502,  0.0249,  ..., -0.0046,  0.0554,  0.0426]],\n",
      "\n",
      "        [[-0.0375,  0.0083,  0.0423,  ..., -0.0280, -0.0105, -0.0429],\n",
      "         [-0.0475,  0.0367,  0.0304,  ...,  0.0364,  0.0476,  0.0531],\n",
      "         [ 0.0132,  0.0425, -0.0473,  ...,  0.0166, -0.0457, -0.0556],\n",
      "         ...,\n",
      "         [ 0.0420,  0.0205,  0.0427,  ..., -0.0502, -0.0511,  0.0129],\n",
      "         [-0.0545,  0.0366,  0.0012,  ...,  0.0487,  0.0298,  0.0449],\n",
      "         [ 0.0120, -0.0104,  0.0423,  ...,  0.0145, -0.0434,  0.0024]]])), ('l7.bias', tensor([-0.0418,  0.0505, -0.0329, -0.0499, -0.0144, -0.0067,  0.0517, -0.0496,\n",
      "         0.0350, -0.0190,  0.0098,  0.0166,  0.0243,  0.0492,  0.0388, -0.0061,\n",
      "         0.0099, -0.0469, -0.0037, -0.0006,  0.0535, -0.0536,  0.0463,  0.0550,\n",
      "         0.0035, -0.0388,  0.0198, -0.0151,  0.0447, -0.0049, -0.0061, -0.0343])), ('l8.weight', tensor([1., 1., 1., 1., 1., 1., 1., 1., 1., 1., 1., 1., 1., 1., 1., 1., 1., 1.,\n",
      "        1., 1., 1., 1., 1., 1., 1., 1., 1., 1., 1., 1., 1., 1.])), ('l8.bias', tensor([0., 0., 0., 0., 0., 0., 0., 0., 0., 0., 0., 0., 0., 0., 0., 0., 0., 0., 0., 0., 0., 0., 0., 0.,\n",
      "        0., 0., 0., 0., 0., 0., 0., 0.])), ('l8.running_mean', tensor([0., 0., 0., 0., 0., 0., 0., 0., 0., 0., 0., 0., 0., 0., 0., 0., 0., 0., 0., 0., 0., 0., 0., 0.,\n",
      "        0., 0., 0., 0., 0., 0., 0., 0.])), ('l8.running_var', tensor([1., 1., 1., 1., 1., 1., 1., 1., 1., 1., 1., 1., 1., 1., 1., 1., 1., 1.,\n",
      "        1., 1., 1., 1., 1., 1., 1., 1., 1., 1., 1., 1., 1., 1.])), ('l8.num_batches_tracked', tensor(0)), ('l9.weight', tensor([[[ 0.0207, -0.0821, -0.0483,  ..., -0.0764,  0.0807,  0.0538],\n",
      "         [-0.0343, -0.0881, -0.0676,  ..., -0.0346,  0.0046,  0.0337],\n",
      "         [-0.1195, -0.0831, -0.1015,  ...,  0.1211, -0.0425,  0.1261],\n",
      "         [-0.0147, -0.0917, -0.0899,  ..., -0.1019, -0.0044, -0.1034],\n",
      "         [-0.0633, -0.0744, -0.0907,  ...,  0.0545, -0.0856,  0.0231],\n",
      "         [-0.0366, -0.0034, -0.0414,  ...,  0.1017,  0.1006, -0.0862]],\n",
      "\n",
      "        [[-0.0705, -0.0090, -0.0661,  ..., -0.0307,  0.0832,  0.0940],\n",
      "         [ 0.0088, -0.0641,  0.0700,  ..., -0.1219, -0.0936, -0.0725],\n",
      "         [ 0.0777, -0.0660, -0.0072,  ...,  0.0361,  0.1256, -0.0718],\n",
      "         [-0.0640,  0.0503,  0.0670,  ..., -0.0667,  0.1042,  0.0222],\n",
      "         [-0.0084, -0.0427, -0.0784,  ..., -0.0900, -0.0506, -0.1170],\n",
      "         [-0.0960, -0.0167,  0.0723,  ..., -0.0986, -0.0064,  0.1249]],\n",
      "\n",
      "        [[-0.0237, -0.1169, -0.0889,  ..., -0.1148, -0.0241,  0.1143],\n",
      "         [ 0.0350,  0.0685,  0.0818,  ..., -0.0221, -0.1018,  0.0169],\n",
      "         [ 0.0493, -0.0467,  0.0923,  ...,  0.1152, -0.0873, -0.0707],\n",
      "         [ 0.0537, -0.0998,  0.0938,  ...,  0.0476,  0.0661, -0.0257],\n",
      "         [-0.0652,  0.0055, -0.0982,  ...,  0.0804,  0.0767,  0.0818],\n",
      "         [ 0.0131,  0.0705,  0.1126,  ...,  0.0151, -0.0597, -0.0730]],\n",
      "\n",
      "        ...,\n",
      "\n",
      "        [[-0.1247, -0.0025,  0.0742,  ...,  0.0894, -0.0181,  0.1029],\n",
      "         [-0.0629, -0.0927, -0.0454,  ..., -0.0488,  0.0332, -0.0417],\n",
      "         [-0.0389,  0.0959,  0.0053,  ...,  0.0217,  0.0296, -0.0337],\n",
      "         [-0.0508,  0.0273, -0.1176,  ..., -0.0962,  0.0329, -0.0754],\n",
      "         [-0.0228, -0.0998, -0.0195,  ...,  0.0256, -0.0800,  0.1235],\n",
      "         [ 0.0536, -0.0655,  0.0188,  ...,  0.0662,  0.1130,  0.1094]],\n",
      "\n",
      "        [[-0.0345,  0.1248,  0.0429,  ..., -0.0931,  0.1034,  0.1035],\n",
      "         [ 0.0014, -0.0810, -0.0311,  ...,  0.0576, -0.0448, -0.0572],\n",
      "         [ 0.1117, -0.0134,  0.0757,  ..., -0.0757,  0.0752,  0.0798],\n",
      "         [ 0.1164,  0.0237, -0.0702,  ...,  0.0699,  0.0263, -0.0282],\n",
      "         [ 0.0784, -0.1051, -0.0910,  ...,  0.0918, -0.0706,  0.0769],\n",
      "         [ 0.0221,  0.1256,  0.0599,  ...,  0.1047,  0.0368, -0.0784]],\n",
      "\n",
      "        [[-0.0588,  0.1088,  0.0536,  ...,  0.0265, -0.0313, -0.0208],\n",
      "         [ 0.0780, -0.0280, -0.0965,  ..., -0.0019,  0.1201,  0.1080],\n",
      "         [-0.0543,  0.0130,  0.0038,  ...,  0.0667,  0.0417,  0.0201],\n",
      "         [ 0.0143,  0.0591, -0.0908,  ..., -0.0223,  0.0741,  0.1262],\n",
      "         [-0.0248,  0.0744, -0.0301,  ..., -0.0464, -0.0137,  0.0442],\n",
      "         [-0.1141,  0.0390,  0.0750,  ..., -0.0231,  0.0647, -0.0918]]])), ('l9.bias', tensor([-0.1005,  0.0825, -0.1134,  0.0490, -0.0215, -0.0029]))])\n"
     ]
    },
    {
     "name": "stderr",
     "output_type": "stream",
     "text": [
      "Epoch 0: 100%|██████████| 2300/2300 [01:10<00:00, 32.50batch/s, loss=0.723]\n",
      "Epoch 1: 100%|██████████| 2300/2300 [01:14<00:00, 30.96batch/s, loss=0.689]\n",
      "Epoch 2: 100%|██████████| 2300/2300 [01:11<00:00, 32.06batch/s, loss=0.789]\n",
      "Epoch 3: 100%|██████████| 2300/2300 [01:09<00:00, 33.10batch/s, loss=0.776]\n",
      "Epoch 4: 100%|██████████| 2300/2300 [01:00<00:00, 37.86batch/s, loss=1.02] \n",
      "Epoch 5: 100%|██████████| 2300/2300 [00:58<00:00, 39.06batch/s, loss=0.818]\n",
      "Epoch 6: 100%|██████████| 2300/2300 [00:59<00:00, 38.61batch/s, loss=0.84] \n",
      "Epoch 7: 100%|██████████| 2300/2300 [01:20<00:00, 28.69batch/s, loss=0.867]\n",
      "Epoch 8: 100%|██████████| 2300/2300 [01:15<00:00, 30.34batch/s, loss=0.74] \n",
      "Epoch 9: 100%|██████████| 2300/2300 [01:07<00:00, 34.10batch/s, loss=0.812]\n",
      "Epoch 10: 100%|██████████| 2300/2300 [01:12<00:00, 31.66batch/s, loss=1.01] \n",
      "Epoch 11: 100%|██████████| 2300/2300 [01:10<00:00, 32.43batch/s, loss=1.52] \n",
      "Epoch 12: 100%|██████████| 2300/2300 [01:12<00:00, 31.84batch/s, loss=1.46] \n",
      "Epoch 13: 100%|██████████| 2300/2300 [01:08<00:00, 33.80batch/s, loss=0.723]\n",
      "Epoch 14: 100%|██████████| 2300/2300 [01:11<00:00, 32.39batch/s, loss=1.39] \n",
      "Epoch 15: 100%|██████████| 2300/2300 [01:32<00:00, 24.96batch/s, loss=0.956]\n",
      "Epoch 16: 100%|██████████| 2300/2300 [01:23<00:00, 27.54batch/s, loss=0.751]\n",
      "Epoch 17: 100%|██████████| 2300/2300 [01:22<00:00, 27.73batch/s, loss=0.706]\n",
      "Epoch 18: 100%|██████████| 2300/2300 [01:19<00:00, 28.80batch/s, loss=0.83] \n",
      "Epoch 19: 100%|██████████| 2300/2300 [01:21<00:00, 28.08batch/s, loss=0.848]\n",
      "Epoch 20: 100%|██████████| 2300/2300 [01:21<00:00, 28.07batch/s, loss=0.835]\n",
      "Epoch 21: 100%|██████████| 2300/2300 [01:21<00:00, 28.34batch/s, loss=0.798]\n",
      "Epoch 22: 100%|██████████| 2300/2300 [01:26<00:00, 26.45batch/s, loss=0.711]\n",
      "Epoch 23: 100%|██████████| 2300/2300 [01:26<00:00, 26.55batch/s, loss=1.13] \n",
      "Epoch 24: 100%|██████████| 2300/2300 [01:27<00:00, 26.15batch/s, loss=0.732]\n",
      "Epoch 25: 100%|██████████| 2300/2300 [01:31<00:00, 25.23batch/s, loss=0.813]\n",
      "Epoch 26: 100%|██████████| 2300/2300 [01:27<00:00, 26.23batch/s, loss=1.13] \n",
      "Epoch 27: 100%|██████████| 2300/2300 [01:31<00:00, 25.23batch/s, loss=0.855]\n",
      "Epoch 28: 100%|██████████| 2300/2300 [01:31<00:00, 25.23batch/s, loss=0.893]\n",
      "Epoch 29: 100%|██████████| 2300/2300 [01:37<00:00, 23.70batch/s, loss=0.966]\n",
      "Epoch 30: 100%|██████████| 2300/2300 [01:26<00:00, 26.64batch/s, loss=0.868]\n",
      "Epoch 31: 100%|██████████| 2300/2300 [02:06<00:00, 18.22batch/s, loss=0.987]\n",
      "Epoch 32: 100%|██████████| 2300/2300 [01:55<00:00, 19.85batch/s, loss=1.11] \n",
      "Epoch 33: 100%|██████████| 2300/2300 [01:40<00:00, 22.99batch/s, loss=0.725]\n",
      "Epoch 34: 100%|██████████| 2300/2300 [01:37<00:00, 23.52batch/s, loss=0.934]\n",
      "Epoch 35: 100%|██████████| 2300/2300 [01:39<00:00, 23.16batch/s, loss=0.935]\n",
      "Epoch 36: 100%|██████████| 2300/2300 [01:59<00:00, 19.27batch/s, loss=0.927]\n",
      "Epoch 37: 100%|██████████| 2300/2300 [01:45<00:00, 21.71batch/s, loss=0.891]\n",
      "Epoch 38: 100%|██████████| 2300/2300 [01:58<00:00, 19.48batch/s, loss=1.05] \n",
      "Epoch 39: 100%|██████████| 2300/2300 [01:58<00:00, 19.41batch/s, loss=0.78] \n",
      "Epoch 40: 100%|██████████| 2300/2300 [02:08<00:00, 17.89batch/s, loss=0.788]\n",
      "Epoch 41: 100%|██████████| 2300/2300 [02:11<00:00, 17.48batch/s, loss=0.926]\n",
      "Epoch 42: 100%|██████████| 2300/2300 [02:05<00:00, 18.27batch/s, loss=0.8]  \n",
      "Epoch 43: 100%|██████████| 2300/2300 [01:59<00:00, 19.32batch/s, loss=0.834]\n",
      "Epoch 44: 100%|██████████| 2300/2300 [01:51<00:00, 20.58batch/s, loss=0.96] \n",
      "Epoch 45: 100%|██████████| 2300/2300 [01:58<00:00, 19.43batch/s, loss=0.797]\n",
      "Epoch 46: 100%|██████████| 2300/2300 [01:58<00:00, 19.46batch/s, loss=0.901]\n",
      "Epoch 47: 100%|██████████| 2300/2300 [01:56<00:00, 19.75batch/s, loss=1.31] \n",
      "Epoch 48: 100%|██████████| 2300/2300 [02:07<00:00, 18.08batch/s, loss=0.723]\n",
      "Epoch 49: 100%|██████████| 2300/2300 [02:23<00:00, 16.07batch/s, loss=0.895]\n"
     ]
    }
   ],
   "source": [
    "generator = Genera().to(device)\n",
    "discriminator = Discri().to(device)\n",
    "\n",
    "print(generator.state_dict())\n",
    "\n",
    "X_train = torch.tensor(X.astype(np.float32), dtype=torch.float32, device=device).detach()\n",
    "\n",
    "dLoss, gLoss, acc = trainRoutine(X_train, n_epochs, generator, discriminator)"
   ]
  },
  {
   "cell_type": "code",
   "execution_count": 22,
   "metadata": {},
   "outputs": [
    {
     "data": {
      "application/vnd.plotly.v1+json": {
       "config": {
        "plotlyServerURL": "https://plot.ly"
       },
       "data": [
        {
         "mode": "lines",
         "name": "dLoss",
         "showlegend": true,
         "type": "scatter",
         "y": [
          1.3837885856628418,
          1.225473165512085,
          1.1171855926513672,
          1.1461931467056274,
          1.3047823905944824,
          0.9574137330055237,
          1.1570640802383423,
          1.5537033081054688,
          0.8227834701538086,
          1.2284319400787354,
          1.1178550720214844,
          0.9888580441474915,
          1.5660955905914307,
          1.1940897703170776,
          1.0872092247009277,
          1.01279616355896,
          1.6808528900146484,
          1.6080002784729004,
          1.7243809700012207,
          1.643982172012329,
          1.6445778608322144,
          1.6384063959121704,
          1.9083244800567627,
          2.094611644744873,
          1.9437518119812012,
          1.6075093746185303,
          1.544480800628662,
          1.3674287796020508,
          1.7403866052627563,
          1.7713197469711304,
          1.9870326519012451,
          1.5419766902923584,
          1.6855082511901855,
          2.045969009399414,
          1.5806807279586792,
          1.638265609741211,
          1.6699340343475342,
          1.9376004934310913,
          1.61763596534729,
          2.0089991092681885,
          1.800561785697937,
          1.9182041883468628,
          1.689965009689331,
          1.8116543292999268,
          1.6019821166992188,
          1.7995054721832275,
          1.6463885307312012,
          1.7488493919372559,
          1.4447542428970337,
          2.0605263710021973,
          1.7899041175842285
         ]
        },
        {
         "mode": "lines",
         "name": "gLoss",
         "showlegend": true,
         "type": "scatter",
         "y": [
          0.6931271553039551,
          0.702364444732666,
          0.6550724506378174,
          0.6271687746047974,
          0.7511889338493347,
          1.1655223369598389,
          0.873249888420105,
          1.4184956550598145,
          1.0140761137008667,
          0.7522670030593872,
          0.6677470207214355,
          1.03633451461792,
          1.4179267883300781,
          1.2825936079025269,
          0.8347585797309875,
          1.2340861558914185,
          0.9196058511734009,
          0.68011075258255,
          0.6020301580429077,
          0.7040644288063049,
          0.6381953358650208,
          0.7225738763809204,
          0.6953360438346863,
          0.604289710521698,
          0.6642590165138245,
          0.5917658805847168,
          0.7236683368682861,
          0.7887907028198242,
          0.7703391909599304,
          0.7933968901634216,
          0.8004212379455566,
          0.7250872850418091,
          0.8060626983642578,
          0.8817723393440247,
          0.666851282119751,
          0.7251503467559814,
          0.7445986866950989,
          0.828067421913147,
          0.7512045502662659,
          0.6219139099121094,
          0.6816773414611816,
          0.5858515501022339,
          0.7096380591392517,
          0.5960853695869446,
          0.5222108960151672,
          0.63975590467453,
          0.6888096332550049,
          0.8235872983932495,
          1.2974607944488525,
          0.4982437491416931,
          0.5446352958679199
         ]
        }
       ],
       "layout": {
        "height": 600,
        "template": {
         "data": {
          "bar": [
           {
            "error_x": {
             "color": "#2a3f5f"
            },
            "error_y": {
             "color": "#2a3f5f"
            },
            "marker": {
             "line": {
              "color": "#E5ECF6",
              "width": 0.5
             },
             "pattern": {
              "fillmode": "overlay",
              "size": 10,
              "solidity": 0.2
             }
            },
            "type": "bar"
           }
          ],
          "barpolar": [
           {
            "marker": {
             "line": {
              "color": "#E5ECF6",
              "width": 0.5
             },
             "pattern": {
              "fillmode": "overlay",
              "size": 10,
              "solidity": 0.2
             }
            },
            "type": "barpolar"
           }
          ],
          "carpet": [
           {
            "aaxis": {
             "endlinecolor": "#2a3f5f",
             "gridcolor": "white",
             "linecolor": "white",
             "minorgridcolor": "white",
             "startlinecolor": "#2a3f5f"
            },
            "baxis": {
             "endlinecolor": "#2a3f5f",
             "gridcolor": "white",
             "linecolor": "white",
             "minorgridcolor": "white",
             "startlinecolor": "#2a3f5f"
            },
            "type": "carpet"
           }
          ],
          "choropleth": [
           {
            "colorbar": {
             "outlinewidth": 0,
             "ticks": ""
            },
            "type": "choropleth"
           }
          ],
          "contour": [
           {
            "colorbar": {
             "outlinewidth": 0,
             "ticks": ""
            },
            "colorscale": [
             [
              0,
              "#0d0887"
             ],
             [
              0.1111111111111111,
              "#46039f"
             ],
             [
              0.2222222222222222,
              "#7201a8"
             ],
             [
              0.3333333333333333,
              "#9c179e"
             ],
             [
              0.4444444444444444,
              "#bd3786"
             ],
             [
              0.5555555555555556,
              "#d8576b"
             ],
             [
              0.6666666666666666,
              "#ed7953"
             ],
             [
              0.7777777777777778,
              "#fb9f3a"
             ],
             [
              0.8888888888888888,
              "#fdca26"
             ],
             [
              1,
              "#f0f921"
             ]
            ],
            "type": "contour"
           }
          ],
          "contourcarpet": [
           {
            "colorbar": {
             "outlinewidth": 0,
             "ticks": ""
            },
            "type": "contourcarpet"
           }
          ],
          "heatmap": [
           {
            "colorbar": {
             "outlinewidth": 0,
             "ticks": ""
            },
            "colorscale": [
             [
              0,
              "#0d0887"
             ],
             [
              0.1111111111111111,
              "#46039f"
             ],
             [
              0.2222222222222222,
              "#7201a8"
             ],
             [
              0.3333333333333333,
              "#9c179e"
             ],
             [
              0.4444444444444444,
              "#bd3786"
             ],
             [
              0.5555555555555556,
              "#d8576b"
             ],
             [
              0.6666666666666666,
              "#ed7953"
             ],
             [
              0.7777777777777778,
              "#fb9f3a"
             ],
             [
              0.8888888888888888,
              "#fdca26"
             ],
             [
              1,
              "#f0f921"
             ]
            ],
            "type": "heatmap"
           }
          ],
          "heatmapgl": [
           {
            "colorbar": {
             "outlinewidth": 0,
             "ticks": ""
            },
            "colorscale": [
             [
              0,
              "#0d0887"
             ],
             [
              0.1111111111111111,
              "#46039f"
             ],
             [
              0.2222222222222222,
              "#7201a8"
             ],
             [
              0.3333333333333333,
              "#9c179e"
             ],
             [
              0.4444444444444444,
              "#bd3786"
             ],
             [
              0.5555555555555556,
              "#d8576b"
             ],
             [
              0.6666666666666666,
              "#ed7953"
             ],
             [
              0.7777777777777778,
              "#fb9f3a"
             ],
             [
              0.8888888888888888,
              "#fdca26"
             ],
             [
              1,
              "#f0f921"
             ]
            ],
            "type": "heatmapgl"
           }
          ],
          "histogram": [
           {
            "marker": {
             "pattern": {
              "fillmode": "overlay",
              "size": 10,
              "solidity": 0.2
             }
            },
            "type": "histogram"
           }
          ],
          "histogram2d": [
           {
            "colorbar": {
             "outlinewidth": 0,
             "ticks": ""
            },
            "colorscale": [
             [
              0,
              "#0d0887"
             ],
             [
              0.1111111111111111,
              "#46039f"
             ],
             [
              0.2222222222222222,
              "#7201a8"
             ],
             [
              0.3333333333333333,
              "#9c179e"
             ],
             [
              0.4444444444444444,
              "#bd3786"
             ],
             [
              0.5555555555555556,
              "#d8576b"
             ],
             [
              0.6666666666666666,
              "#ed7953"
             ],
             [
              0.7777777777777778,
              "#fb9f3a"
             ],
             [
              0.8888888888888888,
              "#fdca26"
             ],
             [
              1,
              "#f0f921"
             ]
            ],
            "type": "histogram2d"
           }
          ],
          "histogram2dcontour": [
           {
            "colorbar": {
             "outlinewidth": 0,
             "ticks": ""
            },
            "colorscale": [
             [
              0,
              "#0d0887"
             ],
             [
              0.1111111111111111,
              "#46039f"
             ],
             [
              0.2222222222222222,
              "#7201a8"
             ],
             [
              0.3333333333333333,
              "#9c179e"
             ],
             [
              0.4444444444444444,
              "#bd3786"
             ],
             [
              0.5555555555555556,
              "#d8576b"
             ],
             [
              0.6666666666666666,
              "#ed7953"
             ],
             [
              0.7777777777777778,
              "#fb9f3a"
             ],
             [
              0.8888888888888888,
              "#fdca26"
             ],
             [
              1,
              "#f0f921"
             ]
            ],
            "type": "histogram2dcontour"
           }
          ],
          "mesh3d": [
           {
            "colorbar": {
             "outlinewidth": 0,
             "ticks": ""
            },
            "type": "mesh3d"
           }
          ],
          "parcoords": [
           {
            "line": {
             "colorbar": {
              "outlinewidth": 0,
              "ticks": ""
             }
            },
            "type": "parcoords"
           }
          ],
          "pie": [
           {
            "automargin": true,
            "type": "pie"
           }
          ],
          "scatter": [
           {
            "fillpattern": {
             "fillmode": "overlay",
             "size": 10,
             "solidity": 0.2
            },
            "type": "scatter"
           }
          ],
          "scatter3d": [
           {
            "line": {
             "colorbar": {
              "outlinewidth": 0,
              "ticks": ""
             }
            },
            "marker": {
             "colorbar": {
              "outlinewidth": 0,
              "ticks": ""
             }
            },
            "type": "scatter3d"
           }
          ],
          "scattercarpet": [
           {
            "marker": {
             "colorbar": {
              "outlinewidth": 0,
              "ticks": ""
             }
            },
            "type": "scattercarpet"
           }
          ],
          "scattergeo": [
           {
            "marker": {
             "colorbar": {
              "outlinewidth": 0,
              "ticks": ""
             }
            },
            "type": "scattergeo"
           }
          ],
          "scattergl": [
           {
            "marker": {
             "colorbar": {
              "outlinewidth": 0,
              "ticks": ""
             }
            },
            "type": "scattergl"
           }
          ],
          "scattermapbox": [
           {
            "marker": {
             "colorbar": {
              "outlinewidth": 0,
              "ticks": ""
             }
            },
            "type": "scattermapbox"
           }
          ],
          "scatterpolar": [
           {
            "marker": {
             "colorbar": {
              "outlinewidth": 0,
              "ticks": ""
             }
            },
            "type": "scatterpolar"
           }
          ],
          "scatterpolargl": [
           {
            "marker": {
             "colorbar": {
              "outlinewidth": 0,
              "ticks": ""
             }
            },
            "type": "scatterpolargl"
           }
          ],
          "scatterternary": [
           {
            "marker": {
             "colorbar": {
              "outlinewidth": 0,
              "ticks": ""
             }
            },
            "type": "scatterternary"
           }
          ],
          "surface": [
           {
            "colorbar": {
             "outlinewidth": 0,
             "ticks": ""
            },
            "colorscale": [
             [
              0,
              "#0d0887"
             ],
             [
              0.1111111111111111,
              "#46039f"
             ],
             [
              0.2222222222222222,
              "#7201a8"
             ],
             [
              0.3333333333333333,
              "#9c179e"
             ],
             [
              0.4444444444444444,
              "#bd3786"
             ],
             [
              0.5555555555555556,
              "#d8576b"
             ],
             [
              0.6666666666666666,
              "#ed7953"
             ],
             [
              0.7777777777777778,
              "#fb9f3a"
             ],
             [
              0.8888888888888888,
              "#fdca26"
             ],
             [
              1,
              "#f0f921"
             ]
            ],
            "type": "surface"
           }
          ],
          "table": [
           {
            "cells": {
             "fill": {
              "color": "#EBF0F8"
             },
             "line": {
              "color": "white"
             }
            },
            "header": {
             "fill": {
              "color": "#C8D4E3"
             },
             "line": {
              "color": "white"
             }
            },
            "type": "table"
           }
          ]
         },
         "layout": {
          "annotationdefaults": {
           "arrowcolor": "#2a3f5f",
           "arrowhead": 0,
           "arrowwidth": 1
          },
          "autotypenumbers": "strict",
          "coloraxis": {
           "colorbar": {
            "outlinewidth": 0,
            "ticks": ""
           }
          },
          "colorscale": {
           "diverging": [
            [
             0,
             "#8e0152"
            ],
            [
             0.1,
             "#c51b7d"
            ],
            [
             0.2,
             "#de77ae"
            ],
            [
             0.3,
             "#f1b6da"
            ],
            [
             0.4,
             "#fde0ef"
            ],
            [
             0.5,
             "#f7f7f7"
            ],
            [
             0.6,
             "#e6f5d0"
            ],
            [
             0.7,
             "#b8e186"
            ],
            [
             0.8,
             "#7fbc41"
            ],
            [
             0.9,
             "#4d9221"
            ],
            [
             1,
             "#276419"
            ]
           ],
           "sequential": [
            [
             0,
             "#0d0887"
            ],
            [
             0.1111111111111111,
             "#46039f"
            ],
            [
             0.2222222222222222,
             "#7201a8"
            ],
            [
             0.3333333333333333,
             "#9c179e"
            ],
            [
             0.4444444444444444,
             "#bd3786"
            ],
            [
             0.5555555555555556,
             "#d8576b"
            ],
            [
             0.6666666666666666,
             "#ed7953"
            ],
            [
             0.7777777777777778,
             "#fb9f3a"
            ],
            [
             0.8888888888888888,
             "#fdca26"
            ],
            [
             1,
             "#f0f921"
            ]
           ],
           "sequentialminus": [
            [
             0,
             "#0d0887"
            ],
            [
             0.1111111111111111,
             "#46039f"
            ],
            [
             0.2222222222222222,
             "#7201a8"
            ],
            [
             0.3333333333333333,
             "#9c179e"
            ],
            [
             0.4444444444444444,
             "#bd3786"
            ],
            [
             0.5555555555555556,
             "#d8576b"
            ],
            [
             0.6666666666666666,
             "#ed7953"
            ],
            [
             0.7777777777777778,
             "#fb9f3a"
            ],
            [
             0.8888888888888888,
             "#fdca26"
            ],
            [
             1,
             "#f0f921"
            ]
           ]
          },
          "colorway": [
           "#636efa",
           "#EF553B",
           "#00cc96",
           "#ab63fa",
           "#FFA15A",
           "#19d3f3",
           "#FF6692",
           "#B6E880",
           "#FF97FF",
           "#FECB52"
          ],
          "font": {
           "color": "#2a3f5f"
          },
          "geo": {
           "bgcolor": "white",
           "lakecolor": "white",
           "landcolor": "#E5ECF6",
           "showlakes": true,
           "showland": true,
           "subunitcolor": "white"
          },
          "hoverlabel": {
           "align": "left"
          },
          "hovermode": "closest",
          "mapbox": {
           "style": "light"
          },
          "paper_bgcolor": "white",
          "plot_bgcolor": "#E5ECF6",
          "polar": {
           "angularaxis": {
            "gridcolor": "white",
            "linecolor": "white",
            "ticks": ""
           },
           "bgcolor": "#E5ECF6",
           "radialaxis": {
            "gridcolor": "white",
            "linecolor": "white",
            "ticks": ""
           }
          },
          "scene": {
           "xaxis": {
            "backgroundcolor": "#E5ECF6",
            "gridcolor": "white",
            "gridwidth": 2,
            "linecolor": "white",
            "showbackground": true,
            "ticks": "",
            "zerolinecolor": "white"
           },
           "yaxis": {
            "backgroundcolor": "#E5ECF6",
            "gridcolor": "white",
            "gridwidth": 2,
            "linecolor": "white",
            "showbackground": true,
            "ticks": "",
            "zerolinecolor": "white"
           },
           "zaxis": {
            "backgroundcolor": "#E5ECF6",
            "gridcolor": "white",
            "gridwidth": 2,
            "linecolor": "white",
            "showbackground": true,
            "ticks": "",
            "zerolinecolor": "white"
           }
          },
          "shapedefaults": {
           "line": {
            "color": "#2a3f5f"
           }
          },
          "ternary": {
           "aaxis": {
            "gridcolor": "white",
            "linecolor": "white",
            "ticks": ""
           },
           "baxis": {
            "gridcolor": "white",
            "linecolor": "white",
            "ticks": ""
           },
           "bgcolor": "#E5ECF6",
           "caxis": {
            "gridcolor": "white",
            "linecolor": "white",
            "ticks": ""
           }
          },
          "title": {
           "x": 0.05
          },
          "xaxis": {
           "automargin": true,
           "gridcolor": "white",
           "linecolor": "white",
           "ticks": "",
           "title": {
            "standoff": 15
           },
           "zerolinecolor": "white",
           "zerolinewidth": 2
          },
          "yaxis": {
           "automargin": true,
           "gridcolor": "white",
           "linecolor": "white",
           "ticks": "",
           "title": {
            "standoff": 15
           },
           "zerolinecolor": "white",
           "zerolinewidth": 2
          }
         }
        },
        "width": 1000
       }
      }
     },
     "metadata": {},
     "output_type": "display_data"
    }
   ],
   "source": [
    "fig1 = go.Figure()\n",
    "\n",
    "fig1.add_trace(go.Scatter(y=dLoss, mode=\"lines\", showlegend=True, name='dLoss'))\n",
    "fig1.add_trace(go.Scatter(y=gLoss, mode=\"lines\", showlegend=True, name='gLoss'))\n",
    "#fig1.add_trace(go.Scatter(y=acc, mode=\"lines\", showlegend=True, name='acc'))\n",
    "fig1.update_layout(width=1000, height=600)\n",
    "\n",
    "fig1.show()"
   ]
  },
  {
   "cell_type": "markdown",
   "metadata": {},
   "source": [
    "### Saving Trained Model"
   ]
  },
  {
   "cell_type": "code",
   "execution_count": 23,
   "metadata": {},
   "outputs": [
    {
     "name": "stdout",
     "output_type": "stream",
     "text": [
      "saving model in  ./trained_models/1/experiment_2_author_author_training/model.pth\n"
     ]
    }
   ],
   "source": [
    "save_model(generator, discriminator, 1)"
   ]
  },
  {
   "cell_type": "markdown",
   "metadata": {},
   "source": [
    "### Testing TCGAN minerva-like\n"
   ]
  },
  {
   "cell_type": "code",
   "execution_count": 21,
   "metadata": {},
   "outputs": [],
   "source": [
    "from TCGAN_model import TCGAN_Discriminator, TCGAN_Generator, TCGAN_Encoder\n",
    "\n",
    "generator = TCGAN_Generator().to(device)\n",
    "discriminator = TCGAN_Discriminator().to(device)"
   ]
  },
  {
   "cell_type": "code",
   "execution_count": 25,
   "metadata": {},
   "outputs": [
    {
     "name": "stdout",
     "output_type": "stream",
     "text": [
      "saving model in  ./trained_models/1/experiment_3_enhanced_newly_untrained/model.pth\n"
     ]
    }
   ],
   "source": [
    "save_model(generator, discriminator, 2)"
   ]
  },
  {
   "cell_type": "code",
   "execution_count": 26,
   "metadata": {},
   "outputs": [
    {
     "name": "stdout",
     "output_type": "stream",
     "text": [
      "OrderedDict([('l1.weight', tensor([[-0.0055,  0.0068, -0.0064,  ..., -0.0056, -0.0212,  0.0084],\n",
      "        [ 0.0235, -0.0158, -0.0067,  ...,  0.0030,  0.0215,  0.0190],\n",
      "        [-0.0185, -0.0251,  0.0161,  ...,  0.0162,  0.0003,  0.0292],\n",
      "        ...,\n",
      "        [ 0.0233, -0.0065,  0.0319,  ..., -0.0019, -0.0378,  0.0076],\n",
      "        [-0.0123,  0.0082, -0.0068,  ..., -0.0162, -0.0080,  0.0005],\n",
      "        [ 0.0364,  0.0349,  0.0066,  ..., -0.0020,  0.0144, -0.0014]])), ('l1.bias', tensor([0., 0., 0.,  ..., 0., 0., 0.])), ('l2.module.weight', tensor([ 0.0023, -0.0311, -0.0334,  ..., -0.0271, -0.0198,  0.0257])), ('l2.module.bias', tensor([0., 0., 0.,  ..., 0., 0., 0.])), ('l2.module.running_mean', tensor([0., 0., 0.,  ..., 0., 0., 0.])), ('l2.module.running_var', tensor([1., 1., 1.,  ..., 1., 1., 1.])), ('l2.module.num_batches_tracked', tensor(0)), ('l3.weight', tensor([[[-7.8784e-03, -3.8718e-03, -3.4752e-02,  ..., -2.7918e-03,\n",
      "           1.9673e-02,  2.0200e-02],\n",
      "         [-8.7788e-03, -2.6416e-02,  1.4929e-02,  ..., -9.4001e-03,\n",
      "          -1.3824e-02, -4.4216e-03],\n",
      "         [ 4.5785e-03, -1.6337e-02, -3.7695e-02,  ...,  2.4757e-03,\n",
      "           1.9392e-02, -2.9547e-02],\n",
      "         ...,\n",
      "         [-7.7374e-03,  1.0750e-02, -1.0457e-02,  ..., -2.7208e-03,\n",
      "           6.0024e-03, -3.3277e-02],\n",
      "         [ 4.5427e-03,  2.4357e-02,  4.6836e-03,  ...,  3.7307e-03,\n",
      "           2.2021e-02,  1.0891e-02],\n",
      "         [-1.0824e-02, -7.5118e-03, -1.7550e-02,  ...,  3.9645e-02,\n",
      "          -7.9070e-03, -9.0994e-03]],\n",
      "\n",
      "        [[ 1.3883e-02, -2.9201e-02, -3.0681e-03,  ...,  3.8961e-03,\n",
      "          -1.2022e-02, -2.2890e-02],\n",
      "         [ 1.0264e-02,  7.1056e-03,  3.6898e-02,  ..., -8.6608e-03,\n",
      "           3.6302e-02, -2.7931e-02],\n",
      "         [-1.3716e-02, -6.6788e-03, -1.8240e-02,  ...,  8.5199e-03,\n",
      "           6.8839e-03, -2.7133e-02],\n",
      "         ...,\n",
      "         [ 1.0539e-02, -1.4735e-02, -2.2659e-02,  ...,  4.9071e-03,\n",
      "           1.9514e-03, -2.9529e-03],\n",
      "         [-1.4737e-04, -7.5888e-03,  6.8727e-04,  ..., -2.4158e-02,\n",
      "          -4.1627e-03,  8.0008e-03],\n",
      "         [-4.4316e-03,  1.4592e-02, -1.1568e-02,  ...,  1.4824e-02,\n",
      "           2.7329e-03, -1.9408e-02]],\n",
      "\n",
      "        [[-2.7805e-02, -9.8323e-03,  6.0493e-03,  ..., -2.4275e-02,\n",
      "          -6.8768e-03, -4.4266e-03],\n",
      "         [-6.9079e-03,  3.0435e-03,  1.0205e-02,  ..., -2.4054e-02,\n",
      "          -5.5009e-03, -3.0504e-03],\n",
      "         [-2.4864e-02,  1.4950e-02, -2.5371e-02,  ...,  2.1261e-03,\n",
      "          -1.5410e-02,  3.4991e-02],\n",
      "         ...,\n",
      "         [-2.3145e-02,  2.6373e-02,  1.0962e-02,  ..., -1.1216e-02,\n",
      "          -3.1006e-02,  3.7035e-05],\n",
      "         [-1.9582e-02, -1.7996e-02,  9.1700e-04,  ..., -1.1910e-02,\n",
      "          -2.3607e-02,  7.0092e-03],\n",
      "         [-9.4380e-03, -2.8655e-02, -1.7033e-02,  ...,  6.7315e-03,\n",
      "          -8.6897e-03, -1.2742e-02]],\n",
      "\n",
      "        ...,\n",
      "\n",
      "        [[ 1.0344e-02,  6.8552e-03,  2.1398e-02,  ...,  3.9043e-02,\n",
      "           3.5018e-02, -1.3773e-02],\n",
      "         [-3.8140e-03,  7.7669e-03, -1.0244e-02,  ...,  2.2522e-02,\n",
      "          -5.2841e-03,  2.2063e-02],\n",
      "         [ 1.2111e-02,  1.2325e-02,  2.9177e-02,  ..., -3.5186e-02,\n",
      "          -1.5683e-02, -1.4276e-02],\n",
      "         ...,\n",
      "         [-1.8493e-02,  8.7581e-03,  8.5120e-03,  ..., -6.4300e-04,\n",
      "           3.3124e-03,  1.9175e-02],\n",
      "         [-1.6039e-02, -2.8762e-02,  2.2350e-02,  ...,  1.6170e-02,\n",
      "          -1.1304e-02,  2.3692e-03],\n",
      "         [-4.2165e-03, -6.4289e-03,  4.5826e-03,  ...,  6.7329e-03,\n",
      "           2.2066e-02,  2.2567e-02]],\n",
      "\n",
      "        [[ 1.1542e-02,  6.6761e-03, -1.4597e-02,  ...,  9.5339e-04,\n",
      "          -7.5712e-03,  5.9204e-03],\n",
      "         [ 7.8275e-03,  4.5047e-03,  1.9538e-02,  ...,  5.8852e-03,\n",
      "           2.7265e-02, -4.4976e-03],\n",
      "         [-1.1832e-02, -1.8772e-02, -8.5351e-03,  ...,  1.9950e-02,\n",
      "          -7.4179e-03,  3.7331e-02],\n",
      "         ...,\n",
      "         [ 2.3110e-02, -2.9638e-02,  1.1381e-02,  ..., -7.5077e-03,\n",
      "          -7.7773e-03, -1.4663e-03],\n",
      "         [-7.8629e-03, -2.5714e-03, -1.6270e-02,  ...,  3.2746e-02,\n",
      "           1.4111e-02,  4.1215e-03],\n",
      "         [ 1.9216e-02,  1.7736e-02, -1.1725e-02,  ..., -1.0115e-02,\n",
      "          -3.6047e-02, -7.1108e-03]],\n",
      "\n",
      "        [[-1.8062e-02,  1.9538e-02,  2.6164e-02,  ...,  9.2233e-03,\n",
      "          -1.8261e-02,  2.1990e-02],\n",
      "         [-1.7075e-02, -3.9855e-03,  3.6786e-02,  ..., -1.3135e-02,\n",
      "           2.0559e-02, -6.6911e-04],\n",
      "         [ 1.8463e-02, -2.4765e-02,  7.1089e-03,  ...,  2.2495e-02,\n",
      "          -4.9248e-03,  2.1042e-02],\n",
      "         ...,\n",
      "         [ 6.4705e-03,  1.2875e-02, -1.3989e-02,  ...,  1.4719e-03,\n",
      "          -1.3749e-02,  9.0178e-03],\n",
      "         [ 7.8067e-03, -1.6544e-02,  4.8756e-03,  ..., -1.7736e-02,\n",
      "          -2.1026e-02, -3.9604e-02],\n",
      "         [-4.2351e-03,  3.9616e-02,  6.7035e-03,  ...,  2.9154e-02,\n",
      "          -9.7871e-03,  1.5200e-02]]])), ('l3.bias', tensor([0., 0., 0., 0., 0., 0., 0., 0., 0., 0., 0., 0., 0., 0., 0., 0., 0., 0., 0., 0., 0., 0., 0., 0.,\n",
      "        0., 0., 0., 0., 0., 0., 0., 0., 0., 0., 0., 0., 0., 0., 0., 0., 0., 0., 0., 0., 0., 0., 0., 0.,\n",
      "        0., 0., 0., 0., 0., 0., 0., 0., 0., 0., 0., 0., 0., 0., 0., 0., 0., 0., 0., 0., 0., 0., 0., 0.,\n",
      "        0., 0., 0., 0., 0., 0., 0., 0., 0., 0., 0., 0., 0., 0., 0., 0., 0., 0., 0., 0., 0., 0., 0., 0.,\n",
      "        0., 0., 0., 0., 0., 0., 0., 0., 0., 0., 0., 0., 0., 0., 0., 0., 0., 0., 0., 0., 0., 0., 0., 0.,\n",
      "        0., 0., 0., 0., 0., 0., 0., 0.])), ('l4.module.weight', tensor([ 0.0024, -0.0358,  0.0004,  0.0123,  0.0047,  0.0137,  0.0124,  0.0333,\n",
      "         0.0017, -0.0166,  0.0167,  0.0050, -0.0174,  0.0132,  0.0074, -0.0008,\n",
      "         0.0206, -0.0212,  0.0192, -0.0367,  0.0215,  0.0016,  0.0092,  0.0400,\n",
      "         0.0325, -0.0147, -0.0044,  0.0023, -0.0002,  0.0153, -0.0307,  0.0180,\n",
      "         0.0107, -0.0164, -0.0351, -0.0037, -0.0012, -0.0002, -0.0377,  0.0220,\n",
      "         0.0061,  0.0124, -0.0058, -0.0222, -0.0253,  0.0260,  0.0163,  0.0013,\n",
      "        -0.0117,  0.0093, -0.0036, -0.0260,  0.0035, -0.0204, -0.0054, -0.0175,\n",
      "         0.0007,  0.0014, -0.0166, -0.0041, -0.0145,  0.0005,  0.0026, -0.0033,\n",
      "        -0.0016, -0.0027,  0.0147,  0.0104, -0.0091,  0.0098, -0.0181, -0.0196,\n",
      "         0.0326,  0.0032,  0.0328,  0.0137,  0.0034,  0.0032, -0.0169,  0.0109,\n",
      "         0.0217, -0.0178, -0.0212, -0.0079, -0.0131, -0.0147,  0.0277, -0.0094,\n",
      "        -0.0097, -0.0091, -0.0164, -0.0025, -0.0065, -0.0029, -0.0027,  0.0295,\n",
      "         0.0374,  0.0004, -0.0008, -0.0122, -0.0030, -0.0141, -0.0052,  0.0210,\n",
      "         0.0057, -0.0240, -0.0176, -0.0035, -0.0206,  0.0149,  0.0279, -0.0147,\n",
      "        -0.0025,  0.0166, -0.0032, -0.0095,  0.0269,  0.0200,  0.0007,  0.0063,\n",
      "         0.0033, -0.0115, -0.0264, -0.0343,  0.0189,  0.0120, -0.0134, -0.0131])), ('l4.module.bias', tensor([0., 0., 0., 0., 0., 0., 0., 0., 0., 0., 0., 0., 0., 0., 0., 0., 0., 0., 0., 0., 0., 0., 0., 0.,\n",
      "        0., 0., 0., 0., 0., 0., 0., 0., 0., 0., 0., 0., 0., 0., 0., 0., 0., 0., 0., 0., 0., 0., 0., 0.,\n",
      "        0., 0., 0., 0., 0., 0., 0., 0., 0., 0., 0., 0., 0., 0., 0., 0., 0., 0., 0., 0., 0., 0., 0., 0.,\n",
      "        0., 0., 0., 0., 0., 0., 0., 0., 0., 0., 0., 0., 0., 0., 0., 0., 0., 0., 0., 0., 0., 0., 0., 0.,\n",
      "        0., 0., 0., 0., 0., 0., 0., 0., 0., 0., 0., 0., 0., 0., 0., 0., 0., 0., 0., 0., 0., 0., 0., 0.,\n",
      "        0., 0., 0., 0., 0., 0., 0., 0.])), ('l4.module.running_mean', tensor([0., 0., 0., 0., 0., 0., 0., 0., 0., 0., 0., 0., 0., 0., 0., 0., 0., 0., 0., 0., 0., 0., 0., 0.,\n",
      "        0., 0., 0., 0., 0., 0., 0., 0., 0., 0., 0., 0., 0., 0., 0., 0., 0., 0., 0., 0., 0., 0., 0., 0.,\n",
      "        0., 0., 0., 0., 0., 0., 0., 0., 0., 0., 0., 0., 0., 0., 0., 0., 0., 0., 0., 0., 0., 0., 0., 0.,\n",
      "        0., 0., 0., 0., 0., 0., 0., 0., 0., 0., 0., 0., 0., 0., 0., 0., 0., 0., 0., 0., 0., 0., 0., 0.,\n",
      "        0., 0., 0., 0., 0., 0., 0., 0., 0., 0., 0., 0., 0., 0., 0., 0., 0., 0., 0., 0., 0., 0., 0., 0.,\n",
      "        0., 0., 0., 0., 0., 0., 0., 0.])), ('l4.module.running_var', tensor([1., 1., 1., 1., 1., 1., 1., 1., 1., 1., 1., 1., 1., 1., 1., 1., 1., 1.,\n",
      "        1., 1., 1., 1., 1., 1., 1., 1., 1., 1., 1., 1., 1., 1., 1., 1., 1., 1.,\n",
      "        1., 1., 1., 1., 1., 1., 1., 1., 1., 1., 1., 1., 1., 1., 1., 1., 1., 1.,\n",
      "        1., 1., 1., 1., 1., 1., 1., 1., 1., 1., 1., 1., 1., 1., 1., 1., 1., 1.,\n",
      "        1., 1., 1., 1., 1., 1., 1., 1., 1., 1., 1., 1., 1., 1., 1., 1., 1., 1.,\n",
      "        1., 1., 1., 1., 1., 1., 1., 1., 1., 1., 1., 1., 1., 1., 1., 1., 1., 1.,\n",
      "        1., 1., 1., 1., 1., 1., 1., 1., 1., 1., 1., 1., 1., 1., 1., 1., 1., 1.,\n",
      "        1., 1.])), ('l4.module.num_batches_tracked', tensor(0)), ('l5.weight', tensor([[[-3.6818e-04,  5.6370e-03,  2.4056e-02,  ..., -4.3559e-03,\n",
      "           2.8007e-02,  2.7414e-02],\n",
      "         [ 1.5097e-03,  1.2962e-02, -1.3704e-02,  ..., -4.5908e-03,\n",
      "          -4.9317e-03, -9.7073e-03],\n",
      "         [ 3.4181e-03,  6.8547e-03,  2.2513e-02,  ..., -9.5307e-03,\n",
      "           1.4757e-02, -2.2865e-02],\n",
      "         ...,\n",
      "         [ 3.2684e-02, -1.1158e-02, -8.7301e-03,  ...,  2.7541e-02,\n",
      "          -7.2795e-03,  1.0080e-02],\n",
      "         [-8.3664e-03, -7.8118e-03, -3.5941e-02,  ...,  6.7890e-05,\n",
      "          -2.7686e-03,  2.5466e-02],\n",
      "         [-2.0232e-03, -9.4182e-04, -2.2364e-02,  ...,  3.4553e-02,\n",
      "          -4.0216e-03,  6.6072e-03]],\n",
      "\n",
      "        [[-1.4130e-02,  4.4159e-03,  5.9780e-03,  ..., -3.2268e-02,\n",
      "           3.7553e-02, -3.9659e-03],\n",
      "         [ 5.7906e-03, -2.1479e-02, -3.4065e-02,  ...,  1.0668e-02,\n",
      "           5.9650e-03, -8.5124e-03],\n",
      "         [-1.9368e-02,  9.7490e-03, -1.9181e-02,  ...,  9.0505e-03,\n",
      "           5.9709e-03, -7.5488e-04],\n",
      "         ...,\n",
      "         [ 1.0783e-02,  1.5724e-02, -2.2311e-03,  ...,  5.0410e-03,\n",
      "           2.4398e-03,  2.1483e-02],\n",
      "         [ 9.8001e-03, -4.5840e-03, -1.0089e-03,  ..., -1.8331e-02,\n",
      "          -2.0852e-02,  3.4058e-02],\n",
      "         [-8.2973e-03, -2.0070e-03, -2.5765e-02,  ...,  1.2260e-02,\n",
      "           3.2142e-02, -1.5059e-02]],\n",
      "\n",
      "        [[-1.2112e-02,  7.8731e-03, -9.5631e-03,  ..., -3.8281e-02,\n",
      "           2.9429e-02,  9.3045e-03],\n",
      "         [ 1.8009e-02,  1.0589e-02, -7.3408e-03,  ..., -2.2566e-02,\n",
      "           2.7601e-02, -1.3906e-02],\n",
      "         [ 1.6249e-03,  1.0091e-04, -3.3825e-02,  ..., -8.4731e-03,\n",
      "           6.4356e-03,  1.6216e-02],\n",
      "         ...,\n",
      "         [ 2.8571e-02, -9.8217e-03, -1.9833e-04,  ...,  1.9211e-02,\n",
      "          -1.1183e-02, -8.9182e-03],\n",
      "         [ 1.8024e-02, -2.6393e-02, -2.2064e-02,  ...,  8.2532e-03,\n",
      "           5.7764e-03, -1.1824e-02],\n",
      "         [-1.7598e-03,  1.7776e-02, -2.2029e-03,  ...,  2.3859e-03,\n",
      "          -3.1409e-02, -5.9564e-04]],\n",
      "\n",
      "        ...,\n",
      "\n",
      "        [[ 1.2747e-02,  2.1175e-02, -1.3249e-02,  ..., -3.8454e-02,\n",
      "          -2.6920e-02, -2.6926e-02],\n",
      "         [ 3.0967e-02,  1.7635e-02,  2.3467e-02,  ..., -2.8976e-02,\n",
      "          -3.3738e-03, -1.4689e-02],\n",
      "         [-1.8947e-02,  3.5629e-02,  9.1849e-03,  ..., -1.4024e-02,\n",
      "          -1.3062e-02, -1.9175e-02],\n",
      "         ...,\n",
      "         [-2.9800e-02,  3.1119e-02, -3.0828e-02,  ...,  1.1307e-02,\n",
      "           6.1514e-03, -1.1222e-02],\n",
      "         [ 7.1210e-03, -1.4131e-02, -2.4999e-02,  ...,  2.1461e-02,\n",
      "           1.1232e-02,  1.1347e-02],\n",
      "         [-8.6532e-03,  1.7805e-03,  3.6305e-03,  ..., -2.7589e-02,\n",
      "          -1.0640e-02, -2.3204e-02]],\n",
      "\n",
      "        [[ 5.7408e-04,  1.8390e-02, -7.7852e-03,  ..., -7.2571e-03,\n",
      "           2.0372e-02, -1.6186e-02],\n",
      "         [-5.3912e-03,  8.1615e-04, -6.6050e-03,  ...,  2.5748e-02,\n",
      "          -1.9353e-02,  1.3648e-02],\n",
      "         [ 6.4336e-03, -6.5894e-03,  7.5077e-03,  ..., -2.2972e-02,\n",
      "           6.0200e-03,  5.4201e-03],\n",
      "         ...,\n",
      "         [-8.4139e-03,  1.4338e-02, -5.2269e-03,  ...,  7.9884e-03,\n",
      "          -3.2601e-02, -9.9729e-03],\n",
      "         [ 1.7687e-02, -1.2561e-02,  2.2588e-02,  ...,  1.1676e-02,\n",
      "           2.6174e-05, -1.7106e-02],\n",
      "         [ 3.7995e-03, -2.5798e-02,  3.3899e-03,  ...,  6.4179e-03,\n",
      "          -5.9289e-03,  1.3543e-02]],\n",
      "\n",
      "        [[-2.2470e-02,  2.2339e-02,  2.6935e-03,  ..., -1.0214e-02,\n",
      "           2.7116e-02,  3.7912e-03],\n",
      "         [ 4.4711e-03,  1.1960e-02, -8.1320e-03,  ...,  5.3578e-03,\n",
      "          -7.9848e-03,  3.5706e-02],\n",
      "         [-2.2531e-02,  1.4663e-02,  1.2033e-02,  ...,  6.2122e-03,\n",
      "           3.1570e-03, -4.8489e-03],\n",
      "         ...,\n",
      "         [-7.8008e-03,  1.2821e-02,  2.6230e-02,  ..., -5.3989e-03,\n",
      "           2.5908e-03,  1.5180e-02],\n",
      "         [-5.5012e-03, -1.0910e-02, -6.5047e-03,  ...,  1.8800e-02,\n",
      "          -1.0161e-03, -2.9745e-02],\n",
      "         [-7.1888e-04,  2.2532e-02,  2.0141e-02,  ...,  2.7218e-02,\n",
      "           1.3891e-02, -8.8852e-03]]])), ('l5.bias', tensor([0., 0., 0., 0., 0., 0., 0., 0., 0., 0., 0., 0., 0., 0., 0., 0., 0., 0., 0., 0., 0., 0., 0., 0.,\n",
      "        0., 0., 0., 0., 0., 0., 0., 0., 0., 0., 0., 0., 0., 0., 0., 0., 0., 0., 0., 0., 0., 0., 0., 0.,\n",
      "        0., 0., 0., 0., 0., 0., 0., 0., 0., 0., 0., 0., 0., 0., 0., 0.])), ('l6.module.weight', tensor([-0.0026, -0.0169, -0.0392,  0.0127,  0.0033,  0.0260, -0.0241,  0.0194,\n",
      "         0.0220, -0.0046, -0.0290,  0.0324, -0.0330,  0.0066,  0.0109,  0.0219,\n",
      "        -0.0097,  0.0201,  0.0347,  0.0018,  0.0011, -0.0035, -0.0036, -0.0005,\n",
      "         0.0216, -0.0058, -0.0195,  0.0077,  0.0087, -0.0016, -0.0057,  0.0310,\n",
      "         0.0094, -0.0210, -0.0035, -0.0006, -0.0124,  0.0391, -0.0031, -0.0148,\n",
      "        -0.0080,  0.0226, -0.0166,  0.0025, -0.0133, -0.0008, -0.0048, -0.0370,\n",
      "        -0.0233, -0.0092, -0.0243, -0.0095,  0.0360,  0.0352,  0.0281, -0.0040,\n",
      "        -0.0117,  0.0140, -0.0127,  0.0328,  0.0073, -0.0101,  0.0013, -0.0115])), ('l6.module.bias', tensor([0., 0., 0., 0., 0., 0., 0., 0., 0., 0., 0., 0., 0., 0., 0., 0., 0., 0., 0., 0., 0., 0., 0., 0.,\n",
      "        0., 0., 0., 0., 0., 0., 0., 0., 0., 0., 0., 0., 0., 0., 0., 0., 0., 0., 0., 0., 0., 0., 0., 0.,\n",
      "        0., 0., 0., 0., 0., 0., 0., 0., 0., 0., 0., 0., 0., 0., 0., 0.])), ('l6.module.running_mean', tensor([0., 0., 0., 0., 0., 0., 0., 0., 0., 0., 0., 0., 0., 0., 0., 0., 0., 0., 0., 0., 0., 0., 0., 0.,\n",
      "        0., 0., 0., 0., 0., 0., 0., 0., 0., 0., 0., 0., 0., 0., 0., 0., 0., 0., 0., 0., 0., 0., 0., 0.,\n",
      "        0., 0., 0., 0., 0., 0., 0., 0., 0., 0., 0., 0., 0., 0., 0., 0.])), ('l6.module.running_var', tensor([1., 1., 1., 1., 1., 1., 1., 1., 1., 1., 1., 1., 1., 1., 1., 1., 1., 1.,\n",
      "        1., 1., 1., 1., 1., 1., 1., 1., 1., 1., 1., 1., 1., 1., 1., 1., 1., 1.,\n",
      "        1., 1., 1., 1., 1., 1., 1., 1., 1., 1., 1., 1., 1., 1., 1., 1., 1., 1.,\n",
      "        1., 1., 1., 1., 1., 1., 1., 1., 1., 1.])), ('l6.module.num_batches_tracked', tensor(0)), ('l7.weight', tensor([[[-0.0179, -0.0201,  0.0238,  ..., -0.0286,  0.0104,  0.0077],\n",
      "         [ 0.0074,  0.0140, -0.0270,  ...,  0.0370,  0.0269,  0.0239],\n",
      "         [ 0.0091, -0.0057, -0.0173,  ...,  0.0174, -0.0206,  0.0175],\n",
      "         ...,\n",
      "         [-0.0111,  0.0320, -0.0059,  ...,  0.0203, -0.0114, -0.0200],\n",
      "         [-0.0342,  0.0217, -0.0291,  ...,  0.0033, -0.0182,  0.0068],\n",
      "         [ 0.0125,  0.0090,  0.0114,  ...,  0.0054,  0.0018,  0.0317]],\n",
      "\n",
      "        [[-0.0110,  0.0318, -0.0056,  ...,  0.0029,  0.0022, -0.0320],\n",
      "         [ 0.0161,  0.0071,  0.0213,  ..., -0.0110, -0.0330, -0.0019],\n",
      "         [-0.0190, -0.0081,  0.0192,  ...,  0.0251,  0.0028, -0.0160],\n",
      "         ...,\n",
      "         [-0.0007, -0.0049, -0.0009,  ..., -0.0045,  0.0354,  0.0214],\n",
      "         [-0.0117, -0.0104,  0.0140,  ...,  0.0152,  0.0317, -0.0022],\n",
      "         [-0.0146, -0.0351, -0.0205,  ..., -0.0274,  0.0043,  0.0230]],\n",
      "\n",
      "        [[-0.0264,  0.0067,  0.0158,  ...,  0.0009, -0.0023, -0.0004],\n",
      "         [ 0.0212,  0.0087, -0.0033,  ..., -0.0380, -0.0050,  0.0206],\n",
      "         [-0.0124,  0.0176, -0.0163,  ...,  0.0033,  0.0133,  0.0273],\n",
      "         ...,\n",
      "         [ 0.0186,  0.0081,  0.0245,  ...,  0.0177, -0.0074, -0.0080],\n",
      "         [-0.0306,  0.0086, -0.0003,  ...,  0.0330,  0.0186, -0.0117],\n",
      "         [ 0.0047, -0.0075, -0.0272,  ...,  0.0180, -0.0269,  0.0026]],\n",
      "\n",
      "        ...,\n",
      "\n",
      "        [[-0.0364,  0.0265,  0.0124,  ..., -0.0088, -0.0043,  0.0075],\n",
      "         [-0.0389,  0.0116,  0.0062,  ..., -0.0014, -0.0015,  0.0141],\n",
      "         [-0.0207, -0.0245, -0.0184,  ..., -0.0145, -0.0262,  0.0116],\n",
      "         ...,\n",
      "         [ 0.0152, -0.0114, -0.0185,  ...,  0.0091,  0.0328, -0.0131],\n",
      "         [ 0.0029, -0.0161, -0.0049,  ..., -0.0149, -0.0009, -0.0119],\n",
      "         [-0.0275,  0.0153,  0.0219,  ...,  0.0250,  0.0039, -0.0108]],\n",
      "\n",
      "        [[ 0.0337, -0.0109,  0.0172,  ..., -0.0051, -0.0015, -0.0325],\n",
      "         [-0.0282, -0.0176,  0.0170,  ...,  0.0034, -0.0080,  0.0012],\n",
      "         [-0.0261,  0.0118, -0.0115,  ..., -0.0165,  0.0313,  0.0314],\n",
      "         ...,\n",
      "         [-0.0011, -0.0078,  0.0033,  ..., -0.0077, -0.0115,  0.0071],\n",
      "         [ 0.0060, -0.0085, -0.0326,  ...,  0.0115, -0.0016,  0.0156],\n",
      "         [-0.0101, -0.0240, -0.0018,  ...,  0.0095, -0.0179, -0.0154]],\n",
      "\n",
      "        [[ 0.0187,  0.0029,  0.0014,  ..., -0.0003,  0.0154,  0.0087],\n",
      "         [ 0.0176,  0.0169, -0.0098,  ..., -0.0070,  0.0174,  0.0204],\n",
      "         [ 0.0052, -0.0016,  0.0004,  ..., -0.0354, -0.0124,  0.0269],\n",
      "         ...,\n",
      "         [-0.0017,  0.0111, -0.0185,  ..., -0.0177, -0.0082, -0.0117],\n",
      "         [ 0.0057,  0.0049, -0.0109,  ...,  0.0239, -0.0327,  0.0082],\n",
      "         [ 0.0337,  0.0134,  0.0032,  ..., -0.0176, -0.0147,  0.0173]]])), ('l7.bias', tensor([0., 0., 0., 0., 0., 0., 0., 0., 0., 0., 0., 0., 0., 0., 0., 0., 0., 0., 0., 0., 0., 0., 0., 0.,\n",
      "        0., 0., 0., 0., 0., 0., 0., 0.])), ('l8.module.weight', tensor([-0.0129, -0.0130, -0.0062,  0.0045,  0.0084, -0.0305, -0.0014,  0.0096,\n",
      "         0.0101, -0.0100, -0.0077, -0.0018, -0.0130, -0.0106, -0.0116,  0.0212,\n",
      "         0.0196,  0.0127, -0.0056,  0.0258, -0.0333, -0.0220,  0.0138,  0.0155,\n",
      "        -0.0303, -0.0072,  0.0079, -0.0280, -0.0193, -0.0006,  0.0047,  0.0008])), ('l8.module.bias', tensor([0., 0., 0., 0., 0., 0., 0., 0., 0., 0., 0., 0., 0., 0., 0., 0., 0., 0., 0., 0., 0., 0., 0., 0.,\n",
      "        0., 0., 0., 0., 0., 0., 0., 0.])), ('l8.module.running_mean', tensor([0., 0., 0., 0., 0., 0., 0., 0., 0., 0., 0., 0., 0., 0., 0., 0., 0., 0., 0., 0., 0., 0., 0., 0.,\n",
      "        0., 0., 0., 0., 0., 0., 0., 0.])), ('l8.module.running_var', tensor([1., 1., 1., 1., 1., 1., 1., 1., 1., 1., 1., 1., 1., 1., 1., 1., 1., 1.,\n",
      "        1., 1., 1., 1., 1., 1., 1., 1., 1., 1., 1., 1., 1., 1.])), ('l8.module.num_batches_tracked', tensor(0)), ('l9.weight', tensor([[[-0.0330,  0.0114,  0.0099,  ...,  0.0115, -0.0388,  0.0389],\n",
      "         [ 0.0207,  0.0071, -0.0052,  ..., -0.0089,  0.0069, -0.0036],\n",
      "         [ 0.0091, -0.0069,  0.0028,  ...,  0.0180,  0.0200,  0.0137],\n",
      "         [-0.0173, -0.0151, -0.0140,  ..., -0.0136,  0.0097,  0.0053],\n",
      "         [-0.0092, -0.0234,  0.0108,  ...,  0.0198,  0.0011,  0.0231],\n",
      "         [-0.0194, -0.0158, -0.0115,  ..., -0.0308,  0.0288,  0.0115]],\n",
      "\n",
      "        [[ 0.0103,  0.0093, -0.0021,  ..., -0.0038,  0.0053,  0.0122],\n",
      "         [ 0.0064, -0.0024, -0.0030,  ...,  0.0003, -0.0156, -0.0062],\n",
      "         [ 0.0075, -0.0017,  0.0028,  ...,  0.0151,  0.0162,  0.0186],\n",
      "         [ 0.0087, -0.0238, -0.0198,  ...,  0.0084, -0.0002, -0.0044],\n",
      "         [-0.0228,  0.0161,  0.0091,  ...,  0.0198, -0.0140,  0.0065],\n",
      "         [-0.0083,  0.0184,  0.0196,  ...,  0.0194, -0.0253,  0.0324]],\n",
      "\n",
      "        [[ 0.0378, -0.0273, -0.0223,  ...,  0.0098,  0.0107, -0.0303],\n",
      "         [ 0.0225,  0.0023,  0.0012,  ...,  0.0068,  0.0218, -0.0131],\n",
      "         [-0.0128,  0.0390,  0.0169,  ..., -0.0126,  0.0073,  0.0015],\n",
      "         [-0.0323,  0.0214, -0.0117,  ...,  0.0290,  0.0379,  0.0278],\n",
      "         [ 0.0125,  0.0042, -0.0135,  ...,  0.0145,  0.0038,  0.0004],\n",
      "         [ 0.0172, -0.0223,  0.0087,  ...,  0.0075, -0.0293,  0.0173]],\n",
      "\n",
      "        ...,\n",
      "\n",
      "        [[ 0.0079, -0.0114, -0.0130,  ...,  0.0221,  0.0081,  0.0112],\n",
      "         [ 0.0079, -0.0108, -0.0051,  ..., -0.0011, -0.0344, -0.0161],\n",
      "         [-0.0257, -0.0388,  0.0021,  ...,  0.0051, -0.0086, -0.0212],\n",
      "         [ 0.0329,  0.0124, -0.0129,  ...,  0.0167,  0.0320,  0.0172],\n",
      "         [ 0.0257, -0.0171, -0.0140,  ...,  0.0232,  0.0122,  0.0056],\n",
      "         [ 0.0261,  0.0107,  0.0042,  ...,  0.0286, -0.0194, -0.0099]],\n",
      "\n",
      "        [[ 0.0104, -0.0053, -0.0048,  ..., -0.0046,  0.0069,  0.0169],\n",
      "         [-0.0104, -0.0179, -0.0300,  ..., -0.0002,  0.0054, -0.0097],\n",
      "         [-0.0135, -0.0149,  0.0076,  ..., -0.0186, -0.0041, -0.0051],\n",
      "         [-0.0105, -0.0043, -0.0064,  ..., -0.0133,  0.0157, -0.0276],\n",
      "         [ 0.0297,  0.0048,  0.0132,  ...,  0.0010,  0.0174, -0.0034],\n",
      "         [-0.0156, -0.0147, -0.0112,  ..., -0.0221, -0.0075,  0.0084]],\n",
      "\n",
      "        [[-0.0055,  0.0116, -0.0155,  ...,  0.0028, -0.0058,  0.0035],\n",
      "         [ 0.0061, -0.0082, -0.0007,  ...,  0.0242,  0.0086,  0.0022],\n",
      "         [-0.0215, -0.0227,  0.0124,  ...,  0.0107, -0.0201,  0.0160],\n",
      "         [-0.0028,  0.0032,  0.0077,  ...,  0.0381, -0.0231, -0.0161],\n",
      "         [-0.0161, -0.0162, -0.0174,  ..., -0.0269, -0.0074, -0.0368],\n",
      "         [-0.0226, -0.0105, -0.0063,  ..., -0.0219,  0.0045, -0.0016]]])), ('l9.bias', tensor([0., 0., 0., 0., 0., 0.]))])\n"
     ]
    },
    {
     "name": "stderr",
     "output_type": "stream",
     "text": [
      "Epoch 0: 100%|██████████| 2300/2300 [01:39<00:00, 23.12batch/s, loss=0.713]\n",
      "Epoch 1: 100%|██████████| 2300/2300 [02:02<00:00, 18.76batch/s, loss=0.798]\n",
      "Epoch 2: 100%|██████████| 2300/2300 [01:57<00:00, 19.63batch/s, loss=0.721]\n",
      "Epoch 3: 100%|██████████| 2300/2300 [01:59<00:00, 19.30batch/s, loss=0.853]\n",
      "Epoch 4: 100%|██████████| 2300/2300 [01:55<00:00, 19.86batch/s, loss=0.796]\n",
      "Epoch 5: 100%|██████████| 2300/2300 [01:55<00:00, 19.88batch/s, loss=0.758]\n",
      "Epoch 6: 100%|██████████| 2300/2300 [01:54<00:00, 20.11batch/s, loss=0.778]\n",
      "Epoch 7: 100%|██████████| 2300/2300 [01:55<00:00, 19.95batch/s, loss=0.737]\n",
      "Epoch 8: 100%|██████████| 2300/2300 [02:01<00:00, 18.92batch/s, loss=0.742]\n",
      "Epoch 9: 100%|██████████| 2300/2300 [02:00<00:00, 19.11batch/s, loss=1.03] \n",
      "Epoch 10: 100%|██████████| 2300/2300 [01:55<00:00, 19.93batch/s, loss=0.769]\n",
      "Epoch 11: 100%|██████████| 2300/2300 [01:46<00:00, 21.58batch/s, loss=0.742]\n",
      "Epoch 12: 100%|██████████| 2300/2300 [01:20<00:00, 28.55batch/s, loss=0.771]\n",
      "Epoch 13: 100%|██████████| 2300/2300 [01:16<00:00, 30.02batch/s, loss=0.763]\n",
      "Epoch 14: 100%|██████████| 2300/2300 [01:16<00:00, 29.93batch/s, loss=0.909]\n",
      "Epoch 15: 100%|██████████| 2300/2300 [01:16<00:00, 30.15batch/s, loss=0.753]\n",
      "Epoch 16: 100%|██████████| 2300/2300 [01:03<00:00, 36.28batch/s, loss=0.731]\n",
      "Epoch 17: 100%|██████████| 2300/2300 [01:12<00:00, 31.84batch/s, loss=0.832]\n",
      "Epoch 18: 100%|██████████| 2300/2300 [01:05<00:00, 35.26batch/s, loss=0.717]\n",
      "Epoch 19: 100%|██████████| 2300/2300 [01:02<00:00, 36.94batch/s, loss=0.812]\n",
      "Epoch 20: 100%|██████████| 2300/2300 [01:03<00:00, 35.96batch/s, loss=0.897]\n",
      "Epoch 21: 100%|██████████| 2300/2300 [01:24<00:00, 27.08batch/s, loss=0.877]\n",
      "Epoch 22: 100%|██████████| 2300/2300 [01:00<00:00, 37.83batch/s, loss=0.887]\n",
      "Epoch 23: 100%|██████████| 2300/2300 [01:03<00:00, 36.14batch/s, loss=0.807]\n",
      "Epoch 24: 100%|██████████| 2300/2300 [01:41<00:00, 22.74batch/s, loss=0.783] \n",
      "Epoch 25: 100%|██████████| 2300/2300 [01:08<00:00, 33.51batch/s, loss=0.74] \n",
      "Epoch 26: 100%|██████████| 2300/2300 [01:09<00:00, 32.95batch/s, loss=0.782]\n",
      "Epoch 27: 100%|██████████| 2300/2300 [01:13<00:00, 31.42batch/s, loss=0.7]  \n",
      "Epoch 28: 100%|██████████| 2300/2300 [01:12<00:00, 31.80batch/s, loss=0.842]\n",
      "Epoch 29: 100%|██████████| 2300/2300 [01:13<00:00, 31.33batch/s, loss=0.811]\n",
      "Epoch 30: 100%|██████████| 2300/2300 [01:14<00:00, 30.76batch/s, loss=0.766]\n",
      "Epoch 31: 100%|██████████| 2300/2300 [01:13<00:00, 31.30batch/s, loss=0.806]\n",
      "Epoch 32: 100%|██████████| 2300/2300 [01:12<00:00, 31.65batch/s, loss=0.786]\n",
      "Epoch 33: 100%|██████████| 2300/2300 [01:13<00:00, 31.31batch/s, loss=0.798]\n",
      "Epoch 34: 100%|██████████| 2300/2300 [01:14<00:00, 30.93batch/s, loss=0.711]\n",
      "Epoch 35: 100%|██████████| 2300/2300 [01:16<00:00, 29.88batch/s, loss=0.724]\n",
      "Epoch 36: 100%|██████████| 2300/2300 [01:15<00:00, 30.30batch/s, loss=0.864]\n",
      "Epoch 37: 100%|██████████| 2300/2300 [01:30<00:00, 25.33batch/s, loss=0.803]\n",
      "Epoch 38: 100%|██████████| 2300/2300 [01:25<00:00, 26.98batch/s, loss=0.857]\n",
      "Epoch 39: 100%|██████████| 2300/2300 [01:38<00:00, 23.36batch/s, loss=0.841]\n",
      "Epoch 40: 100%|██████████| 2300/2300 [01:28<00:00, 26.09batch/s, loss=1.04] \n",
      "Epoch 41: 100%|██████████| 2300/2300 [01:30<00:00, 25.52batch/s, loss=0.697]\n",
      "Epoch 42: 100%|██████████| 2300/2300 [02:37<00:00, 14.57batch/s, loss=0.73] \n",
      "Epoch 43: 100%|██████████| 2300/2300 [01:41<00:00, 22.63batch/s, loss=0.825]\n",
      "Epoch 44: 100%|██████████| 2300/2300 [01:27<00:00, 26.32batch/s, loss=0.74] \n",
      "Epoch 45: 100%|██████████| 2300/2300 [01:31<00:00, 25.00batch/s, loss=0.793]\n",
      "Epoch 46: 100%|██████████| 2300/2300 [01:52<00:00, 20.49batch/s, loss=0.777]\n",
      "Epoch 47: 100%|██████████| 2300/2300 [01:41<00:00, 22.60batch/s, loss=0.922]\n",
      "Epoch 48: 100%|██████████| 2300/2300 [01:48<00:00, 21.24batch/s, loss=0.833]\n",
      "Epoch 49: 100%|██████████| 2300/2300 [01:49<00:00, 20.95batch/s, loss=0.768]\n"
     ]
    }
   ],
   "source": [
    "print(generator.state_dict())\n",
    "\n",
    "X_train = torch.tensor(X.astype(np.float32), dtype=torch.float32, device=device).detach()\n",
    "\n",
    "dLoss, gLoss, acc = trainRoutine(X_train, n_epochs, generator, discriminator, initweight=False)"
   ]
  },
  {
   "cell_type": "code",
   "execution_count": 27,
   "metadata": {},
   "outputs": [
    {
     "data": {
      "application/vnd.plotly.v1+json": {
       "config": {
        "plotlyServerURL": "https://plot.ly"
       },
       "data": [
        {
         "mode": "lines",
         "name": "dLoss",
         "showlegend": true,
         "type": "scatter",
         "y": [
          1.3876798152923584,
          1.0733325481414795,
          0.9749478101730347,
          1.0011392831802368,
          1.1938879489898682,
          1.4380418062210083,
          1.1236071586608887,
          1.0264930725097656,
          1.1663084030151367,
          0.9723939895629883,
          0.9115134477615356,
          1.173670768737793,
          1.2593051195144653,
          1.1870228052139282,
          1.1850640773773193,
          1.4915003776550293,
          1.238443374633789,
          1.4651298522949219,
          1.42740797996521,
          2.5301826000213623,
          1.0135964155197144,
          1.3602272272109985,
          1.1021156311035156,
          1.30716872215271,
          1.5025718212127686,
          1.2044967412948608,
          1.2523967027664185,
          0.9526863098144531,
          1.0071223974227905,
          1.6823424100875854,
          1.0533603429794312,
          1.0225861072540283,
          0.9670876264572144,
          0.9897284507751465,
          1.2699308395385742,
          1.390557050704956,
          1.0707141160964966,
          1.2421669960021973,
          1.2791779041290283,
          1.1503111124038696,
          0.9468474984169006,
          1.2645610570907593,
          1.0946978330612183,
          1.0520119667053223,
          0.9816609621047974,
          1.0126914978027344,
          0.9765986800193787,
          1.220491647720337,
          0.9112290740013123,
          1.054456114768982,
          1.0197858810424805
         ]
        },
        {
         "mode": "lines",
         "name": "gLoss",
         "showlegend": true,
         "type": "scatter",
         "y": [
          0.6931474208831787,
          0.6978480219841003,
          0.7836961150169373,
          0.6724148392677307,
          0.7476083636283875,
          0.7216134071350098,
          0.7589749097824097,
          0.81056147813797,
          0.7089163661003113,
          0.782281219959259,
          0.8240807056427002,
          0.759201169013977,
          0.7957162261009216,
          0.7217864990234375,
          0.810196042060852,
          0.7364981174468994,
          0.699364960193634,
          0.7548747658729553,
          0.5458502173423767,
          0.675788938999176,
          0.6252321004867554,
          0.7330358028411865,
          0.6538401246070862,
          0.5517091751098633,
          0.6889468431472778,
          0.6426523923873901,
          0.6193566918373108,
          0.6708475947380066,
          0.6444854736328125,
          0.3737185299396515,
          0.6460581421852112,
          0.6450003385543823,
          0.7477272152900696,
          0.6981558799743652,
          0.6281489729881287,
          0.6291036009788513,
          0.6096466779708862,
          0.6563314199447632,
          0.6869752407073975,
          0.7141292691230774,
          0.6866900324821472,
          0.46137645840644836,
          0.6113725900650024,
          0.5789289474487305,
          0.6848568320274353,
          0.5887542366981506,
          0.6593950390815735,
          0.5694756507873535,
          0.7030949592590332,
          0.5564608573913574,
          0.5738518238067627
         ]
        }
       ],
       "layout": {
        "height": 600,
        "template": {
         "data": {
          "bar": [
           {
            "error_x": {
             "color": "#2a3f5f"
            },
            "error_y": {
             "color": "#2a3f5f"
            },
            "marker": {
             "line": {
              "color": "#E5ECF6",
              "width": 0.5
             },
             "pattern": {
              "fillmode": "overlay",
              "size": 10,
              "solidity": 0.2
             }
            },
            "type": "bar"
           }
          ],
          "barpolar": [
           {
            "marker": {
             "line": {
              "color": "#E5ECF6",
              "width": 0.5
             },
             "pattern": {
              "fillmode": "overlay",
              "size": 10,
              "solidity": 0.2
             }
            },
            "type": "barpolar"
           }
          ],
          "carpet": [
           {
            "aaxis": {
             "endlinecolor": "#2a3f5f",
             "gridcolor": "white",
             "linecolor": "white",
             "minorgridcolor": "white",
             "startlinecolor": "#2a3f5f"
            },
            "baxis": {
             "endlinecolor": "#2a3f5f",
             "gridcolor": "white",
             "linecolor": "white",
             "minorgridcolor": "white",
             "startlinecolor": "#2a3f5f"
            },
            "type": "carpet"
           }
          ],
          "choropleth": [
           {
            "colorbar": {
             "outlinewidth": 0,
             "ticks": ""
            },
            "type": "choropleth"
           }
          ],
          "contour": [
           {
            "colorbar": {
             "outlinewidth": 0,
             "ticks": ""
            },
            "colorscale": [
             [
              0,
              "#0d0887"
             ],
             [
              0.1111111111111111,
              "#46039f"
             ],
             [
              0.2222222222222222,
              "#7201a8"
             ],
             [
              0.3333333333333333,
              "#9c179e"
             ],
             [
              0.4444444444444444,
              "#bd3786"
             ],
             [
              0.5555555555555556,
              "#d8576b"
             ],
             [
              0.6666666666666666,
              "#ed7953"
             ],
             [
              0.7777777777777778,
              "#fb9f3a"
             ],
             [
              0.8888888888888888,
              "#fdca26"
             ],
             [
              1,
              "#f0f921"
             ]
            ],
            "type": "contour"
           }
          ],
          "contourcarpet": [
           {
            "colorbar": {
             "outlinewidth": 0,
             "ticks": ""
            },
            "type": "contourcarpet"
           }
          ],
          "heatmap": [
           {
            "colorbar": {
             "outlinewidth": 0,
             "ticks": ""
            },
            "colorscale": [
             [
              0,
              "#0d0887"
             ],
             [
              0.1111111111111111,
              "#46039f"
             ],
             [
              0.2222222222222222,
              "#7201a8"
             ],
             [
              0.3333333333333333,
              "#9c179e"
             ],
             [
              0.4444444444444444,
              "#bd3786"
             ],
             [
              0.5555555555555556,
              "#d8576b"
             ],
             [
              0.6666666666666666,
              "#ed7953"
             ],
             [
              0.7777777777777778,
              "#fb9f3a"
             ],
             [
              0.8888888888888888,
              "#fdca26"
             ],
             [
              1,
              "#f0f921"
             ]
            ],
            "type": "heatmap"
           }
          ],
          "heatmapgl": [
           {
            "colorbar": {
             "outlinewidth": 0,
             "ticks": ""
            },
            "colorscale": [
             [
              0,
              "#0d0887"
             ],
             [
              0.1111111111111111,
              "#46039f"
             ],
             [
              0.2222222222222222,
              "#7201a8"
             ],
             [
              0.3333333333333333,
              "#9c179e"
             ],
             [
              0.4444444444444444,
              "#bd3786"
             ],
             [
              0.5555555555555556,
              "#d8576b"
             ],
             [
              0.6666666666666666,
              "#ed7953"
             ],
             [
              0.7777777777777778,
              "#fb9f3a"
             ],
             [
              0.8888888888888888,
              "#fdca26"
             ],
             [
              1,
              "#f0f921"
             ]
            ],
            "type": "heatmapgl"
           }
          ],
          "histogram": [
           {
            "marker": {
             "pattern": {
              "fillmode": "overlay",
              "size": 10,
              "solidity": 0.2
             }
            },
            "type": "histogram"
           }
          ],
          "histogram2d": [
           {
            "colorbar": {
             "outlinewidth": 0,
             "ticks": ""
            },
            "colorscale": [
             [
              0,
              "#0d0887"
             ],
             [
              0.1111111111111111,
              "#46039f"
             ],
             [
              0.2222222222222222,
              "#7201a8"
             ],
             [
              0.3333333333333333,
              "#9c179e"
             ],
             [
              0.4444444444444444,
              "#bd3786"
             ],
             [
              0.5555555555555556,
              "#d8576b"
             ],
             [
              0.6666666666666666,
              "#ed7953"
             ],
             [
              0.7777777777777778,
              "#fb9f3a"
             ],
             [
              0.8888888888888888,
              "#fdca26"
             ],
             [
              1,
              "#f0f921"
             ]
            ],
            "type": "histogram2d"
           }
          ],
          "histogram2dcontour": [
           {
            "colorbar": {
             "outlinewidth": 0,
             "ticks": ""
            },
            "colorscale": [
             [
              0,
              "#0d0887"
             ],
             [
              0.1111111111111111,
              "#46039f"
             ],
             [
              0.2222222222222222,
              "#7201a8"
             ],
             [
              0.3333333333333333,
              "#9c179e"
             ],
             [
              0.4444444444444444,
              "#bd3786"
             ],
             [
              0.5555555555555556,
              "#d8576b"
             ],
             [
              0.6666666666666666,
              "#ed7953"
             ],
             [
              0.7777777777777778,
              "#fb9f3a"
             ],
             [
              0.8888888888888888,
              "#fdca26"
             ],
             [
              1,
              "#f0f921"
             ]
            ],
            "type": "histogram2dcontour"
           }
          ],
          "mesh3d": [
           {
            "colorbar": {
             "outlinewidth": 0,
             "ticks": ""
            },
            "type": "mesh3d"
           }
          ],
          "parcoords": [
           {
            "line": {
             "colorbar": {
              "outlinewidth": 0,
              "ticks": ""
             }
            },
            "type": "parcoords"
           }
          ],
          "pie": [
           {
            "automargin": true,
            "type": "pie"
           }
          ],
          "scatter": [
           {
            "fillpattern": {
             "fillmode": "overlay",
             "size": 10,
             "solidity": 0.2
            },
            "type": "scatter"
           }
          ],
          "scatter3d": [
           {
            "line": {
             "colorbar": {
              "outlinewidth": 0,
              "ticks": ""
             }
            },
            "marker": {
             "colorbar": {
              "outlinewidth": 0,
              "ticks": ""
             }
            },
            "type": "scatter3d"
           }
          ],
          "scattercarpet": [
           {
            "marker": {
             "colorbar": {
              "outlinewidth": 0,
              "ticks": ""
             }
            },
            "type": "scattercarpet"
           }
          ],
          "scattergeo": [
           {
            "marker": {
             "colorbar": {
              "outlinewidth": 0,
              "ticks": ""
             }
            },
            "type": "scattergeo"
           }
          ],
          "scattergl": [
           {
            "marker": {
             "colorbar": {
              "outlinewidth": 0,
              "ticks": ""
             }
            },
            "type": "scattergl"
           }
          ],
          "scattermapbox": [
           {
            "marker": {
             "colorbar": {
              "outlinewidth": 0,
              "ticks": ""
             }
            },
            "type": "scattermapbox"
           }
          ],
          "scatterpolar": [
           {
            "marker": {
             "colorbar": {
              "outlinewidth": 0,
              "ticks": ""
             }
            },
            "type": "scatterpolar"
           }
          ],
          "scatterpolargl": [
           {
            "marker": {
             "colorbar": {
              "outlinewidth": 0,
              "ticks": ""
             }
            },
            "type": "scatterpolargl"
           }
          ],
          "scatterternary": [
           {
            "marker": {
             "colorbar": {
              "outlinewidth": 0,
              "ticks": ""
             }
            },
            "type": "scatterternary"
           }
          ],
          "surface": [
           {
            "colorbar": {
             "outlinewidth": 0,
             "ticks": ""
            },
            "colorscale": [
             [
              0,
              "#0d0887"
             ],
             [
              0.1111111111111111,
              "#46039f"
             ],
             [
              0.2222222222222222,
              "#7201a8"
             ],
             [
              0.3333333333333333,
              "#9c179e"
             ],
             [
              0.4444444444444444,
              "#bd3786"
             ],
             [
              0.5555555555555556,
              "#d8576b"
             ],
             [
              0.6666666666666666,
              "#ed7953"
             ],
             [
              0.7777777777777778,
              "#fb9f3a"
             ],
             [
              0.8888888888888888,
              "#fdca26"
             ],
             [
              1,
              "#f0f921"
             ]
            ],
            "type": "surface"
           }
          ],
          "table": [
           {
            "cells": {
             "fill": {
              "color": "#EBF0F8"
             },
             "line": {
              "color": "white"
             }
            },
            "header": {
             "fill": {
              "color": "#C8D4E3"
             },
             "line": {
              "color": "white"
             }
            },
            "type": "table"
           }
          ]
         },
         "layout": {
          "annotationdefaults": {
           "arrowcolor": "#2a3f5f",
           "arrowhead": 0,
           "arrowwidth": 1
          },
          "autotypenumbers": "strict",
          "coloraxis": {
           "colorbar": {
            "outlinewidth": 0,
            "ticks": ""
           }
          },
          "colorscale": {
           "diverging": [
            [
             0,
             "#8e0152"
            ],
            [
             0.1,
             "#c51b7d"
            ],
            [
             0.2,
             "#de77ae"
            ],
            [
             0.3,
             "#f1b6da"
            ],
            [
             0.4,
             "#fde0ef"
            ],
            [
             0.5,
             "#f7f7f7"
            ],
            [
             0.6,
             "#e6f5d0"
            ],
            [
             0.7,
             "#b8e186"
            ],
            [
             0.8,
             "#7fbc41"
            ],
            [
             0.9,
             "#4d9221"
            ],
            [
             1,
             "#276419"
            ]
           ],
           "sequential": [
            [
             0,
             "#0d0887"
            ],
            [
             0.1111111111111111,
             "#46039f"
            ],
            [
             0.2222222222222222,
             "#7201a8"
            ],
            [
             0.3333333333333333,
             "#9c179e"
            ],
            [
             0.4444444444444444,
             "#bd3786"
            ],
            [
             0.5555555555555556,
             "#d8576b"
            ],
            [
             0.6666666666666666,
             "#ed7953"
            ],
            [
             0.7777777777777778,
             "#fb9f3a"
            ],
            [
             0.8888888888888888,
             "#fdca26"
            ],
            [
             1,
             "#f0f921"
            ]
           ],
           "sequentialminus": [
            [
             0,
             "#0d0887"
            ],
            [
             0.1111111111111111,
             "#46039f"
            ],
            [
             0.2222222222222222,
             "#7201a8"
            ],
            [
             0.3333333333333333,
             "#9c179e"
            ],
            [
             0.4444444444444444,
             "#bd3786"
            ],
            [
             0.5555555555555556,
             "#d8576b"
            ],
            [
             0.6666666666666666,
             "#ed7953"
            ],
            [
             0.7777777777777778,
             "#fb9f3a"
            ],
            [
             0.8888888888888888,
             "#fdca26"
            ],
            [
             1,
             "#f0f921"
            ]
           ]
          },
          "colorway": [
           "#636efa",
           "#EF553B",
           "#00cc96",
           "#ab63fa",
           "#FFA15A",
           "#19d3f3",
           "#FF6692",
           "#B6E880",
           "#FF97FF",
           "#FECB52"
          ],
          "font": {
           "color": "#2a3f5f"
          },
          "geo": {
           "bgcolor": "white",
           "lakecolor": "white",
           "landcolor": "#E5ECF6",
           "showlakes": true,
           "showland": true,
           "subunitcolor": "white"
          },
          "hoverlabel": {
           "align": "left"
          },
          "hovermode": "closest",
          "mapbox": {
           "style": "light"
          },
          "paper_bgcolor": "white",
          "plot_bgcolor": "#E5ECF6",
          "polar": {
           "angularaxis": {
            "gridcolor": "white",
            "linecolor": "white",
            "ticks": ""
           },
           "bgcolor": "#E5ECF6",
           "radialaxis": {
            "gridcolor": "white",
            "linecolor": "white",
            "ticks": ""
           }
          },
          "scene": {
           "xaxis": {
            "backgroundcolor": "#E5ECF6",
            "gridcolor": "white",
            "gridwidth": 2,
            "linecolor": "white",
            "showbackground": true,
            "ticks": "",
            "zerolinecolor": "white"
           },
           "yaxis": {
            "backgroundcolor": "#E5ECF6",
            "gridcolor": "white",
            "gridwidth": 2,
            "linecolor": "white",
            "showbackground": true,
            "ticks": "",
            "zerolinecolor": "white"
           },
           "zaxis": {
            "backgroundcolor": "#E5ECF6",
            "gridcolor": "white",
            "gridwidth": 2,
            "linecolor": "white",
            "showbackground": true,
            "ticks": "",
            "zerolinecolor": "white"
           }
          },
          "shapedefaults": {
           "line": {
            "color": "#2a3f5f"
           }
          },
          "ternary": {
           "aaxis": {
            "gridcolor": "white",
            "linecolor": "white",
            "ticks": ""
           },
           "baxis": {
            "gridcolor": "white",
            "linecolor": "white",
            "ticks": ""
           },
           "bgcolor": "#E5ECF6",
           "caxis": {
            "gridcolor": "white",
            "linecolor": "white",
            "ticks": ""
           }
          },
          "title": {
           "x": 0.05
          },
          "xaxis": {
           "automargin": true,
           "gridcolor": "white",
           "linecolor": "white",
           "ticks": "",
           "title": {
            "standoff": 15
           },
           "zerolinecolor": "white",
           "zerolinewidth": 2
          },
          "yaxis": {
           "automargin": true,
           "gridcolor": "white",
           "linecolor": "white",
           "ticks": "",
           "title": {
            "standoff": 15
           },
           "zerolinecolor": "white",
           "zerolinewidth": 2
          }
         }
        },
        "width": 1000
       }
      }
     },
     "metadata": {},
     "output_type": "display_data"
    }
   ],
   "source": [
    "fig2 = go.Figure()\n",
    "\n",
    "fig2.add_trace(go.Scatter(y=dLoss, mode=\"lines\", showlegend=True, name='dLoss'))\n",
    "fig2.add_trace(go.Scatter(y=gLoss, mode=\"lines\", showlegend=True, name='gLoss'))\n",
    "#fig2.add_trace(go.Scatter(y=acc, mode=\"lines\", showlegend=True, name='acc'))\n",
    "fig2.update_layout(width=1000, height=600)\n",
    "\n",
    "fig2.show()"
   ]
  },
  {
   "cell_type": "code",
   "execution_count": 28,
   "metadata": {},
   "outputs": [
    {
     "name": "stdout",
     "output_type": "stream",
     "text": [
      "saving model in  ./trained_models/1/experiment_4_enhanced_author_training/model.pth\n"
     ]
    }
   ],
   "source": [
    "save_model(generator, discriminator, 3)"
   ]
  },
  {
   "cell_type": "markdown",
   "metadata": {},
   "source": [
    "### Comparing Models"
   ]
  },
  {
   "cell_type": "code",
   "execution_count": 29,
   "metadata": {},
   "outputs": [
    {
     "data": {
      "application/vnd.plotly.v1+json": {
       "config": {
        "plotlyServerURL": "https://plot.ly"
       },
       "data": [
        {
         "mode": "lines",
         "name": "dLoss",
         "showlegend": true,
         "type": "scatter",
         "y": [
          1.3837885856628418,
          1.225473165512085,
          1.1171855926513672,
          1.1461931467056274,
          1.3047823905944824,
          0.9574137330055237,
          1.1570640802383423,
          1.5537033081054688,
          0.8227834701538086,
          1.2284319400787354,
          1.1178550720214844,
          0.9888580441474915,
          1.5660955905914307,
          1.1940897703170776,
          1.0872092247009277,
          1.01279616355896,
          1.6808528900146484,
          1.6080002784729004,
          1.7243809700012207,
          1.643982172012329,
          1.6445778608322144,
          1.6384063959121704,
          1.9083244800567627,
          2.094611644744873,
          1.9437518119812012,
          1.6075093746185303,
          1.544480800628662,
          1.3674287796020508,
          1.7403866052627563,
          1.7713197469711304,
          1.9870326519012451,
          1.5419766902923584,
          1.6855082511901855,
          2.045969009399414,
          1.5806807279586792,
          1.638265609741211,
          1.6699340343475342,
          1.9376004934310913,
          1.61763596534729,
          2.0089991092681885,
          1.800561785697937,
          1.9182041883468628,
          1.689965009689331,
          1.8116543292999268,
          1.6019821166992188,
          1.7995054721832275,
          1.6463885307312012,
          1.7488493919372559,
          1.4447542428970337,
          2.0605263710021973,
          1.7899041175842285
         ]
        },
        {
         "mode": "lines",
         "name": "gLoss",
         "showlegend": true,
         "type": "scatter",
         "y": [
          0.6931271553039551,
          0.702364444732666,
          0.6550724506378174,
          0.6271687746047974,
          0.7511889338493347,
          1.1655223369598389,
          0.873249888420105,
          1.4184956550598145,
          1.0140761137008667,
          0.7522670030593872,
          0.6677470207214355,
          1.03633451461792,
          1.4179267883300781,
          1.2825936079025269,
          0.8347585797309875,
          1.2340861558914185,
          0.9196058511734009,
          0.68011075258255,
          0.6020301580429077,
          0.7040644288063049,
          0.6381953358650208,
          0.7225738763809204,
          0.6953360438346863,
          0.604289710521698,
          0.6642590165138245,
          0.5917658805847168,
          0.7236683368682861,
          0.7887907028198242,
          0.7703391909599304,
          0.7933968901634216,
          0.8004212379455566,
          0.7250872850418091,
          0.8060626983642578,
          0.8817723393440247,
          0.666851282119751,
          0.7251503467559814,
          0.7445986866950989,
          0.828067421913147,
          0.7512045502662659,
          0.6219139099121094,
          0.6816773414611816,
          0.5858515501022339,
          0.7096380591392517,
          0.5960853695869446,
          0.5222108960151672,
          0.63975590467453,
          0.6888096332550049,
          0.8235872983932495,
          1.2974607944488525,
          0.4982437491416931,
          0.5446352958679199
         ]
        }
       ],
       "layout": {
        "height": 600,
        "template": {
         "data": {
          "bar": [
           {
            "error_x": {
             "color": "#2a3f5f"
            },
            "error_y": {
             "color": "#2a3f5f"
            },
            "marker": {
             "line": {
              "color": "#E5ECF6",
              "width": 0.5
             },
             "pattern": {
              "fillmode": "overlay",
              "size": 10,
              "solidity": 0.2
             }
            },
            "type": "bar"
           }
          ],
          "barpolar": [
           {
            "marker": {
             "line": {
              "color": "#E5ECF6",
              "width": 0.5
             },
             "pattern": {
              "fillmode": "overlay",
              "size": 10,
              "solidity": 0.2
             }
            },
            "type": "barpolar"
           }
          ],
          "carpet": [
           {
            "aaxis": {
             "endlinecolor": "#2a3f5f",
             "gridcolor": "white",
             "linecolor": "white",
             "minorgridcolor": "white",
             "startlinecolor": "#2a3f5f"
            },
            "baxis": {
             "endlinecolor": "#2a3f5f",
             "gridcolor": "white",
             "linecolor": "white",
             "minorgridcolor": "white",
             "startlinecolor": "#2a3f5f"
            },
            "type": "carpet"
           }
          ],
          "choropleth": [
           {
            "colorbar": {
             "outlinewidth": 0,
             "ticks": ""
            },
            "type": "choropleth"
           }
          ],
          "contour": [
           {
            "colorbar": {
             "outlinewidth": 0,
             "ticks": ""
            },
            "colorscale": [
             [
              0,
              "#0d0887"
             ],
             [
              0.1111111111111111,
              "#46039f"
             ],
             [
              0.2222222222222222,
              "#7201a8"
             ],
             [
              0.3333333333333333,
              "#9c179e"
             ],
             [
              0.4444444444444444,
              "#bd3786"
             ],
             [
              0.5555555555555556,
              "#d8576b"
             ],
             [
              0.6666666666666666,
              "#ed7953"
             ],
             [
              0.7777777777777778,
              "#fb9f3a"
             ],
             [
              0.8888888888888888,
              "#fdca26"
             ],
             [
              1,
              "#f0f921"
             ]
            ],
            "type": "contour"
           }
          ],
          "contourcarpet": [
           {
            "colorbar": {
             "outlinewidth": 0,
             "ticks": ""
            },
            "type": "contourcarpet"
           }
          ],
          "heatmap": [
           {
            "colorbar": {
             "outlinewidth": 0,
             "ticks": ""
            },
            "colorscale": [
             [
              0,
              "#0d0887"
             ],
             [
              0.1111111111111111,
              "#46039f"
             ],
             [
              0.2222222222222222,
              "#7201a8"
             ],
             [
              0.3333333333333333,
              "#9c179e"
             ],
             [
              0.4444444444444444,
              "#bd3786"
             ],
             [
              0.5555555555555556,
              "#d8576b"
             ],
             [
              0.6666666666666666,
              "#ed7953"
             ],
             [
              0.7777777777777778,
              "#fb9f3a"
             ],
             [
              0.8888888888888888,
              "#fdca26"
             ],
             [
              1,
              "#f0f921"
             ]
            ],
            "type": "heatmap"
           }
          ],
          "heatmapgl": [
           {
            "colorbar": {
             "outlinewidth": 0,
             "ticks": ""
            },
            "colorscale": [
             [
              0,
              "#0d0887"
             ],
             [
              0.1111111111111111,
              "#46039f"
             ],
             [
              0.2222222222222222,
              "#7201a8"
             ],
             [
              0.3333333333333333,
              "#9c179e"
             ],
             [
              0.4444444444444444,
              "#bd3786"
             ],
             [
              0.5555555555555556,
              "#d8576b"
             ],
             [
              0.6666666666666666,
              "#ed7953"
             ],
             [
              0.7777777777777778,
              "#fb9f3a"
             ],
             [
              0.8888888888888888,
              "#fdca26"
             ],
             [
              1,
              "#f0f921"
             ]
            ],
            "type": "heatmapgl"
           }
          ],
          "histogram": [
           {
            "marker": {
             "pattern": {
              "fillmode": "overlay",
              "size": 10,
              "solidity": 0.2
             }
            },
            "type": "histogram"
           }
          ],
          "histogram2d": [
           {
            "colorbar": {
             "outlinewidth": 0,
             "ticks": ""
            },
            "colorscale": [
             [
              0,
              "#0d0887"
             ],
             [
              0.1111111111111111,
              "#46039f"
             ],
             [
              0.2222222222222222,
              "#7201a8"
             ],
             [
              0.3333333333333333,
              "#9c179e"
             ],
             [
              0.4444444444444444,
              "#bd3786"
             ],
             [
              0.5555555555555556,
              "#d8576b"
             ],
             [
              0.6666666666666666,
              "#ed7953"
             ],
             [
              0.7777777777777778,
              "#fb9f3a"
             ],
             [
              0.8888888888888888,
              "#fdca26"
             ],
             [
              1,
              "#f0f921"
             ]
            ],
            "type": "histogram2d"
           }
          ],
          "histogram2dcontour": [
           {
            "colorbar": {
             "outlinewidth": 0,
             "ticks": ""
            },
            "colorscale": [
             [
              0,
              "#0d0887"
             ],
             [
              0.1111111111111111,
              "#46039f"
             ],
             [
              0.2222222222222222,
              "#7201a8"
             ],
             [
              0.3333333333333333,
              "#9c179e"
             ],
             [
              0.4444444444444444,
              "#bd3786"
             ],
             [
              0.5555555555555556,
              "#d8576b"
             ],
             [
              0.6666666666666666,
              "#ed7953"
             ],
             [
              0.7777777777777778,
              "#fb9f3a"
             ],
             [
              0.8888888888888888,
              "#fdca26"
             ],
             [
              1,
              "#f0f921"
             ]
            ],
            "type": "histogram2dcontour"
           }
          ],
          "mesh3d": [
           {
            "colorbar": {
             "outlinewidth": 0,
             "ticks": ""
            },
            "type": "mesh3d"
           }
          ],
          "parcoords": [
           {
            "line": {
             "colorbar": {
              "outlinewidth": 0,
              "ticks": ""
             }
            },
            "type": "parcoords"
           }
          ],
          "pie": [
           {
            "automargin": true,
            "type": "pie"
           }
          ],
          "scatter": [
           {
            "fillpattern": {
             "fillmode": "overlay",
             "size": 10,
             "solidity": 0.2
            },
            "type": "scatter"
           }
          ],
          "scatter3d": [
           {
            "line": {
             "colorbar": {
              "outlinewidth": 0,
              "ticks": ""
             }
            },
            "marker": {
             "colorbar": {
              "outlinewidth": 0,
              "ticks": ""
             }
            },
            "type": "scatter3d"
           }
          ],
          "scattercarpet": [
           {
            "marker": {
             "colorbar": {
              "outlinewidth": 0,
              "ticks": ""
             }
            },
            "type": "scattercarpet"
           }
          ],
          "scattergeo": [
           {
            "marker": {
             "colorbar": {
              "outlinewidth": 0,
              "ticks": ""
             }
            },
            "type": "scattergeo"
           }
          ],
          "scattergl": [
           {
            "marker": {
             "colorbar": {
              "outlinewidth": 0,
              "ticks": ""
             }
            },
            "type": "scattergl"
           }
          ],
          "scattermapbox": [
           {
            "marker": {
             "colorbar": {
              "outlinewidth": 0,
              "ticks": ""
             }
            },
            "type": "scattermapbox"
           }
          ],
          "scatterpolar": [
           {
            "marker": {
             "colorbar": {
              "outlinewidth": 0,
              "ticks": ""
             }
            },
            "type": "scatterpolar"
           }
          ],
          "scatterpolargl": [
           {
            "marker": {
             "colorbar": {
              "outlinewidth": 0,
              "ticks": ""
             }
            },
            "type": "scatterpolargl"
           }
          ],
          "scatterternary": [
           {
            "marker": {
             "colorbar": {
              "outlinewidth": 0,
              "ticks": ""
             }
            },
            "type": "scatterternary"
           }
          ],
          "surface": [
           {
            "colorbar": {
             "outlinewidth": 0,
             "ticks": ""
            },
            "colorscale": [
             [
              0,
              "#0d0887"
             ],
             [
              0.1111111111111111,
              "#46039f"
             ],
             [
              0.2222222222222222,
              "#7201a8"
             ],
             [
              0.3333333333333333,
              "#9c179e"
             ],
             [
              0.4444444444444444,
              "#bd3786"
             ],
             [
              0.5555555555555556,
              "#d8576b"
             ],
             [
              0.6666666666666666,
              "#ed7953"
             ],
             [
              0.7777777777777778,
              "#fb9f3a"
             ],
             [
              0.8888888888888888,
              "#fdca26"
             ],
             [
              1,
              "#f0f921"
             ]
            ],
            "type": "surface"
           }
          ],
          "table": [
           {
            "cells": {
             "fill": {
              "color": "#EBF0F8"
             },
             "line": {
              "color": "white"
             }
            },
            "header": {
             "fill": {
              "color": "#C8D4E3"
             },
             "line": {
              "color": "white"
             }
            },
            "type": "table"
           }
          ]
         },
         "layout": {
          "annotationdefaults": {
           "arrowcolor": "#2a3f5f",
           "arrowhead": 0,
           "arrowwidth": 1
          },
          "autotypenumbers": "strict",
          "coloraxis": {
           "colorbar": {
            "outlinewidth": 0,
            "ticks": ""
           }
          },
          "colorscale": {
           "diverging": [
            [
             0,
             "#8e0152"
            ],
            [
             0.1,
             "#c51b7d"
            ],
            [
             0.2,
             "#de77ae"
            ],
            [
             0.3,
             "#f1b6da"
            ],
            [
             0.4,
             "#fde0ef"
            ],
            [
             0.5,
             "#f7f7f7"
            ],
            [
             0.6,
             "#e6f5d0"
            ],
            [
             0.7,
             "#b8e186"
            ],
            [
             0.8,
             "#7fbc41"
            ],
            [
             0.9,
             "#4d9221"
            ],
            [
             1,
             "#276419"
            ]
           ],
           "sequential": [
            [
             0,
             "#0d0887"
            ],
            [
             0.1111111111111111,
             "#46039f"
            ],
            [
             0.2222222222222222,
             "#7201a8"
            ],
            [
             0.3333333333333333,
             "#9c179e"
            ],
            [
             0.4444444444444444,
             "#bd3786"
            ],
            [
             0.5555555555555556,
             "#d8576b"
            ],
            [
             0.6666666666666666,
             "#ed7953"
            ],
            [
             0.7777777777777778,
             "#fb9f3a"
            ],
            [
             0.8888888888888888,
             "#fdca26"
            ],
            [
             1,
             "#f0f921"
            ]
           ],
           "sequentialminus": [
            [
             0,
             "#0d0887"
            ],
            [
             0.1111111111111111,
             "#46039f"
            ],
            [
             0.2222222222222222,
             "#7201a8"
            ],
            [
             0.3333333333333333,
             "#9c179e"
            ],
            [
             0.4444444444444444,
             "#bd3786"
            ],
            [
             0.5555555555555556,
             "#d8576b"
            ],
            [
             0.6666666666666666,
             "#ed7953"
            ],
            [
             0.7777777777777778,
             "#fb9f3a"
            ],
            [
             0.8888888888888888,
             "#fdca26"
            ],
            [
             1,
             "#f0f921"
            ]
           ]
          },
          "colorway": [
           "#636efa",
           "#EF553B",
           "#00cc96",
           "#ab63fa",
           "#FFA15A",
           "#19d3f3",
           "#FF6692",
           "#B6E880",
           "#FF97FF",
           "#FECB52"
          ],
          "font": {
           "color": "#2a3f5f"
          },
          "geo": {
           "bgcolor": "white",
           "lakecolor": "white",
           "landcolor": "#E5ECF6",
           "showlakes": true,
           "showland": true,
           "subunitcolor": "white"
          },
          "hoverlabel": {
           "align": "left"
          },
          "hovermode": "closest",
          "mapbox": {
           "style": "light"
          },
          "paper_bgcolor": "white",
          "plot_bgcolor": "#E5ECF6",
          "polar": {
           "angularaxis": {
            "gridcolor": "white",
            "linecolor": "white",
            "ticks": ""
           },
           "bgcolor": "#E5ECF6",
           "radialaxis": {
            "gridcolor": "white",
            "linecolor": "white",
            "ticks": ""
           }
          },
          "scene": {
           "xaxis": {
            "backgroundcolor": "#E5ECF6",
            "gridcolor": "white",
            "gridwidth": 2,
            "linecolor": "white",
            "showbackground": true,
            "ticks": "",
            "zerolinecolor": "white"
           },
           "yaxis": {
            "backgroundcolor": "#E5ECF6",
            "gridcolor": "white",
            "gridwidth": 2,
            "linecolor": "white",
            "showbackground": true,
            "ticks": "",
            "zerolinecolor": "white"
           },
           "zaxis": {
            "backgroundcolor": "#E5ECF6",
            "gridcolor": "white",
            "gridwidth": 2,
            "linecolor": "white",
            "showbackground": true,
            "ticks": "",
            "zerolinecolor": "white"
           }
          },
          "shapedefaults": {
           "line": {
            "color": "#2a3f5f"
           }
          },
          "ternary": {
           "aaxis": {
            "gridcolor": "white",
            "linecolor": "white",
            "ticks": ""
           },
           "baxis": {
            "gridcolor": "white",
            "linecolor": "white",
            "ticks": ""
           },
           "bgcolor": "#E5ECF6",
           "caxis": {
            "gridcolor": "white",
            "linecolor": "white",
            "ticks": ""
           }
          },
          "title": {
           "x": 0.05
          },
          "xaxis": {
           "automargin": true,
           "gridcolor": "white",
           "linecolor": "white",
           "ticks": "",
           "title": {
            "standoff": 15
           },
           "zerolinecolor": "white",
           "zerolinewidth": 2
          },
          "yaxis": {
           "automargin": true,
           "gridcolor": "white",
           "linecolor": "white",
           "ticks": "",
           "title": {
            "standoff": 15
           },
           "zerolinecolor": "white",
           "zerolinewidth": 2
          }
         }
        },
        "width": 1000
       }
      }
     },
     "metadata": {},
     "output_type": "display_data"
    },
    {
     "data": {
      "application/vnd.plotly.v1+json": {
       "config": {
        "plotlyServerURL": "https://plot.ly"
       },
       "data": [
        {
         "mode": "lines",
         "name": "dLoss",
         "showlegend": true,
         "type": "scatter",
         "y": [
          1.3876798152923584,
          1.0733325481414795,
          0.9749478101730347,
          1.0011392831802368,
          1.1938879489898682,
          1.4380418062210083,
          1.1236071586608887,
          1.0264930725097656,
          1.1663084030151367,
          0.9723939895629883,
          0.9115134477615356,
          1.173670768737793,
          1.2593051195144653,
          1.1870228052139282,
          1.1850640773773193,
          1.4915003776550293,
          1.238443374633789,
          1.4651298522949219,
          1.42740797996521,
          2.5301826000213623,
          1.0135964155197144,
          1.3602272272109985,
          1.1021156311035156,
          1.30716872215271,
          1.5025718212127686,
          1.2044967412948608,
          1.2523967027664185,
          0.9526863098144531,
          1.0071223974227905,
          1.6823424100875854,
          1.0533603429794312,
          1.0225861072540283,
          0.9670876264572144,
          0.9897284507751465,
          1.2699308395385742,
          1.390557050704956,
          1.0707141160964966,
          1.2421669960021973,
          1.2791779041290283,
          1.1503111124038696,
          0.9468474984169006,
          1.2645610570907593,
          1.0946978330612183,
          1.0520119667053223,
          0.9816609621047974,
          1.0126914978027344,
          0.9765986800193787,
          1.220491647720337,
          0.9112290740013123,
          1.054456114768982,
          1.0197858810424805
         ]
        },
        {
         "mode": "lines",
         "name": "gLoss",
         "showlegend": true,
         "type": "scatter",
         "y": [
          0.6931474208831787,
          0.6978480219841003,
          0.7836961150169373,
          0.6724148392677307,
          0.7476083636283875,
          0.7216134071350098,
          0.7589749097824097,
          0.81056147813797,
          0.7089163661003113,
          0.782281219959259,
          0.8240807056427002,
          0.759201169013977,
          0.7957162261009216,
          0.7217864990234375,
          0.810196042060852,
          0.7364981174468994,
          0.699364960193634,
          0.7548747658729553,
          0.5458502173423767,
          0.675788938999176,
          0.6252321004867554,
          0.7330358028411865,
          0.6538401246070862,
          0.5517091751098633,
          0.6889468431472778,
          0.6426523923873901,
          0.6193566918373108,
          0.6708475947380066,
          0.6444854736328125,
          0.3737185299396515,
          0.6460581421852112,
          0.6450003385543823,
          0.7477272152900696,
          0.6981558799743652,
          0.6281489729881287,
          0.6291036009788513,
          0.6096466779708862,
          0.6563314199447632,
          0.6869752407073975,
          0.7141292691230774,
          0.6866900324821472,
          0.46137645840644836,
          0.6113725900650024,
          0.5789289474487305,
          0.6848568320274353,
          0.5887542366981506,
          0.6593950390815735,
          0.5694756507873535,
          0.7030949592590332,
          0.5564608573913574,
          0.5738518238067627
         ]
        }
       ],
       "layout": {
        "height": 600,
        "template": {
         "data": {
          "bar": [
           {
            "error_x": {
             "color": "#2a3f5f"
            },
            "error_y": {
             "color": "#2a3f5f"
            },
            "marker": {
             "line": {
              "color": "#E5ECF6",
              "width": 0.5
             },
             "pattern": {
              "fillmode": "overlay",
              "size": 10,
              "solidity": 0.2
             }
            },
            "type": "bar"
           }
          ],
          "barpolar": [
           {
            "marker": {
             "line": {
              "color": "#E5ECF6",
              "width": 0.5
             },
             "pattern": {
              "fillmode": "overlay",
              "size": 10,
              "solidity": 0.2
             }
            },
            "type": "barpolar"
           }
          ],
          "carpet": [
           {
            "aaxis": {
             "endlinecolor": "#2a3f5f",
             "gridcolor": "white",
             "linecolor": "white",
             "minorgridcolor": "white",
             "startlinecolor": "#2a3f5f"
            },
            "baxis": {
             "endlinecolor": "#2a3f5f",
             "gridcolor": "white",
             "linecolor": "white",
             "minorgridcolor": "white",
             "startlinecolor": "#2a3f5f"
            },
            "type": "carpet"
           }
          ],
          "choropleth": [
           {
            "colorbar": {
             "outlinewidth": 0,
             "ticks": ""
            },
            "type": "choropleth"
           }
          ],
          "contour": [
           {
            "colorbar": {
             "outlinewidth": 0,
             "ticks": ""
            },
            "colorscale": [
             [
              0,
              "#0d0887"
             ],
             [
              0.1111111111111111,
              "#46039f"
             ],
             [
              0.2222222222222222,
              "#7201a8"
             ],
             [
              0.3333333333333333,
              "#9c179e"
             ],
             [
              0.4444444444444444,
              "#bd3786"
             ],
             [
              0.5555555555555556,
              "#d8576b"
             ],
             [
              0.6666666666666666,
              "#ed7953"
             ],
             [
              0.7777777777777778,
              "#fb9f3a"
             ],
             [
              0.8888888888888888,
              "#fdca26"
             ],
             [
              1,
              "#f0f921"
             ]
            ],
            "type": "contour"
           }
          ],
          "contourcarpet": [
           {
            "colorbar": {
             "outlinewidth": 0,
             "ticks": ""
            },
            "type": "contourcarpet"
           }
          ],
          "heatmap": [
           {
            "colorbar": {
             "outlinewidth": 0,
             "ticks": ""
            },
            "colorscale": [
             [
              0,
              "#0d0887"
             ],
             [
              0.1111111111111111,
              "#46039f"
             ],
             [
              0.2222222222222222,
              "#7201a8"
             ],
             [
              0.3333333333333333,
              "#9c179e"
             ],
             [
              0.4444444444444444,
              "#bd3786"
             ],
             [
              0.5555555555555556,
              "#d8576b"
             ],
             [
              0.6666666666666666,
              "#ed7953"
             ],
             [
              0.7777777777777778,
              "#fb9f3a"
             ],
             [
              0.8888888888888888,
              "#fdca26"
             ],
             [
              1,
              "#f0f921"
             ]
            ],
            "type": "heatmap"
           }
          ],
          "heatmapgl": [
           {
            "colorbar": {
             "outlinewidth": 0,
             "ticks": ""
            },
            "colorscale": [
             [
              0,
              "#0d0887"
             ],
             [
              0.1111111111111111,
              "#46039f"
             ],
             [
              0.2222222222222222,
              "#7201a8"
             ],
             [
              0.3333333333333333,
              "#9c179e"
             ],
             [
              0.4444444444444444,
              "#bd3786"
             ],
             [
              0.5555555555555556,
              "#d8576b"
             ],
             [
              0.6666666666666666,
              "#ed7953"
             ],
             [
              0.7777777777777778,
              "#fb9f3a"
             ],
             [
              0.8888888888888888,
              "#fdca26"
             ],
             [
              1,
              "#f0f921"
             ]
            ],
            "type": "heatmapgl"
           }
          ],
          "histogram": [
           {
            "marker": {
             "pattern": {
              "fillmode": "overlay",
              "size": 10,
              "solidity": 0.2
             }
            },
            "type": "histogram"
           }
          ],
          "histogram2d": [
           {
            "colorbar": {
             "outlinewidth": 0,
             "ticks": ""
            },
            "colorscale": [
             [
              0,
              "#0d0887"
             ],
             [
              0.1111111111111111,
              "#46039f"
             ],
             [
              0.2222222222222222,
              "#7201a8"
             ],
             [
              0.3333333333333333,
              "#9c179e"
             ],
             [
              0.4444444444444444,
              "#bd3786"
             ],
             [
              0.5555555555555556,
              "#d8576b"
             ],
             [
              0.6666666666666666,
              "#ed7953"
             ],
             [
              0.7777777777777778,
              "#fb9f3a"
             ],
             [
              0.8888888888888888,
              "#fdca26"
             ],
             [
              1,
              "#f0f921"
             ]
            ],
            "type": "histogram2d"
           }
          ],
          "histogram2dcontour": [
           {
            "colorbar": {
             "outlinewidth": 0,
             "ticks": ""
            },
            "colorscale": [
             [
              0,
              "#0d0887"
             ],
             [
              0.1111111111111111,
              "#46039f"
             ],
             [
              0.2222222222222222,
              "#7201a8"
             ],
             [
              0.3333333333333333,
              "#9c179e"
             ],
             [
              0.4444444444444444,
              "#bd3786"
             ],
             [
              0.5555555555555556,
              "#d8576b"
             ],
             [
              0.6666666666666666,
              "#ed7953"
             ],
             [
              0.7777777777777778,
              "#fb9f3a"
             ],
             [
              0.8888888888888888,
              "#fdca26"
             ],
             [
              1,
              "#f0f921"
             ]
            ],
            "type": "histogram2dcontour"
           }
          ],
          "mesh3d": [
           {
            "colorbar": {
             "outlinewidth": 0,
             "ticks": ""
            },
            "type": "mesh3d"
           }
          ],
          "parcoords": [
           {
            "line": {
             "colorbar": {
              "outlinewidth": 0,
              "ticks": ""
             }
            },
            "type": "parcoords"
           }
          ],
          "pie": [
           {
            "automargin": true,
            "type": "pie"
           }
          ],
          "scatter": [
           {
            "fillpattern": {
             "fillmode": "overlay",
             "size": 10,
             "solidity": 0.2
            },
            "type": "scatter"
           }
          ],
          "scatter3d": [
           {
            "line": {
             "colorbar": {
              "outlinewidth": 0,
              "ticks": ""
             }
            },
            "marker": {
             "colorbar": {
              "outlinewidth": 0,
              "ticks": ""
             }
            },
            "type": "scatter3d"
           }
          ],
          "scattercarpet": [
           {
            "marker": {
             "colorbar": {
              "outlinewidth": 0,
              "ticks": ""
             }
            },
            "type": "scattercarpet"
           }
          ],
          "scattergeo": [
           {
            "marker": {
             "colorbar": {
              "outlinewidth": 0,
              "ticks": ""
             }
            },
            "type": "scattergeo"
           }
          ],
          "scattergl": [
           {
            "marker": {
             "colorbar": {
              "outlinewidth": 0,
              "ticks": ""
             }
            },
            "type": "scattergl"
           }
          ],
          "scattermapbox": [
           {
            "marker": {
             "colorbar": {
              "outlinewidth": 0,
              "ticks": ""
             }
            },
            "type": "scattermapbox"
           }
          ],
          "scatterpolar": [
           {
            "marker": {
             "colorbar": {
              "outlinewidth": 0,
              "ticks": ""
             }
            },
            "type": "scatterpolar"
           }
          ],
          "scatterpolargl": [
           {
            "marker": {
             "colorbar": {
              "outlinewidth": 0,
              "ticks": ""
             }
            },
            "type": "scatterpolargl"
           }
          ],
          "scatterternary": [
           {
            "marker": {
             "colorbar": {
              "outlinewidth": 0,
              "ticks": ""
             }
            },
            "type": "scatterternary"
           }
          ],
          "surface": [
           {
            "colorbar": {
             "outlinewidth": 0,
             "ticks": ""
            },
            "colorscale": [
             [
              0,
              "#0d0887"
             ],
             [
              0.1111111111111111,
              "#46039f"
             ],
             [
              0.2222222222222222,
              "#7201a8"
             ],
             [
              0.3333333333333333,
              "#9c179e"
             ],
             [
              0.4444444444444444,
              "#bd3786"
             ],
             [
              0.5555555555555556,
              "#d8576b"
             ],
             [
              0.6666666666666666,
              "#ed7953"
             ],
             [
              0.7777777777777778,
              "#fb9f3a"
             ],
             [
              0.8888888888888888,
              "#fdca26"
             ],
             [
              1,
              "#f0f921"
             ]
            ],
            "type": "surface"
           }
          ],
          "table": [
           {
            "cells": {
             "fill": {
              "color": "#EBF0F8"
             },
             "line": {
              "color": "white"
             }
            },
            "header": {
             "fill": {
              "color": "#C8D4E3"
             },
             "line": {
              "color": "white"
             }
            },
            "type": "table"
           }
          ]
         },
         "layout": {
          "annotationdefaults": {
           "arrowcolor": "#2a3f5f",
           "arrowhead": 0,
           "arrowwidth": 1
          },
          "autotypenumbers": "strict",
          "coloraxis": {
           "colorbar": {
            "outlinewidth": 0,
            "ticks": ""
           }
          },
          "colorscale": {
           "diverging": [
            [
             0,
             "#8e0152"
            ],
            [
             0.1,
             "#c51b7d"
            ],
            [
             0.2,
             "#de77ae"
            ],
            [
             0.3,
             "#f1b6da"
            ],
            [
             0.4,
             "#fde0ef"
            ],
            [
             0.5,
             "#f7f7f7"
            ],
            [
             0.6,
             "#e6f5d0"
            ],
            [
             0.7,
             "#b8e186"
            ],
            [
             0.8,
             "#7fbc41"
            ],
            [
             0.9,
             "#4d9221"
            ],
            [
             1,
             "#276419"
            ]
           ],
           "sequential": [
            [
             0,
             "#0d0887"
            ],
            [
             0.1111111111111111,
             "#46039f"
            ],
            [
             0.2222222222222222,
             "#7201a8"
            ],
            [
             0.3333333333333333,
             "#9c179e"
            ],
            [
             0.4444444444444444,
             "#bd3786"
            ],
            [
             0.5555555555555556,
             "#d8576b"
            ],
            [
             0.6666666666666666,
             "#ed7953"
            ],
            [
             0.7777777777777778,
             "#fb9f3a"
            ],
            [
             0.8888888888888888,
             "#fdca26"
            ],
            [
             1,
             "#f0f921"
            ]
           ],
           "sequentialminus": [
            [
             0,
             "#0d0887"
            ],
            [
             0.1111111111111111,
             "#46039f"
            ],
            [
             0.2222222222222222,
             "#7201a8"
            ],
            [
             0.3333333333333333,
             "#9c179e"
            ],
            [
             0.4444444444444444,
             "#bd3786"
            ],
            [
             0.5555555555555556,
             "#d8576b"
            ],
            [
             0.6666666666666666,
             "#ed7953"
            ],
            [
             0.7777777777777778,
             "#fb9f3a"
            ],
            [
             0.8888888888888888,
             "#fdca26"
            ],
            [
             1,
             "#f0f921"
            ]
           ]
          },
          "colorway": [
           "#636efa",
           "#EF553B",
           "#00cc96",
           "#ab63fa",
           "#FFA15A",
           "#19d3f3",
           "#FF6692",
           "#B6E880",
           "#FF97FF",
           "#FECB52"
          ],
          "font": {
           "color": "#2a3f5f"
          },
          "geo": {
           "bgcolor": "white",
           "lakecolor": "white",
           "landcolor": "#E5ECF6",
           "showlakes": true,
           "showland": true,
           "subunitcolor": "white"
          },
          "hoverlabel": {
           "align": "left"
          },
          "hovermode": "closest",
          "mapbox": {
           "style": "light"
          },
          "paper_bgcolor": "white",
          "plot_bgcolor": "#E5ECF6",
          "polar": {
           "angularaxis": {
            "gridcolor": "white",
            "linecolor": "white",
            "ticks": ""
           },
           "bgcolor": "#E5ECF6",
           "radialaxis": {
            "gridcolor": "white",
            "linecolor": "white",
            "ticks": ""
           }
          },
          "scene": {
           "xaxis": {
            "backgroundcolor": "#E5ECF6",
            "gridcolor": "white",
            "gridwidth": 2,
            "linecolor": "white",
            "showbackground": true,
            "ticks": "",
            "zerolinecolor": "white"
           },
           "yaxis": {
            "backgroundcolor": "#E5ECF6",
            "gridcolor": "white",
            "gridwidth": 2,
            "linecolor": "white",
            "showbackground": true,
            "ticks": "",
            "zerolinecolor": "white"
           },
           "zaxis": {
            "backgroundcolor": "#E5ECF6",
            "gridcolor": "white",
            "gridwidth": 2,
            "linecolor": "white",
            "showbackground": true,
            "ticks": "",
            "zerolinecolor": "white"
           }
          },
          "shapedefaults": {
           "line": {
            "color": "#2a3f5f"
           }
          },
          "ternary": {
           "aaxis": {
            "gridcolor": "white",
            "linecolor": "white",
            "ticks": ""
           },
           "baxis": {
            "gridcolor": "white",
            "linecolor": "white",
            "ticks": ""
           },
           "bgcolor": "#E5ECF6",
           "caxis": {
            "gridcolor": "white",
            "linecolor": "white",
            "ticks": ""
           }
          },
          "title": {
           "x": 0.05
          },
          "xaxis": {
           "automargin": true,
           "gridcolor": "white",
           "linecolor": "white",
           "ticks": "",
           "title": {
            "standoff": 15
           },
           "zerolinecolor": "white",
           "zerolinewidth": 2
          },
          "yaxis": {
           "automargin": true,
           "gridcolor": "white",
           "linecolor": "white",
           "ticks": "",
           "title": {
            "standoff": 15
           },
           "zerolinecolor": "white",
           "zerolinewidth": 2
          }
         }
        },
        "width": 1000
       }
      }
     },
     "metadata": {},
     "output_type": "display_data"
    }
   ],
   "source": [
    "fig1.show()\n",
    "fig2.show()"
   ]
  },
  {
   "cell_type": "markdown",
   "metadata": {},
   "source": [
    "OK they are alike, now we can continue with a minerva training infraestructure"
   ]
  },
  {
   "cell_type": "markdown",
   "metadata": {},
   "source": [
    "## Minerva's GANs training infrastructure"
   ]
  },
  {
   "cell_type": "markdown",
   "metadata": {},
   "source": [
    "### Datamodule parametrization"
   ]
  },
  {
   "cell_type": "code",
   "execution_count": 21,
   "metadata": {},
   "outputs": [],
   "source": [
    "datamodule = RandomDataModule(\n",
    "    data_shape = (6,60),\n",
    "    num_classes = 6,\n",
    "    num_train_samples = 8,\n",
    "    num_val_samples = 8,\n",
    "    num_test_samples= 8,\n",
    "    batch_size = 16,\n",
    ")"
   ]
  },
  {
   "cell_type": "code",
   "execution_count": 22,
   "metadata": {},
   "outputs": [
    {
     "name": "stdout",
     "output_type": "stream",
     "text": [
      "torch.Size([16, 6, 60]) torch.Size([16])\n"
     ]
    }
   ],
   "source": [
    "import numpy as np\n",
    "import torch\n",
    "from torch.utils.data import DataLoader, Dataset, random_split\n",
    "\n",
    "class CustomDataset(Dataset):\n",
    "    def __init__(self, data, labels):\n",
    "        self.data = data\n",
    "        self.labels = labels\n",
    "\n",
    "    def __len__(self):\n",
    "        return len(self.data)\n",
    "\n",
    "    def __getitem__(self, idx):\n",
    "        return self.data[idx], self.labels[idx]\n",
    "\n",
    "class CustomDataModule(L.LightningDataModule):\n",
    "    def __init__(self, data, labels, batch_size=16, val_split=0.2):\n",
    "        super().__init__()\n",
    "        self.data = data\n",
    "        self.labels = labels\n",
    "        self.batch_size = batch_size\n",
    "        self.val_split = val_split\n",
    "\n",
    "    def setup(self, stage=None):\n",
    "        dataset = CustomDataset(self.data, self.labels)\n",
    "        val_size = int(len(dataset) * self.val_split)\n",
    "        train_size = len(dataset) - val_size\n",
    "        self.train_dataset, self.val_dataset = random_split(dataset, [train_size, val_size])\n",
    "\n",
    "    def train_dataloader(self):\n",
    "        return DataLoader(self.train_dataset, batch_size=self.batch_size, shuffle=True)\n",
    "\n",
    "    def val_dataloader(self):\n",
    "        return DataLoader(self.val_dataset, batch_size=self.batch_size)\n",
    "\n",
    "    def test_dataloader(self):\n",
    "        return DataLoader(self.val_dataset, batch_size=self.batch_size)\n",
    "\n",
    "# Supondo que X seja seu dado com forma (36788, 6, 60)\n",
    "X = np.random.rand(36788, 6, 60).astype(np.float32)  # Certifique-se de que os dados sejam do tipo float32\n",
    "y = np.random.randint(0, 2, size=(36788,)).astype(np.float32)  # Rótulos fictícios para fins de exemplo\n",
    "X_tensor = torch.tensor(X)\n",
    "y_tensor = torch.tensor(y)\n",
    "\n",
    "# Crie o DataModule\n",
    "data_module = CustomDataModule(X_tensor, y_tensor, batch_size=16)\n",
    "\n",
    "# Configure o DataModule\n",
    "data_module.setup()\n",
    "\n",
    "# Acesse os dataloaders\n",
    "train_loader = data_module.train_dataloader()\n",
    "val_loader = data_module.val_dataloader()\n",
    "\n",
    "# Exemplo de iteração através do train_loader\n",
    "for batch in train_loader:\n",
    "    X_batch, y_batch = batch\n",
    "    print(X_batch.shape, y_batch.shape)  # Deve imprimir torch.Size([64, 6, 60]) torch.Size([64])\n",
    "    break"
   ]
  },
  {
   "cell_type": "code",
   "execution_count": 23,
   "metadata": {},
   "outputs": [],
   "source": [
    "data_module.setup()"
   ]
  },
  {
   "cell_type": "code",
   "execution_count": 24,
   "metadata": {},
   "outputs": [
    {
     "name": "stdout",
     "output_type": "stream",
     "text": [
      "torch.Size([8, 6, 60]) torch.Size([8])\n"
     ]
    }
   ],
   "source": [
    "datamodule.setup(\"fit\")\n",
    "train_dataloader = datamodule.train_dataloader()\n",
    "\n",
    "for x, y in train_dataloader:\n",
    "    print(x.shape, y.shape)\n",
    "    break"
   ]
  },
  {
   "cell_type": "markdown",
   "metadata": {},
   "source": [
    "### Defining Author GAN model"
   ]
  },
  {
   "cell_type": "code",
   "execution_count": 25,
   "metadata": {},
   "outputs": [
    {
     "data": {
      "text/plain": [
       "GAN(\n",
       "  (gen): Genera(\n",
       "    (l1): Linear(in_features=100, out_features=1024, bias=True)\n",
       "    (l2): BatchNorm1d(1024, eps=1e-05, momentum=0.1, affine=True, track_running_stats=True)\n",
       "    (l3): ConvTranspose1d(256, 128, kernel_size=(10,), stride=(2,), padding=(4,))\n",
       "    (l4): BatchNorm1d(128, eps=1e-05, momentum=0.1, affine=True, track_running_stats=True)\n",
       "    (l5): ConvTranspose1d(128, 64, kernel_size=(10,), stride=(2,), padding=(4,))\n",
       "    (l6): BatchNorm1d(64, eps=1e-05, momentum=0.1, affine=True, track_running_stats=True)\n",
       "    (l7): ConvTranspose1d(64, 32, kernel_size=(10,), stride=(2,), padding=(4,))\n",
       "    (l8): BatchNorm1d(32, eps=1e-05, momentum=0.1, affine=True, track_running_stats=True)\n",
       "    (l9): ConvTranspose1d(32, 6, kernel_size=(10,), stride=(2,), padding=(6,))\n",
       "  )\n",
       "  (dis): Discri(\n",
       "    (l1): Conv1d(6, 32, kernel_size=(10,), stride=(2,), padding=(6,))\n",
       "    (l2): Conv1d(32, 64, kernel_size=(10,), stride=(2,), padding=(4,))\n",
       "    (l3): Conv1d(64, 128, kernel_size=(10,), stride=(2,), padding=(4,))\n",
       "    (l4): BatchNorm1d(128, eps=1e-05, momentum=0.1, affine=True, track_running_stats=True)\n",
       "    (l5): Conv1d(128, 256, kernel_size=(10,), stride=(2,), padding=(4,))\n",
       "    (l6): BatchNorm1d(256, eps=1e-05, momentum=0.1, affine=True, track_running_stats=True)\n",
       "    (l7): Linear(in_features=1024, out_features=1, bias=True)\n",
       "  )\n",
       "  (loss_gen): MSELoss()\n",
       "  (loss_dis): MSELoss()\n",
       ")"
      ]
     },
     "execution_count": 25,
     "metadata": {},
     "output_type": "execute_result"
    }
   ],
   "source": [
    "generator = Genera().to(device)\n",
    "discriminator = Discri().to(device)\n",
    "\n",
    "model = GAN(generator = generator,\n",
    "            discriminator = discriminator, \n",
    "            loss_gen = torch.nn.MSELoss(),\n",
    "            loss_dis = torch.nn.MSELoss(),\n",
    "            )\n",
    "model"
   ]
  },
  {
   "cell_type": "markdown",
   "metadata": {},
   "source": [
    "### Training model"
   ]
  },
  {
   "cell_type": "code",
   "execution_count": 26,
   "metadata": {},
   "outputs": [],
   "source": [
    "from lightning.pytorch.loggers.csv_logs import CSVLogger\n",
    "\n",
    "logger = CSVLogger(save_dir='./training', name='tcgan', version = 'pytorch_version')"
   ]
  },
  {
   "cell_type": "code",
   "execution_count": 27,
   "metadata": {},
   "outputs": [
    {
     "name": "stderr",
     "output_type": "stream",
     "text": [
      "GPU available: True (cuda), used: False\n",
      "TPU available: False, using: 0 TPU cores\n",
      "HPU available: False, using: 0 HPUs\n",
      "/home/vinicius/Documentos/HIAAC/tcgan/.venv/lib/python3.10/site-packages/lightning/pytorch/trainer/setup.py:177: GPU available but not used. You can set it by doing `Trainer(accelerator='gpu')`.\n"
     ]
    }
   ],
   "source": [
    "trainer = L.Trainer(accelerator='cpu', devices=1, callbacks=[], logger=logger, max_epochs=n_epochs)"
   ]
  },
  {
   "cell_type": "code",
   "execution_count": 28,
   "metadata": {},
   "outputs": [
    {
     "name": "stderr",
     "output_type": "stream",
     "text": [
      "/home/vinicius/Documentos/HIAAC/tcgan/.venv/lib/python3.10/site-packages/lightning/fabric/loggers/csv_logs.py:268: Experiment logs directory ./training/tcgan/pytorch_version exists and is not empty. Previous log files in this directory will be deleted when the new ones are saved!\n",
      "/home/vinicius/Documentos/HIAAC/tcgan/.venv/lib/python3.10/site-packages/lightning/pytorch/callbacks/model_checkpoint.py:654: Checkpoint directory ./training/tcgan/pytorch_version/checkpoints exists and is not empty.\n",
      "\n",
      "  | Name     | Type    | Params | Mode \n",
      "---------------------------------------------\n",
      "0 | gen      | Genera  | 538 K  | train\n",
      "1 | dis      | Discri  | 434 K  | train\n",
      "2 | loss_gen | MSELoss | 0      | train\n",
      "3 | loss_dis | MSELoss | 0      | train\n",
      "---------------------------------------------\n",
      "972 K     Trainable params\n",
      "0         Non-trainable params\n",
      "972 K     Total params\n",
      "3.890     Total estimated model params size (MB)\n",
      "20        Modules in train mode\n",
      "0         Modules in eval mode\n"
     ]
    },
    {
     "name": "stdout",
     "output_type": "stream",
     "text": [
      "Sanity Checking DataLoader 0:   0%|          | 0/2 [00:00<?, ?it/s]"
     ]
    },
    {
     "name": "stderr",
     "output_type": "stream",
     "text": [
      "/home/vinicius/Documentos/HIAAC/tcgan/.venv/lib/python3.10/site-packages/lightning/pytorch/trainer/connectors/data_connector.py:425: The 'val_dataloader' does not have many workers which may be a bottleneck. Consider increasing the value of the `num_workers` argument` to `num_workers=11` in the `DataLoader` to improve performance.\n"
     ]
    },
    {
     "name": "stdout",
     "output_type": "stream",
     "text": [
      "                                                                           "
     ]
    },
    {
     "name": "stderr",
     "output_type": "stream",
     "text": [
      "/home/vinicius/Documentos/HIAAC/tcgan/.venv/lib/python3.10/site-packages/lightning/pytorch/trainer/connectors/data_connector.py:425: The 'train_dataloader' does not have many workers which may be a bottleneck. Consider increasing the value of the `num_workers` argument` to `num_workers=11` in the `DataLoader` to improve performance.\n"
     ]
    },
    {
     "name": "stdout",
     "output_type": "stream",
     "text": [
      "Epoch 49: 100%|██████████| 1840/1840 [01:23<00:00, 22.15it/s, v_num=sion]"
     ]
    },
    {
     "name": "stderr",
     "output_type": "stream",
     "text": [
      "`Trainer.fit` stopped: `max_epochs=50` reached.\n"
     ]
    },
    {
     "name": "stdout",
     "output_type": "stream",
     "text": [
      "Epoch 49: 100%|██████████| 1840/1840 [01:23<00:00, 22.14it/s, v_num=sion]\n"
     ]
    }
   ],
   "source": [
    "trainer.fit(model = model, datamodule = data_module)"
   ]
  },
  {
   "cell_type": "markdown",
   "metadata": {},
   "source": [
    "### Showing results"
   ]
  },
  {
   "cell_type": "code",
   "execution_count": 29,
   "metadata": {},
   "outputs": [
    {
     "name": "stdout",
     "output_type": "stream",
     "text": [
      "Validation Generator Losses: [1.1739956140518188, 0.20727160573005676, 1.139336109161377, 1.1708621978759766, 0.6219701766967773, 0.7014349699020386, 1.2439440488815308, 0.5976077914237976, 0.8966944813728333, 1.2088700532913208, 0.7200535535812378, 0.982118546962738, 0.624804675579071, 0.7283465266227722, 0.7145745754241943, 0.7256196141242981, 1.081599473953247, 1.1107177734375, 1.045938491821289, 0.62309330701828, 1.0877456665039062, 0.9895164966583252, 0.9265772104263306, 1.3178997039794922, 1.1810359954833984, 0.8669221997261047, 0.5444662570953369, 0.8117393255233765, 0.9602962136268616, 0.707416832447052, 0.9398605227470398, 0.5452127456665039, 0.8174925446510315, 0.7748663425445557, 0.8908532857894897, 0.8098768591880798, 1.103575348854065, 1.0193266868591309, 1.0550806522369385, 1.0470918416976929, 0.43386152386665344, 0.8961708545684814, 1.1434855461120605, 0.9869946241378784, 0.7692845463752747, 1.3722730875015259, 0.9243203401565552, 0.7196088433265686, 0.9202863574028015, 1.3023509979248047]\n",
      "Validation Discriminator Losses: [0.5638591647148132, 0.383873850107193, 0.3525514304637909, 0.3201135993003845, 0.19000181555747986, 0.19810327887535095, 0.3345009684562683, 0.182367205619812, 0.19523151218891144, 0.2793799936771393, 0.1325080841779709, 0.18904507160186768, 0.15785011649131775, 0.13866519927978516, 0.1815057098865509, 0.15783123672008514, 0.1857297718524933, 0.17932359874248505, 0.17373491823673248, 0.14260755479335785, 0.18702735006809235, 0.171464204788208, 0.14919565618038177, 0.40295809507369995, 0.19747044146060944, 0.09424859285354614, 0.1517384648323059, 0.10784518718719482, 0.2179705649614334, 0.16318181157112122, 0.13963103294372559, 0.17963147163391113, 0.08729494363069534, 0.1624254733324051, 0.08718502521514893, 0.10253448039293289, 0.2463192343711853, 0.18197421729564667, 0.11419100314378738, 0.12437736988067627, 0.20427952706813812, 0.11155093461275101, 0.1248355582356453, 0.13240498304367065, 0.10824166238307953, 0.21806637942790985, 0.09791088849306107, 0.10095327347517014, 0.1302834004163742, 0.2040225714445114]\n"
     ]
    }
   ],
   "source": [
    "import csv\n",
    "\n",
    "def extract_losses(file_path, validation_flag = True, training_flag = False):\n",
    "    train_generator_losses = []\n",
    "    train_discriminator_losses = []\n",
    "    validation_generator_losses = []\n",
    "    validation_discriminator_losses = []\n",
    "\n",
    "    with open(file_path, 'r') as file:\n",
    "        reader = csv.DictReader(file)\n",
    "        for row in reader:\n",
    "            if 'train_generator_loss' in row and row['train_generator_loss']:\n",
    "                train_generator_losses.append(float(row['train_generator_loss']))\n",
    "            if 'train_discriminator_loss' in row and row['train_discriminator_loss']:\n",
    "                train_discriminator_losses.append(float(row['train_discriminator_loss']))\n",
    "            if 'validation_generator_loss' in row and row['validation_generator_loss']:\n",
    "                validation_generator_losses.append(float(row['validation_generator_loss']))\n",
    "            if 'validation_discriminator_loss' in row and row['validation_discriminator_loss']:\n",
    "                validation_discriminator_losses.append(float(row['validation_discriminator_loss']))\n",
    "    if validation_flag and training_flag:\n",
    "        return train_generator_losses, train_discriminator_losses, validation_generator_losses, validation_discriminator_losses\n",
    "    elif validation_flag:\n",
    "        return validation_generator_losses, validation_discriminator_losses\n",
    "    else:\n",
    "        return train_generator_losses, train_discriminator_losses\n",
    "\n",
    "# Exemplo de uso\n",
    "file_path = '/home/vinicius/Documentos/HIAAC/tcgan/Minerva_experiments/training/tcgan/pytorch_version/metrics.csv'\n",
    "validation_generator_losses, validation_discriminator_losses = extract_losses(file_path)\n",
    "print(\"Validation Generator Losses:\", validation_generator_losses)\n",
    "print(\"Validation Discriminator Losses:\", validation_discriminator_losses)"
   ]
  },
  {
   "cell_type": "code",
   "execution_count": 30,
   "metadata": {},
   "outputs": [
    {
     "data": {
      "application/vnd.plotly.v1+json": {
       "config": {
        "plotlyServerURL": "https://plot.ly"
       },
       "data": [
        {
         "mode": "lines",
         "name": "dLoss",
         "showlegend": true,
         "type": "scatter",
         "y": [
          0.5638591647148132,
          0.383873850107193,
          0.3525514304637909,
          0.3201135993003845,
          0.19000181555747986,
          0.19810327887535095,
          0.3345009684562683,
          0.182367205619812,
          0.19523151218891144,
          0.2793799936771393,
          0.1325080841779709,
          0.18904507160186768,
          0.15785011649131775,
          0.13866519927978516,
          0.1815057098865509,
          0.15783123672008514,
          0.1857297718524933,
          0.17932359874248505,
          0.17373491823673248,
          0.14260755479335785,
          0.18702735006809235,
          0.171464204788208,
          0.14919565618038177,
          0.40295809507369995,
          0.19747044146060944,
          0.09424859285354614,
          0.1517384648323059,
          0.10784518718719482,
          0.2179705649614334,
          0.16318181157112122,
          0.13963103294372559,
          0.17963147163391113,
          0.08729494363069534,
          0.1624254733324051,
          0.08718502521514893,
          0.10253448039293289,
          0.2463192343711853,
          0.18197421729564667,
          0.11419100314378738,
          0.12437736988067627,
          0.20427952706813812,
          0.11155093461275101,
          0.1248355582356453,
          0.13240498304367065,
          0.10824166238307953,
          0.21806637942790985,
          0.09791088849306107,
          0.10095327347517014,
          0.1302834004163742,
          0.2040225714445114
         ]
        },
        {
         "mode": "lines",
         "name": "gLoss",
         "showlegend": true,
         "type": "scatter",
         "y": [
          1.1739956140518188,
          0.20727160573005676,
          1.139336109161377,
          1.1708621978759766,
          0.6219701766967773,
          0.7014349699020386,
          1.2439440488815308,
          0.5976077914237976,
          0.8966944813728333,
          1.2088700532913208,
          0.7200535535812378,
          0.982118546962738,
          0.624804675579071,
          0.7283465266227722,
          0.7145745754241943,
          0.7256196141242981,
          1.081599473953247,
          1.1107177734375,
          1.045938491821289,
          0.62309330701828,
          1.0877456665039062,
          0.9895164966583252,
          0.9265772104263306,
          1.3178997039794922,
          1.1810359954833984,
          0.8669221997261047,
          0.5444662570953369,
          0.8117393255233765,
          0.9602962136268616,
          0.707416832447052,
          0.9398605227470398,
          0.5452127456665039,
          0.8174925446510315,
          0.7748663425445557,
          0.8908532857894897,
          0.8098768591880798,
          1.103575348854065,
          1.0193266868591309,
          1.0550806522369385,
          1.0470918416976929,
          0.43386152386665344,
          0.8961708545684814,
          1.1434855461120605,
          0.9869946241378784,
          0.7692845463752747,
          1.3722730875015259,
          0.9243203401565552,
          0.7196088433265686,
          0.9202863574028015,
          1.3023509979248047
         ]
        }
       ],
       "layout": {
        "height": 600,
        "template": {
         "data": {
          "bar": [
           {
            "error_x": {
             "color": "#2a3f5f"
            },
            "error_y": {
             "color": "#2a3f5f"
            },
            "marker": {
             "line": {
              "color": "#E5ECF6",
              "width": 0.5
             },
             "pattern": {
              "fillmode": "overlay",
              "size": 10,
              "solidity": 0.2
             }
            },
            "type": "bar"
           }
          ],
          "barpolar": [
           {
            "marker": {
             "line": {
              "color": "#E5ECF6",
              "width": 0.5
             },
             "pattern": {
              "fillmode": "overlay",
              "size": 10,
              "solidity": 0.2
             }
            },
            "type": "barpolar"
           }
          ],
          "carpet": [
           {
            "aaxis": {
             "endlinecolor": "#2a3f5f",
             "gridcolor": "white",
             "linecolor": "white",
             "minorgridcolor": "white",
             "startlinecolor": "#2a3f5f"
            },
            "baxis": {
             "endlinecolor": "#2a3f5f",
             "gridcolor": "white",
             "linecolor": "white",
             "minorgridcolor": "white",
             "startlinecolor": "#2a3f5f"
            },
            "type": "carpet"
           }
          ],
          "choropleth": [
           {
            "colorbar": {
             "outlinewidth": 0,
             "ticks": ""
            },
            "type": "choropleth"
           }
          ],
          "contour": [
           {
            "colorbar": {
             "outlinewidth": 0,
             "ticks": ""
            },
            "colorscale": [
             [
              0,
              "#0d0887"
             ],
             [
              0.1111111111111111,
              "#46039f"
             ],
             [
              0.2222222222222222,
              "#7201a8"
             ],
             [
              0.3333333333333333,
              "#9c179e"
             ],
             [
              0.4444444444444444,
              "#bd3786"
             ],
             [
              0.5555555555555556,
              "#d8576b"
             ],
             [
              0.6666666666666666,
              "#ed7953"
             ],
             [
              0.7777777777777778,
              "#fb9f3a"
             ],
             [
              0.8888888888888888,
              "#fdca26"
             ],
             [
              1,
              "#f0f921"
             ]
            ],
            "type": "contour"
           }
          ],
          "contourcarpet": [
           {
            "colorbar": {
             "outlinewidth": 0,
             "ticks": ""
            },
            "type": "contourcarpet"
           }
          ],
          "heatmap": [
           {
            "colorbar": {
             "outlinewidth": 0,
             "ticks": ""
            },
            "colorscale": [
             [
              0,
              "#0d0887"
             ],
             [
              0.1111111111111111,
              "#46039f"
             ],
             [
              0.2222222222222222,
              "#7201a8"
             ],
             [
              0.3333333333333333,
              "#9c179e"
             ],
             [
              0.4444444444444444,
              "#bd3786"
             ],
             [
              0.5555555555555556,
              "#d8576b"
             ],
             [
              0.6666666666666666,
              "#ed7953"
             ],
             [
              0.7777777777777778,
              "#fb9f3a"
             ],
             [
              0.8888888888888888,
              "#fdca26"
             ],
             [
              1,
              "#f0f921"
             ]
            ],
            "type": "heatmap"
           }
          ],
          "heatmapgl": [
           {
            "colorbar": {
             "outlinewidth": 0,
             "ticks": ""
            },
            "colorscale": [
             [
              0,
              "#0d0887"
             ],
             [
              0.1111111111111111,
              "#46039f"
             ],
             [
              0.2222222222222222,
              "#7201a8"
             ],
             [
              0.3333333333333333,
              "#9c179e"
             ],
             [
              0.4444444444444444,
              "#bd3786"
             ],
             [
              0.5555555555555556,
              "#d8576b"
             ],
             [
              0.6666666666666666,
              "#ed7953"
             ],
             [
              0.7777777777777778,
              "#fb9f3a"
             ],
             [
              0.8888888888888888,
              "#fdca26"
             ],
             [
              1,
              "#f0f921"
             ]
            ],
            "type": "heatmapgl"
           }
          ],
          "histogram": [
           {
            "marker": {
             "pattern": {
              "fillmode": "overlay",
              "size": 10,
              "solidity": 0.2
             }
            },
            "type": "histogram"
           }
          ],
          "histogram2d": [
           {
            "colorbar": {
             "outlinewidth": 0,
             "ticks": ""
            },
            "colorscale": [
             [
              0,
              "#0d0887"
             ],
             [
              0.1111111111111111,
              "#46039f"
             ],
             [
              0.2222222222222222,
              "#7201a8"
             ],
             [
              0.3333333333333333,
              "#9c179e"
             ],
             [
              0.4444444444444444,
              "#bd3786"
             ],
             [
              0.5555555555555556,
              "#d8576b"
             ],
             [
              0.6666666666666666,
              "#ed7953"
             ],
             [
              0.7777777777777778,
              "#fb9f3a"
             ],
             [
              0.8888888888888888,
              "#fdca26"
             ],
             [
              1,
              "#f0f921"
             ]
            ],
            "type": "histogram2d"
           }
          ],
          "histogram2dcontour": [
           {
            "colorbar": {
             "outlinewidth": 0,
             "ticks": ""
            },
            "colorscale": [
             [
              0,
              "#0d0887"
             ],
             [
              0.1111111111111111,
              "#46039f"
             ],
             [
              0.2222222222222222,
              "#7201a8"
             ],
             [
              0.3333333333333333,
              "#9c179e"
             ],
             [
              0.4444444444444444,
              "#bd3786"
             ],
             [
              0.5555555555555556,
              "#d8576b"
             ],
             [
              0.6666666666666666,
              "#ed7953"
             ],
             [
              0.7777777777777778,
              "#fb9f3a"
             ],
             [
              0.8888888888888888,
              "#fdca26"
             ],
             [
              1,
              "#f0f921"
             ]
            ],
            "type": "histogram2dcontour"
           }
          ],
          "mesh3d": [
           {
            "colorbar": {
             "outlinewidth": 0,
             "ticks": ""
            },
            "type": "mesh3d"
           }
          ],
          "parcoords": [
           {
            "line": {
             "colorbar": {
              "outlinewidth": 0,
              "ticks": ""
             }
            },
            "type": "parcoords"
           }
          ],
          "pie": [
           {
            "automargin": true,
            "type": "pie"
           }
          ],
          "scatter": [
           {
            "fillpattern": {
             "fillmode": "overlay",
             "size": 10,
             "solidity": 0.2
            },
            "type": "scatter"
           }
          ],
          "scatter3d": [
           {
            "line": {
             "colorbar": {
              "outlinewidth": 0,
              "ticks": ""
             }
            },
            "marker": {
             "colorbar": {
              "outlinewidth": 0,
              "ticks": ""
             }
            },
            "type": "scatter3d"
           }
          ],
          "scattercarpet": [
           {
            "marker": {
             "colorbar": {
              "outlinewidth": 0,
              "ticks": ""
             }
            },
            "type": "scattercarpet"
           }
          ],
          "scattergeo": [
           {
            "marker": {
             "colorbar": {
              "outlinewidth": 0,
              "ticks": ""
             }
            },
            "type": "scattergeo"
           }
          ],
          "scattergl": [
           {
            "marker": {
             "colorbar": {
              "outlinewidth": 0,
              "ticks": ""
             }
            },
            "type": "scattergl"
           }
          ],
          "scattermapbox": [
           {
            "marker": {
             "colorbar": {
              "outlinewidth": 0,
              "ticks": ""
             }
            },
            "type": "scattermapbox"
           }
          ],
          "scatterpolar": [
           {
            "marker": {
             "colorbar": {
              "outlinewidth": 0,
              "ticks": ""
             }
            },
            "type": "scatterpolar"
           }
          ],
          "scatterpolargl": [
           {
            "marker": {
             "colorbar": {
              "outlinewidth": 0,
              "ticks": ""
             }
            },
            "type": "scatterpolargl"
           }
          ],
          "scatterternary": [
           {
            "marker": {
             "colorbar": {
              "outlinewidth": 0,
              "ticks": ""
             }
            },
            "type": "scatterternary"
           }
          ],
          "surface": [
           {
            "colorbar": {
             "outlinewidth": 0,
             "ticks": ""
            },
            "colorscale": [
             [
              0,
              "#0d0887"
             ],
             [
              0.1111111111111111,
              "#46039f"
             ],
             [
              0.2222222222222222,
              "#7201a8"
             ],
             [
              0.3333333333333333,
              "#9c179e"
             ],
             [
              0.4444444444444444,
              "#bd3786"
             ],
             [
              0.5555555555555556,
              "#d8576b"
             ],
             [
              0.6666666666666666,
              "#ed7953"
             ],
             [
              0.7777777777777778,
              "#fb9f3a"
             ],
             [
              0.8888888888888888,
              "#fdca26"
             ],
             [
              1,
              "#f0f921"
             ]
            ],
            "type": "surface"
           }
          ],
          "table": [
           {
            "cells": {
             "fill": {
              "color": "#EBF0F8"
             },
             "line": {
              "color": "white"
             }
            },
            "header": {
             "fill": {
              "color": "#C8D4E3"
             },
             "line": {
              "color": "white"
             }
            },
            "type": "table"
           }
          ]
         },
         "layout": {
          "annotationdefaults": {
           "arrowcolor": "#2a3f5f",
           "arrowhead": 0,
           "arrowwidth": 1
          },
          "autotypenumbers": "strict",
          "coloraxis": {
           "colorbar": {
            "outlinewidth": 0,
            "ticks": ""
           }
          },
          "colorscale": {
           "diverging": [
            [
             0,
             "#8e0152"
            ],
            [
             0.1,
             "#c51b7d"
            ],
            [
             0.2,
             "#de77ae"
            ],
            [
             0.3,
             "#f1b6da"
            ],
            [
             0.4,
             "#fde0ef"
            ],
            [
             0.5,
             "#f7f7f7"
            ],
            [
             0.6,
             "#e6f5d0"
            ],
            [
             0.7,
             "#b8e186"
            ],
            [
             0.8,
             "#7fbc41"
            ],
            [
             0.9,
             "#4d9221"
            ],
            [
             1,
             "#276419"
            ]
           ],
           "sequential": [
            [
             0,
             "#0d0887"
            ],
            [
             0.1111111111111111,
             "#46039f"
            ],
            [
             0.2222222222222222,
             "#7201a8"
            ],
            [
             0.3333333333333333,
             "#9c179e"
            ],
            [
             0.4444444444444444,
             "#bd3786"
            ],
            [
             0.5555555555555556,
             "#d8576b"
            ],
            [
             0.6666666666666666,
             "#ed7953"
            ],
            [
             0.7777777777777778,
             "#fb9f3a"
            ],
            [
             0.8888888888888888,
             "#fdca26"
            ],
            [
             1,
             "#f0f921"
            ]
           ],
           "sequentialminus": [
            [
             0,
             "#0d0887"
            ],
            [
             0.1111111111111111,
             "#46039f"
            ],
            [
             0.2222222222222222,
             "#7201a8"
            ],
            [
             0.3333333333333333,
             "#9c179e"
            ],
            [
             0.4444444444444444,
             "#bd3786"
            ],
            [
             0.5555555555555556,
             "#d8576b"
            ],
            [
             0.6666666666666666,
             "#ed7953"
            ],
            [
             0.7777777777777778,
             "#fb9f3a"
            ],
            [
             0.8888888888888888,
             "#fdca26"
            ],
            [
             1,
             "#f0f921"
            ]
           ]
          },
          "colorway": [
           "#636efa",
           "#EF553B",
           "#00cc96",
           "#ab63fa",
           "#FFA15A",
           "#19d3f3",
           "#FF6692",
           "#B6E880",
           "#FF97FF",
           "#FECB52"
          ],
          "font": {
           "color": "#2a3f5f"
          },
          "geo": {
           "bgcolor": "white",
           "lakecolor": "white",
           "landcolor": "#E5ECF6",
           "showlakes": true,
           "showland": true,
           "subunitcolor": "white"
          },
          "hoverlabel": {
           "align": "left"
          },
          "hovermode": "closest",
          "mapbox": {
           "style": "light"
          },
          "paper_bgcolor": "white",
          "plot_bgcolor": "#E5ECF6",
          "polar": {
           "angularaxis": {
            "gridcolor": "white",
            "linecolor": "white",
            "ticks": ""
           },
           "bgcolor": "#E5ECF6",
           "radialaxis": {
            "gridcolor": "white",
            "linecolor": "white",
            "ticks": ""
           }
          },
          "scene": {
           "xaxis": {
            "backgroundcolor": "#E5ECF6",
            "gridcolor": "white",
            "gridwidth": 2,
            "linecolor": "white",
            "showbackground": true,
            "ticks": "",
            "zerolinecolor": "white"
           },
           "yaxis": {
            "backgroundcolor": "#E5ECF6",
            "gridcolor": "white",
            "gridwidth": 2,
            "linecolor": "white",
            "showbackground": true,
            "ticks": "",
            "zerolinecolor": "white"
           },
           "zaxis": {
            "backgroundcolor": "#E5ECF6",
            "gridcolor": "white",
            "gridwidth": 2,
            "linecolor": "white",
            "showbackground": true,
            "ticks": "",
            "zerolinecolor": "white"
           }
          },
          "shapedefaults": {
           "line": {
            "color": "#2a3f5f"
           }
          },
          "ternary": {
           "aaxis": {
            "gridcolor": "white",
            "linecolor": "white",
            "ticks": ""
           },
           "baxis": {
            "gridcolor": "white",
            "linecolor": "white",
            "ticks": ""
           },
           "bgcolor": "#E5ECF6",
           "caxis": {
            "gridcolor": "white",
            "linecolor": "white",
            "ticks": ""
           }
          },
          "title": {
           "x": 0.05
          },
          "xaxis": {
           "automargin": true,
           "gridcolor": "white",
           "linecolor": "white",
           "ticks": "",
           "title": {
            "standoff": 15
           },
           "zerolinecolor": "white",
           "zerolinewidth": 2
          },
          "yaxis": {
           "automargin": true,
           "gridcolor": "white",
           "linecolor": "white",
           "ticks": "",
           "title": {
            "standoff": 15
           },
           "zerolinecolor": "white",
           "zerolinewidth": 2
          }
         }
        },
        "title": {
         "text": "TTSGAN Losses"
        },
        "width": 1000
       }
      }
     },
     "metadata": {},
     "output_type": "display_data"
    }
   ],
   "source": [
    "fig3 = go.Figure()\n",
    "\n",
    "fig3.add_trace(go.Scatter(y=validation_discriminator_losses, mode=\"lines\", showlegend=True, name='dLoss'))\n",
    "fig3.add_trace(go.Scatter(y=validation_generator_losses, mode=\"lines\", showlegend=True, name='gLoss'))\n",
    "fig3.update_layout(width=1000, height=600, title=\"TTSGAN Losses\")\n",
    "\n",
    "fig3.show()"
   ]
  },
  {
   "cell_type": "markdown",
   "metadata": {},
   "source": [
    "### Saving Model"
   ]
  },
  {
   "cell_type": "code",
   "execution_count": 31,
   "metadata": {},
   "outputs": [
    {
     "name": "stdout",
     "output_type": "stream",
     "text": [
      "saving model in  ./trained_models/1/experiment_5_author_minerva_training/model.pth\n"
     ]
    }
   ],
   "source": [
    "save_model(model.gen, model.dis, 4)"
   ]
  },
  {
   "cell_type": "markdown",
   "metadata": {},
   "source": [
    "### Training minerva-like model "
   ]
  },
  {
   "cell_type": "code",
   "execution_count": 32,
   "metadata": {},
   "outputs": [
    {
     "data": {
      "text/plain": [
       "GAN(\n",
       "  (gen): TCGAN_Generator(\n",
       "    (l1): Linear(in_features=100, out_features=1024, bias=True)\n",
       "    (l2): IgnoreWhenBatch1(\n",
       "      (module): BatchNorm1d(1024, eps=1e-05, momentum=0.1, affine=True, track_running_stats=True)\n",
       "    )\n",
       "    (l3): ConvTranspose1d(256, 128, kernel_size=(10,), stride=(2,), padding=(4,))\n",
       "    (l4): IgnoreWhenBatch1(\n",
       "      (module): BatchNorm1d(128, eps=1e-05, momentum=0.1, affine=True, track_running_stats=True)\n",
       "    )\n",
       "    (l5): ConvTranspose1d(128, 64, kernel_size=(10,), stride=(2,), padding=(4,))\n",
       "    (l6): IgnoreWhenBatch1(\n",
       "      (module): BatchNorm1d(64, eps=1e-05, momentum=0.1, affine=True, track_running_stats=True)\n",
       "    )\n",
       "    (l7): ConvTranspose1d(64, 32, kernel_size=(10,), stride=(2,), padding=(4,))\n",
       "    (l8): IgnoreWhenBatch1(\n",
       "      (module): BatchNorm1d(32, eps=1e-05, momentum=0.1, affine=True, track_running_stats=True)\n",
       "    )\n",
       "    (l9): ConvTranspose1d(32, 6, kernel_size=(10,), stride=(2,), padding=(6,))\n",
       "  )\n",
       "  (dis): TCGAN_Discriminator(\n",
       "    (l1): Conv1d(6, 32, kernel_size=(10,), stride=(2,), padding=(6,))\n",
       "    (l2): Conv1d(32, 64, kernel_size=(10,), stride=(2,), padding=(4,))\n",
       "    (l3): Conv1d(64, 128, kernel_size=(10,), stride=(2,), padding=(4,))\n",
       "    (l4): IgnoreWhenBatch1(\n",
       "      (module): BatchNorm1d(128, eps=1e-05, momentum=0.1, affine=True, track_running_stats=True)\n",
       "    )\n",
       "    (l5): Conv1d(128, 256, kernel_size=(10,), stride=(2,), padding=(4,))\n",
       "    (l6): IgnoreWhenBatch1(\n",
       "      (module): BatchNorm1d(256, eps=1e-05, momentum=0.1, affine=True, track_running_stats=True)\n",
       "    )\n",
       "    (l7): Linear(in_features=1024, out_features=1, bias=True)\n",
       "  )\n",
       "  (loss_gen): MSELoss()\n",
       "  (loss_dis): MSELoss()\n",
       ")"
      ]
     },
     "execution_count": 32,
     "metadata": {},
     "output_type": "execute_result"
    }
   ],
   "source": [
    "from TCGAN_model import TCGAN_Discriminator, TCGAN_Generator, TCGAN_Encoder\n",
    "\n",
    "generator = TCGAN_Generator().to(device)\n",
    "discriminator = TCGAN_Discriminator().to(device)\n",
    "\n",
    "model = GAN(generator = generator,\n",
    "            discriminator = discriminator, \n",
    "            loss_gen = torch.nn.MSELoss(),\n",
    "            loss_dis = torch.nn.MSELoss(),\n",
    "            )\n",
    "model"
   ]
  },
  {
   "cell_type": "code",
   "execution_count": 33,
   "metadata": {},
   "outputs": [],
   "source": [
    "from lightning.pytorch.loggers.csv_logs import CSVLogger\n",
    "\n",
    "logger = CSVLogger(save_dir='./training', name='tcgan', version = 'lightning_version')"
   ]
  },
  {
   "cell_type": "code",
   "execution_count": 34,
   "metadata": {},
   "outputs": [
    {
     "name": "stderr",
     "output_type": "stream",
     "text": [
      "GPU available: True (cuda), used: False\n",
      "TPU available: False, using: 0 TPU cores\n",
      "HPU available: False, using: 0 HPUs\n",
      "/home/vinicius/Documentos/HIAAC/tcgan/.venv/lib/python3.10/site-packages/lightning/pytorch/trainer/setup.py:177: PossibleUserWarning:\n",
      "\n",
      "GPU available but not used. You can set it by doing `Trainer(accelerator='gpu')`.\n",
      "\n"
     ]
    }
   ],
   "source": [
    "trainer = L.Trainer(accelerator='cpu', devices=1, callbacks=[], logger=logger, max_epochs=n_epochs)"
   ]
  },
  {
   "cell_type": "code",
   "execution_count": 35,
   "metadata": {},
   "outputs": [
    {
     "name": "stderr",
     "output_type": "stream",
     "text": [
      "/home/vinicius/Documentos/HIAAC/tcgan/.venv/lib/python3.10/site-packages/lightning/fabric/loggers/csv_logs.py:268: UserWarning:\n",
      "\n",
      "Experiment logs directory ./training/tcgan/lightning_version exists and is not empty. Previous log files in this directory will be deleted when the new ones are saved!\n",
      "\n",
      "/home/vinicius/Documentos/HIAAC/tcgan/.venv/lib/python3.10/site-packages/lightning/pytorch/callbacks/model_checkpoint.py:654: UserWarning:\n",
      "\n",
      "Checkpoint directory ./training/tcgan/lightning_version/checkpoints exists and is not empty.\n",
      "\n",
      "\n",
      "  | Name     | Type                | Params | Mode \n",
      "---------------------------------------------------------\n",
      "0 | gen      | TCGAN_Generator     | 538 K  | train\n",
      "1 | dis      | TCGAN_Discriminator | 434 K  | train\n",
      "2 | loss_gen | MSELoss             | 0      | train\n",
      "3 | loss_dis | MSELoss             | 0      | train\n",
      "---------------------------------------------------------\n",
      "972 K     Trainable params\n",
      "0         Non-trainable params\n",
      "972 K     Total params\n",
      "3.890     Total estimated model params size (MB)\n",
      "26        Modules in train mode\n",
      "0         Modules in eval mode\n"
     ]
    },
    {
     "name": "stdout",
     "output_type": "stream",
     "text": [
      "                                                                           "
     ]
    },
    {
     "name": "stderr",
     "output_type": "stream",
     "text": [
      "/home/vinicius/Documentos/HIAAC/tcgan/.venv/lib/python3.10/site-packages/lightning/pytorch/trainer/connectors/data_connector.py:425: PossibleUserWarning:\n",
      "\n",
      "The 'val_dataloader' does not have many workers which may be a bottleneck. Consider increasing the value of the `num_workers` argument` to `num_workers=11` in the `DataLoader` to improve performance.\n",
      "\n",
      "/home/vinicius/Documentos/HIAAC/tcgan/.venv/lib/python3.10/site-packages/lightning/pytorch/trainer/connectors/data_connector.py:425: PossibleUserWarning:\n",
      "\n",
      "The 'train_dataloader' does not have many workers which may be a bottleneck. Consider increasing the value of the `num_workers` argument` to `num_workers=11` in the `DataLoader` to improve performance.\n",
      "\n"
     ]
    },
    {
     "name": "stdout",
     "output_type": "stream",
     "text": [
      "Epoch 49: 100%|██████████| 1840/1840 [01:34<00:00, 19.46it/s, v_num=sion]"
     ]
    },
    {
     "name": "stderr",
     "output_type": "stream",
     "text": [
      "`Trainer.fit` stopped: `max_epochs=50` reached.\n"
     ]
    },
    {
     "name": "stdout",
     "output_type": "stream",
     "text": [
      "Epoch 49: 100%|██████████| 1840/1840 [01:34<00:00, 19.45it/s, v_num=sion]\n"
     ]
    }
   ],
   "source": [
    "trainer.fit(model = model, datamodule = data_module)"
   ]
  },
  {
   "cell_type": "markdown",
   "metadata": {},
   "source": [
    "### Showing results"
   ]
  },
  {
   "cell_type": "code",
   "execution_count": 36,
   "metadata": {},
   "outputs": [
    {
     "name": "stdout",
     "output_type": "stream",
     "text": [
      "Generator Losses: [0.6924839019775391, 0.7100145816802979, 0.40211114287376404, 0.5915735960006714, 0.5394300222396851, 0.47407451272010803, 0.33400338888168335, 0.16448168456554413, 0.4299050271511078, 0.3722344636917114, 0.2104463279247284, 0.20569011569023132, 0.272639662027359, 0.40887296199798584, 0.4397447407245636, 0.5041308999061584, 0.22415421903133392, 0.23799793422222137, 0.28869494795799255, 0.5372666120529175, 0.2814023792743683, 0.25985103845596313, 0.5226009488105774, 0.39150407910346985, 0.29857486486434937, 0.43611738085746765, 0.5742113590240479, 0.2158098965883255, 0.06081364303827286, 0.40614017844200134, 0.14416621625423431, 0.2893517017364502, 0.7982178330421448, 0.33114326000213623, 0.5280903577804565, 0.2500717341899872, 0.33995258808135986, 0.6957613825798035, 0.5351364612579346, 0.7674423456192017, 0.09676460176706314, 0.6032910943031311, 0.4553394615650177, 0.33588454127311707, 0.8109664916992188, 0.5363478064537048, 0.2244788110256195, 0.8605445027351379, 0.4613378047943115, 0.7413270473480225]\n",
      "Discriminator Losses: [0.09554935991764069, 0.1910889595746994, 0.2511095702648163, 0.1592867076396942, 0.29082030057907104, 0.3672443926334381, 0.43641260266304016, 0.5136304497718811, 0.4603232443332672, 0.445563405752182, 0.5417285561561584, 0.42779457569122314, 0.4325317144393921, 0.41413891315460205, 0.34541743993759155, 0.35132890939712524, 0.3662787079811096, 0.3850598633289337, 0.3700087368488312, 0.37957119941711426, 0.3910757601261139, 0.29101675748825073, 0.3031512200832367, 0.4090638756752014, 0.35790640115737915, 0.2166718989610672, 0.3985147178173065, 0.36276575922966003, 0.7509340047836304, 0.32523196935653687, 0.45695656538009644, 0.3024110198020935, 0.3547137677669525, 0.32963433861732483, 0.3200031518936157, 0.33768945932388306, 0.3546464443206787, 0.4388570785522461, 0.24922269582748413, 0.28810182213783264, 0.6922992467880249, 0.37384966015815735, 0.35633769631385803, 0.3040264844894409, 0.39247485995292664, 0.20098644495010376, 0.3343579173088074, 0.6645700335502625, 0.27724748849868774, 0.21736693382263184]\n"
     ]
    }
   ],
   "source": [
    "file_path = '/home/vinicius/Documentos/HIAAC/tcgan/Minerva_experiments/training/tcgan/lightning_version/metrics.csv'\n",
    "validation_generator_losses, validation_discriminator_losses = extract_losses(file_path)\n",
    "print(\"Generator Losses:\", validation_generator_losses)\n",
    "print(\"Discriminator Losses:\", validation_discriminator_losses)"
   ]
  },
  {
   "cell_type": "code",
   "execution_count": 41,
   "metadata": {},
   "outputs": [
    {
     "data": {
      "application/vnd.plotly.v1+json": {
       "config": {
        "plotlyServerURL": "https://plot.ly"
       },
       "data": [
        {
         "mode": "lines",
         "name": "dLoss",
         "showlegend": true,
         "type": "scatter",
         "y": [
          0.09554935991764069,
          0.1910889595746994,
          0.2511095702648163,
          0.1592867076396942,
          0.29082030057907104,
          0.3672443926334381,
          0.43641260266304016,
          0.5136304497718811,
          0.4603232443332672,
          0.445563405752182,
          0.5417285561561584,
          0.42779457569122314,
          0.4325317144393921,
          0.41413891315460205,
          0.34541743993759155,
          0.35132890939712524,
          0.3662787079811096,
          0.3850598633289337,
          0.3700087368488312,
          0.37957119941711426,
          0.3910757601261139,
          0.29101675748825073,
          0.3031512200832367,
          0.4090638756752014,
          0.35790640115737915,
          0.2166718989610672,
          0.3985147178173065,
          0.36276575922966003,
          0.7509340047836304,
          0.32523196935653687,
          0.45695656538009644,
          0.3024110198020935,
          0.3547137677669525,
          0.32963433861732483,
          0.3200031518936157,
          0.33768945932388306,
          0.3546464443206787,
          0.4388570785522461,
          0.24922269582748413,
          0.28810182213783264,
          0.6922992467880249,
          0.37384966015815735,
          0.35633769631385803,
          0.3040264844894409,
          0.39247485995292664,
          0.20098644495010376,
          0.3343579173088074,
          0.6645700335502625,
          0.27724748849868774,
          0.21736693382263184
         ]
        },
        {
         "mode": "lines",
         "name": "gLoss",
         "showlegend": true,
         "type": "scatter",
         "y": [
          0.6924839019775391,
          0.7100145816802979,
          0.40211114287376404,
          0.5915735960006714,
          0.5394300222396851,
          0.47407451272010803,
          0.33400338888168335,
          0.16448168456554413,
          0.4299050271511078,
          0.3722344636917114,
          0.2104463279247284,
          0.20569011569023132,
          0.272639662027359,
          0.40887296199798584,
          0.4397447407245636,
          0.5041308999061584,
          0.22415421903133392,
          0.23799793422222137,
          0.28869494795799255,
          0.5372666120529175,
          0.2814023792743683,
          0.25985103845596313,
          0.5226009488105774,
          0.39150407910346985,
          0.29857486486434937,
          0.43611738085746765,
          0.5742113590240479,
          0.2158098965883255,
          0.06081364303827286,
          0.40614017844200134,
          0.14416621625423431,
          0.2893517017364502,
          0.7982178330421448,
          0.33114326000213623,
          0.5280903577804565,
          0.2500717341899872,
          0.33995258808135986,
          0.6957613825798035,
          0.5351364612579346,
          0.7674423456192017,
          0.09676460176706314,
          0.6032910943031311,
          0.4553394615650177,
          0.33588454127311707,
          0.8109664916992188,
          0.5363478064537048,
          0.2244788110256195,
          0.8605445027351379,
          0.4613378047943115,
          0.7413270473480225
         ]
        }
       ],
       "layout": {
        "height": 600,
        "template": {
         "data": {
          "bar": [
           {
            "error_x": {
             "color": "#2a3f5f"
            },
            "error_y": {
             "color": "#2a3f5f"
            },
            "marker": {
             "line": {
              "color": "#E5ECF6",
              "width": 0.5
             },
             "pattern": {
              "fillmode": "overlay",
              "size": 10,
              "solidity": 0.2
             }
            },
            "type": "bar"
           }
          ],
          "barpolar": [
           {
            "marker": {
             "line": {
              "color": "#E5ECF6",
              "width": 0.5
             },
             "pattern": {
              "fillmode": "overlay",
              "size": 10,
              "solidity": 0.2
             }
            },
            "type": "barpolar"
           }
          ],
          "carpet": [
           {
            "aaxis": {
             "endlinecolor": "#2a3f5f",
             "gridcolor": "white",
             "linecolor": "white",
             "minorgridcolor": "white",
             "startlinecolor": "#2a3f5f"
            },
            "baxis": {
             "endlinecolor": "#2a3f5f",
             "gridcolor": "white",
             "linecolor": "white",
             "minorgridcolor": "white",
             "startlinecolor": "#2a3f5f"
            },
            "type": "carpet"
           }
          ],
          "choropleth": [
           {
            "colorbar": {
             "outlinewidth": 0,
             "ticks": ""
            },
            "type": "choropleth"
           }
          ],
          "contour": [
           {
            "colorbar": {
             "outlinewidth": 0,
             "ticks": ""
            },
            "colorscale": [
             [
              0,
              "#0d0887"
             ],
             [
              0.1111111111111111,
              "#46039f"
             ],
             [
              0.2222222222222222,
              "#7201a8"
             ],
             [
              0.3333333333333333,
              "#9c179e"
             ],
             [
              0.4444444444444444,
              "#bd3786"
             ],
             [
              0.5555555555555556,
              "#d8576b"
             ],
             [
              0.6666666666666666,
              "#ed7953"
             ],
             [
              0.7777777777777778,
              "#fb9f3a"
             ],
             [
              0.8888888888888888,
              "#fdca26"
             ],
             [
              1,
              "#f0f921"
             ]
            ],
            "type": "contour"
           }
          ],
          "contourcarpet": [
           {
            "colorbar": {
             "outlinewidth": 0,
             "ticks": ""
            },
            "type": "contourcarpet"
           }
          ],
          "heatmap": [
           {
            "colorbar": {
             "outlinewidth": 0,
             "ticks": ""
            },
            "colorscale": [
             [
              0,
              "#0d0887"
             ],
             [
              0.1111111111111111,
              "#46039f"
             ],
             [
              0.2222222222222222,
              "#7201a8"
             ],
             [
              0.3333333333333333,
              "#9c179e"
             ],
             [
              0.4444444444444444,
              "#bd3786"
             ],
             [
              0.5555555555555556,
              "#d8576b"
             ],
             [
              0.6666666666666666,
              "#ed7953"
             ],
             [
              0.7777777777777778,
              "#fb9f3a"
             ],
             [
              0.8888888888888888,
              "#fdca26"
             ],
             [
              1,
              "#f0f921"
             ]
            ],
            "type": "heatmap"
           }
          ],
          "heatmapgl": [
           {
            "colorbar": {
             "outlinewidth": 0,
             "ticks": ""
            },
            "colorscale": [
             [
              0,
              "#0d0887"
             ],
             [
              0.1111111111111111,
              "#46039f"
             ],
             [
              0.2222222222222222,
              "#7201a8"
             ],
             [
              0.3333333333333333,
              "#9c179e"
             ],
             [
              0.4444444444444444,
              "#bd3786"
             ],
             [
              0.5555555555555556,
              "#d8576b"
             ],
             [
              0.6666666666666666,
              "#ed7953"
             ],
             [
              0.7777777777777778,
              "#fb9f3a"
             ],
             [
              0.8888888888888888,
              "#fdca26"
             ],
             [
              1,
              "#f0f921"
             ]
            ],
            "type": "heatmapgl"
           }
          ],
          "histogram": [
           {
            "marker": {
             "pattern": {
              "fillmode": "overlay",
              "size": 10,
              "solidity": 0.2
             }
            },
            "type": "histogram"
           }
          ],
          "histogram2d": [
           {
            "colorbar": {
             "outlinewidth": 0,
             "ticks": ""
            },
            "colorscale": [
             [
              0,
              "#0d0887"
             ],
             [
              0.1111111111111111,
              "#46039f"
             ],
             [
              0.2222222222222222,
              "#7201a8"
             ],
             [
              0.3333333333333333,
              "#9c179e"
             ],
             [
              0.4444444444444444,
              "#bd3786"
             ],
             [
              0.5555555555555556,
              "#d8576b"
             ],
             [
              0.6666666666666666,
              "#ed7953"
             ],
             [
              0.7777777777777778,
              "#fb9f3a"
             ],
             [
              0.8888888888888888,
              "#fdca26"
             ],
             [
              1,
              "#f0f921"
             ]
            ],
            "type": "histogram2d"
           }
          ],
          "histogram2dcontour": [
           {
            "colorbar": {
             "outlinewidth": 0,
             "ticks": ""
            },
            "colorscale": [
             [
              0,
              "#0d0887"
             ],
             [
              0.1111111111111111,
              "#46039f"
             ],
             [
              0.2222222222222222,
              "#7201a8"
             ],
             [
              0.3333333333333333,
              "#9c179e"
             ],
             [
              0.4444444444444444,
              "#bd3786"
             ],
             [
              0.5555555555555556,
              "#d8576b"
             ],
             [
              0.6666666666666666,
              "#ed7953"
             ],
             [
              0.7777777777777778,
              "#fb9f3a"
             ],
             [
              0.8888888888888888,
              "#fdca26"
             ],
             [
              1,
              "#f0f921"
             ]
            ],
            "type": "histogram2dcontour"
           }
          ],
          "mesh3d": [
           {
            "colorbar": {
             "outlinewidth": 0,
             "ticks": ""
            },
            "type": "mesh3d"
           }
          ],
          "parcoords": [
           {
            "line": {
             "colorbar": {
              "outlinewidth": 0,
              "ticks": ""
             }
            },
            "type": "parcoords"
           }
          ],
          "pie": [
           {
            "automargin": true,
            "type": "pie"
           }
          ],
          "scatter": [
           {
            "fillpattern": {
             "fillmode": "overlay",
             "size": 10,
             "solidity": 0.2
            },
            "type": "scatter"
           }
          ],
          "scatter3d": [
           {
            "line": {
             "colorbar": {
              "outlinewidth": 0,
              "ticks": ""
             }
            },
            "marker": {
             "colorbar": {
              "outlinewidth": 0,
              "ticks": ""
             }
            },
            "type": "scatter3d"
           }
          ],
          "scattercarpet": [
           {
            "marker": {
             "colorbar": {
              "outlinewidth": 0,
              "ticks": ""
             }
            },
            "type": "scattercarpet"
           }
          ],
          "scattergeo": [
           {
            "marker": {
             "colorbar": {
              "outlinewidth": 0,
              "ticks": ""
             }
            },
            "type": "scattergeo"
           }
          ],
          "scattergl": [
           {
            "marker": {
             "colorbar": {
              "outlinewidth": 0,
              "ticks": ""
             }
            },
            "type": "scattergl"
           }
          ],
          "scattermapbox": [
           {
            "marker": {
             "colorbar": {
              "outlinewidth": 0,
              "ticks": ""
             }
            },
            "type": "scattermapbox"
           }
          ],
          "scatterpolar": [
           {
            "marker": {
             "colorbar": {
              "outlinewidth": 0,
              "ticks": ""
             }
            },
            "type": "scatterpolar"
           }
          ],
          "scatterpolargl": [
           {
            "marker": {
             "colorbar": {
              "outlinewidth": 0,
              "ticks": ""
             }
            },
            "type": "scatterpolargl"
           }
          ],
          "scatterternary": [
           {
            "marker": {
             "colorbar": {
              "outlinewidth": 0,
              "ticks": ""
             }
            },
            "type": "scatterternary"
           }
          ],
          "surface": [
           {
            "colorbar": {
             "outlinewidth": 0,
             "ticks": ""
            },
            "colorscale": [
             [
              0,
              "#0d0887"
             ],
             [
              0.1111111111111111,
              "#46039f"
             ],
             [
              0.2222222222222222,
              "#7201a8"
             ],
             [
              0.3333333333333333,
              "#9c179e"
             ],
             [
              0.4444444444444444,
              "#bd3786"
             ],
             [
              0.5555555555555556,
              "#d8576b"
             ],
             [
              0.6666666666666666,
              "#ed7953"
             ],
             [
              0.7777777777777778,
              "#fb9f3a"
             ],
             [
              0.8888888888888888,
              "#fdca26"
             ],
             [
              1,
              "#f0f921"
             ]
            ],
            "type": "surface"
           }
          ],
          "table": [
           {
            "cells": {
             "fill": {
              "color": "#EBF0F8"
             },
             "line": {
              "color": "white"
             }
            },
            "header": {
             "fill": {
              "color": "#C8D4E3"
             },
             "line": {
              "color": "white"
             }
            },
            "type": "table"
           }
          ]
         },
         "layout": {
          "annotationdefaults": {
           "arrowcolor": "#2a3f5f",
           "arrowhead": 0,
           "arrowwidth": 1
          },
          "autotypenumbers": "strict",
          "coloraxis": {
           "colorbar": {
            "outlinewidth": 0,
            "ticks": ""
           }
          },
          "colorscale": {
           "diverging": [
            [
             0,
             "#8e0152"
            ],
            [
             0.1,
             "#c51b7d"
            ],
            [
             0.2,
             "#de77ae"
            ],
            [
             0.3,
             "#f1b6da"
            ],
            [
             0.4,
             "#fde0ef"
            ],
            [
             0.5,
             "#f7f7f7"
            ],
            [
             0.6,
             "#e6f5d0"
            ],
            [
             0.7,
             "#b8e186"
            ],
            [
             0.8,
             "#7fbc41"
            ],
            [
             0.9,
             "#4d9221"
            ],
            [
             1,
             "#276419"
            ]
           ],
           "sequential": [
            [
             0,
             "#0d0887"
            ],
            [
             0.1111111111111111,
             "#46039f"
            ],
            [
             0.2222222222222222,
             "#7201a8"
            ],
            [
             0.3333333333333333,
             "#9c179e"
            ],
            [
             0.4444444444444444,
             "#bd3786"
            ],
            [
             0.5555555555555556,
             "#d8576b"
            ],
            [
             0.6666666666666666,
             "#ed7953"
            ],
            [
             0.7777777777777778,
             "#fb9f3a"
            ],
            [
             0.8888888888888888,
             "#fdca26"
            ],
            [
             1,
             "#f0f921"
            ]
           ],
           "sequentialminus": [
            [
             0,
             "#0d0887"
            ],
            [
             0.1111111111111111,
             "#46039f"
            ],
            [
             0.2222222222222222,
             "#7201a8"
            ],
            [
             0.3333333333333333,
             "#9c179e"
            ],
            [
             0.4444444444444444,
             "#bd3786"
            ],
            [
             0.5555555555555556,
             "#d8576b"
            ],
            [
             0.6666666666666666,
             "#ed7953"
            ],
            [
             0.7777777777777778,
             "#fb9f3a"
            ],
            [
             0.8888888888888888,
             "#fdca26"
            ],
            [
             1,
             "#f0f921"
            ]
           ]
          },
          "colorway": [
           "#636efa",
           "#EF553B",
           "#00cc96",
           "#ab63fa",
           "#FFA15A",
           "#19d3f3",
           "#FF6692",
           "#B6E880",
           "#FF97FF",
           "#FECB52"
          ],
          "font": {
           "color": "#2a3f5f"
          },
          "geo": {
           "bgcolor": "white",
           "lakecolor": "white",
           "landcolor": "#E5ECF6",
           "showlakes": true,
           "showland": true,
           "subunitcolor": "white"
          },
          "hoverlabel": {
           "align": "left"
          },
          "hovermode": "closest",
          "mapbox": {
           "style": "light"
          },
          "paper_bgcolor": "white",
          "plot_bgcolor": "#E5ECF6",
          "polar": {
           "angularaxis": {
            "gridcolor": "white",
            "linecolor": "white",
            "ticks": ""
           },
           "bgcolor": "#E5ECF6",
           "radialaxis": {
            "gridcolor": "white",
            "linecolor": "white",
            "ticks": ""
           }
          },
          "scene": {
           "xaxis": {
            "backgroundcolor": "#E5ECF6",
            "gridcolor": "white",
            "gridwidth": 2,
            "linecolor": "white",
            "showbackground": true,
            "ticks": "",
            "zerolinecolor": "white"
           },
           "yaxis": {
            "backgroundcolor": "#E5ECF6",
            "gridcolor": "white",
            "gridwidth": 2,
            "linecolor": "white",
            "showbackground": true,
            "ticks": "",
            "zerolinecolor": "white"
           },
           "zaxis": {
            "backgroundcolor": "#E5ECF6",
            "gridcolor": "white",
            "gridwidth": 2,
            "linecolor": "white",
            "showbackground": true,
            "ticks": "",
            "zerolinecolor": "white"
           }
          },
          "shapedefaults": {
           "line": {
            "color": "#2a3f5f"
           }
          },
          "ternary": {
           "aaxis": {
            "gridcolor": "white",
            "linecolor": "white",
            "ticks": ""
           },
           "baxis": {
            "gridcolor": "white",
            "linecolor": "white",
            "ticks": ""
           },
           "bgcolor": "#E5ECF6",
           "caxis": {
            "gridcolor": "white",
            "linecolor": "white",
            "ticks": ""
           }
          },
          "title": {
           "x": 0.05
          },
          "xaxis": {
           "automargin": true,
           "gridcolor": "white",
           "linecolor": "white",
           "ticks": "",
           "title": {
            "standoff": 15
           },
           "zerolinecolor": "white",
           "zerolinewidth": 2
          },
          "yaxis": {
           "automargin": true,
           "gridcolor": "white",
           "linecolor": "white",
           "ticks": "",
           "title": {
            "standoff": 15
           },
           "zerolinecolor": "white",
           "zerolinewidth": 2
          }
         }
        },
        "title": {
         "text": "TTSGAN Losses"
        },
        "width": 1000
       }
      }
     },
     "metadata": {},
     "output_type": "display_data"
    }
   ],
   "source": [
    "fig4 = go.Figure()\n",
    "\n",
    "fig4.add_trace(go.Scatter(y=validation_discriminator_losses, mode=\"lines\", showlegend=True, name='dLoss'))\n",
    "fig4.add_trace(go.Scatter(y=validation_generator_losses, mode=\"lines\", showlegend=True, name='gLoss'))\n",
    "fig4.update_layout(width=1000, height=600, title=\"TTSGAN Losses\")\n",
    "\n",
    "fig4.show()"
   ]
  },
  {
   "cell_type": "markdown",
   "metadata": {},
   "source": [
    "### Saving Model"
   ]
  },
  {
   "cell_type": "code",
   "execution_count": 42,
   "metadata": {},
   "outputs": [
    {
     "name": "stdout",
     "output_type": "stream",
     "text": [
      "saving model in  ./trained_models/1/experiment_6_enhanced_minerva_training/model.pth\n"
     ]
    }
   ],
   "source": [
    "save_model(model.gen, model.dis, 5)"
   ]
  }
 ],
 "metadata": {
  "kernelspec": {
   "display_name": ".venv",
   "language": "python",
   "name": "python3"
  },
  "language_info": {
   "codemirror_mode": {
    "name": "ipython",
    "version": 3
   },
   "file_extension": ".py",
   "mimetype": "text/x-python",
   "name": "python",
   "nbconvert_exporter": "python",
   "pygments_lexer": "ipython3",
   "version": "3.10.12"
  }
 },
 "nbformat": 4,
 "nbformat_minor": 2
}
